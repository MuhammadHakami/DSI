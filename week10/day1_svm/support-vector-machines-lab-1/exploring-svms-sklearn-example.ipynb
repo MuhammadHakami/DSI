{
 "cells": [
  {
   "cell_type": "markdown",
   "metadata": {},
   "source": [
    "<img src=\"http://imgur.com/1ZcRyrc.png\" style=\"float: left; margin: 20px; height: 55px\">\n",
    "\n",
    "# Exploring SVMs Using Sklearn\n",
    "\n",
    "\n",
    "---"
   ]
  },
  {
   "cell_type": "code",
   "execution_count": 18,
   "metadata": {},
   "outputs": [],
   "source": [
    "from sklearn.linear_model import LogisticRegression\n",
    "import numpy as np\n",
    "import matplotlib.pyplot as plt\n",
    "from sklearn import svm, linear_model, datasets\n",
    "from sklearn.model_selection import cross_val_score\n",
    "import pandas as pd\n",
    "plt.style.use('fivethirtyeight')\n",
    "\n",
    "%matplotlib inline\n",
    "%config InlineBackend.figure_format = 'retina'\n",
    "import seaborn as sns"
   ]
  },
  {
   "cell_type": "markdown",
   "metadata": {},
   "source": [
    "### 1. Load the handwritten digits dataset."
   ]
  },
  {
   "cell_type": "code",
   "execution_count": 2,
   "metadata": {},
   "outputs": [
    {
     "data": {
      "text/plain": [
       "array([[ 0.,  0.,  5., ...,  0.,  0.,  0.],\n",
       "       [ 0.,  0.,  0., ..., 10.,  0.,  0.],\n",
       "       [ 0.,  0.,  0., ..., 16.,  9.,  0.],\n",
       "       ...,\n",
       "       [ 0.,  0.,  1., ...,  6.,  0.,  0.],\n",
       "       [ 0.,  0.,  2., ..., 12.,  0.,  0.],\n",
       "       [ 0.,  0., 10., ..., 12.,  1.,  0.]])"
      ]
     },
     "execution_count": 2,
     "metadata": {},
     "output_type": "execute_result"
    }
   ],
   "source": [
    "digits = datasets.load_digits()\n",
    "digits.data"
   ]
  },
  {
   "cell_type": "code",
   "execution_count": 8,
   "metadata": {},
   "outputs": [
    {
     "name": "stdout",
     "output_type": "stream",
     "text": [
      "1797\n",
      "64\n"
     ]
    },
    {
     "data": {
      "image/png": "[encoded data removed]",
      "text/plain": [
       "<Figure size 432x288 with 1 Axes>"
      ]
     },
     "metadata": {
      "image/png": {
       "height": 244,
       "width": 241
      }
     },
     "output_type": "display_data"
    }
   ],
   "source": [
    "print(len(digits.data))      # 1,797 observations\n",
    "print(len(digits.data[0]))   # 8 x 8 pixel image\n",
    "\n",
    "# the number 9\n",
    "plt.imshow(digits.images[-21], cmap=plt.cm.gray_r, interpolation='nearest')\n",
    "plt.show()"
   ]
  },
  {
   "cell_type": "code",
   "execution_count": 7,
   "metadata": {},
   "outputs": [
    {
     "data": {
      "text/plain": [
       "5"
      ]
     },
     "execution_count": 7,
     "metadata": {},
     "output_type": "execute_result"
    }
   ],
   "source": [
    "digits.target[-21]"
   ]
  },
  {
   "cell_type": "code",
   "execution_count": 10,
   "metadata": {},
   "outputs": [],
   "source": [
    "X, y = digits.data, digits.target"
   ]
  },
  {
   "cell_type": "markdown",
   "metadata": {},
   "source": [
    "### 2. Cross-validate a logistic regression on the data."
   ]
  },
  {
   "cell_type": "code",
   "execution_count": 12,
   "metadata": {},
   "outputs": [
    {
     "name": "stdout",
     "output_type": "stream",
     "text": [
      "[0.92307692 0.88121547 0.94986072 0.95798319 0.89295775]\n"
     ]
    },
    {
     "data": {
      "text/plain": [
       "0.9210188113360701"
      ]
     },
     "execution_count": 12,
     "metadata": {},
     "output_type": "execute_result"
    }
   ],
   "source": [
    "# A:\n",
    "logistic = linear_model.LogisticRegression()\n",
    "scores = cross_val_score(logistic, X, y, cv=5, scoring='accuracy')\n",
    "print(scores)\n",
    "scores.mean()"
   ]
  },
  {
   "cell_type": "markdown",
   "metadata": {},
   "source": [
    "### 3. Cross-validate a SVM on the data.\n",
    "\n",
    "Hint: Check what is the default kernel used. Try some of the alternatives."
   ]
  },
  {
   "cell_type": "code",
   "execution_count": 13,
   "metadata": {},
   "outputs": [
    {
     "name": "stdout",
     "output_type": "stream",
     "text": [
      "[0.43406593 0.40883978 0.41504178 0.48739496 0.49859155]\n"
     ]
    },
    {
     "data": {
      "text/plain": [
       "0.44878680061604637"
      ]
     },
     "execution_count": 13,
     "metadata": {},
     "output_type": "execute_result"
    }
   ],
   "source": [
    "clf = svm.SVC()\n",
    "scores = cross_val_score(clf, X, y, cv=5, scoring='accuracy')\n",
    "print(scores)\n",
    "scores.mean()"
   ]
  },
  {
   "cell_type": "code",
   "execution_count": 22,
   "metadata": {},
   "outputs": [
    {
     "name": "stdout",
     "output_type": "stream",
     "text": [
      "[0.96428571 0.92265193 0.96657382 0.96358543 0.92957746]\n"
     ]
    },
    {
     "data": {
      "text/plain": [
       "0.9493348726211526"
      ]
     },
     "execution_count": 22,
     "metadata": {},
     "output_type": "execute_result"
    }
   ],
   "source": [
    "# A:\n",
    "clf = svm.SVC(kernel='linear')\n",
    "scores = cross_val_score(clf, X, y, cv=5, scoring='accuracy')\n",
    "print(scores)\n",
    "scores.mean()"
   ]
  },
  {
   "cell_type": "code",
   "execution_count": 26,
   "metadata": {},
   "outputs": [
    {
     "name": "stdout",
     "output_type": "stream",
     "text": [
      "[0.98351648 0.94475138 0.98050139 0.98879552 0.95211268]\n"
     ]
    },
    {
     "data": {
      "text/plain": [
       "0.9699354903506467"
      ]
     },
     "execution_count": 26,
     "metadata": {},
     "output_type": "execute_result"
    }
   ],
   "source": [
    "clf = svm.SVC(kernel='poly', degree=3)\n",
    "scores = cross_val_score(clf, X, y, cv=5, scoring='accuracy')\n",
    "print(scores)\n",
    "scores.mean()"
   ]
  },
  {
   "cell_type": "markdown",
   "metadata": {},
   "source": [
    "## Gaussian SVM has two parameters, gamma and C\n",
    "\n",
    "---\n",
    "\n",
    "### gamma\n",
    "\n",
    "Intuitively, the gamma parameter defines how far the influence of a single training example reaches, with low values meaning ‘far’ and high values meaning ‘close’. \n",
    "\n",
    "The higher the value of gamma, the more it will try to exactly fit the training data set. That will cause over-fitting problems.\n",
    "- Small gamma: The model is constrained and can under-fit!  It has high bias and low variance.\n",
    "- Large gamma: The model tries to capture the shape too well: it can over-fit!  It has low bias and high variance.\n",
    "\n",
    "\n",
    "\n",
    "### C\n",
    "\n",
    "`C` is the penalty parameter of the error term. It controls the trade off between smooth decision boundary and classifying the training points correctly. `C` can be thought of as the parameter for the soft margin cost function, which controls the influence of each individual support vector.\n",
    "\n",
    "- Small C: makes the decision surface smooth and simple, a softer margin can under-fit! Gives high bias and low variance.\n",
    "- Large C: selects more support vectors: can over-fit! Gives a harder margin, low bias and high variance."
   ]
  },
  {
   "cell_type": "markdown",
   "metadata": {},
   "source": [
    "### 4. Fit an SVM modifying the default gamma and C."
   ]
  },
  {
   "cell_type": "code",
   "execution_count": 28,
   "metadata": {},
   "outputs": [
    {
     "data": {
      "text/plain": [
       "0.015625"
      ]
     },
     "execution_count": 28,
     "metadata": {},
     "output_type": "execute_result"
    }
   ],
   "source": [
    "1 / X.shape[1]"
   ]
  },
  {
   "cell_type": "code",
   "execution_count": 31,
   "metadata": {},
   "outputs": [
    {
     "name": "stdout",
     "output_type": "stream",
     "text": [
      "[0.97527473 0.95027624 0.98328691 0.99159664 0.95774648]\n"
     ]
    },
    {
     "data": {
      "text/plain": [
       "0.9716361987950688"
      ]
     },
     "execution_count": 31,
     "metadata": {},
     "output_type": "execute_result"
    }
   ],
   "source": [
    "# A:\n",
    "clf = svm.SVC(gamma=.001, C=1)\n",
    "scores = cross_val_score(clf, X, y, cv=5, scoring='accuracy')\n",
    "print(scores)\n",
    "scores.mean()"
   ]
  },
  {
   "cell_type": "code",
   "execution_count": 46,
   "metadata": {},
   "outputs": [
    {
     "data": {
      "text/plain": [
       "array([1.00000000e-05, 1.43844989e-05, 2.06913808e-05, 2.97635144e-05,\n",
       "       4.28133240e-05, 6.15848211e-05, 8.85866790e-05, 1.27427499e-04,\n",
       "       1.83298071e-04, 2.63665090e-04, 3.79269019e-04, 5.45559478e-04,\n",
       "       7.84759970e-04, 1.12883789e-03, 1.62377674e-03, 2.33572147e-03,\n",
       "       3.35981829e-03, 4.83293024e-03, 6.95192796e-03, 1.00000000e-02])"
      ]
     },
     "execution_count": 46,
     "metadata": {},
     "output_type": "execute_result"
    }
   ],
   "source": [
    "np.logspace(-5,-2,20)"
   ]
  },
  {
   "cell_type": "markdown",
   "metadata": {},
   "source": [
    "### 5. Gridsearch an optimal gamma with C=1."
   ]
  },
  {
   "cell_type": "code",
   "execution_count": 56,
   "metadata": {},
   "outputs": [
    {
     "data": {
      "text/plain": [
       "GridSearchCV(cv=5, error_score='raise',\n",
       "       estimator=SVC(C=1, cache_size=200, class_weight=None, coef0=0.0,\n",
       "  decision_function_shape='ovr', degree=3, gamma='auto', kernel='rbf',\n",
       "  max_iter=-1, probability=False, random_state=42, shrinking=True,\n",
       "  tol=0.001, verbose=False),\n",
       "       fit_params=None, iid=True, n_jobs=1,\n",
       "       param_grid={'gamma': array([1.00000e-05, 4.64159e-05, 2.15443e-04, 1.00000e-03, 4.64159e-03,\n",
       "       2.15443e-02, 1.00000e-01, 4.64159e-01, 2.15443e+00, 1.00000e+01])},\n",
       "       pre_dispatch='2*n_jobs', refit=True, return_train_score='warn',\n",
       "       scoring='accuracy', verbose=0)"
      ]
     },
     "execution_count": 56,
     "metadata": {},
     "output_type": "execute_result"
    }
   ],
   "source": [
    "# A:\n",
    "from sklearn.model_selection import GridSearchCV\n",
    "\n",
    "clf = svm.SVC(C=1, random_state=42)\n",
    "gamma_values = np.logspace(-5,1,10)\n",
    "param_grid = dict(gamma=gamma_values)\n",
    "grid = GridSearchCV(clf, param_grid, cv=5, scoring='accuracy')\n",
    "grid.fit(X, y)"
   ]
  },
  {
   "cell_type": "code",
   "execution_count": 41,
   "metadata": {},
   "outputs": [
    {
     "name": "stderr",
     "output_type": "stream",
     "text": [
      "/anaconda3/lib/python3.6/site-packages/sklearn/utils/deprecation.py:122: FutureWarning: You are accessing a training score ('split0_train_score'), which will not be available by default any more in 0.21. If you need training scores, please set return_train_score=True\n",
      "  warnings.warn(*warn_args, **warn_kwargs)\n",
      "/anaconda3/lib/python3.6/site-packages/sklearn/utils/deprecation.py:122: FutureWarning: You are accessing a training score ('split1_train_score'), which will not be available by default any more in 0.21. If you need training scores, please set return_train_score=True\n",
      "  warnings.warn(*warn_args, **warn_kwargs)\n",
      "/anaconda3/lib/python3.6/site-packages/sklearn/utils/deprecation.py:122: FutureWarning: You are accessing a training score ('split2_train_score'), which will not be available by default any more in 0.21. If you need training scores, please set return_train_score=True\n",
      "  warnings.warn(*warn_args, **warn_kwargs)\n",
      "/anaconda3/lib/python3.6/site-packages/sklearn/utils/deprecation.py:122: FutureWarning: You are accessing a training score ('split3_train_score'), which will not be available by default any more in 0.21. If you need training scores, please set return_train_score=True\n",
      "  warnings.warn(*warn_args, **warn_kwargs)\n",
      "/anaconda3/lib/python3.6/site-packages/sklearn/utils/deprecation.py:122: FutureWarning: You are accessing a training score ('split4_train_score'), which will not be available by default any more in 0.21. If you need training scores, please set return_train_score=True\n",
      "  warnings.warn(*warn_args, **warn_kwargs)\n",
      "/anaconda3/lib/python3.6/site-packages/sklearn/utils/deprecation.py:122: FutureWarning: You are accessing a training score ('mean_train_score'), which will not be available by default any more in 0.21. If you need training scores, please set return_train_score=True\n",
      "  warnings.warn(*warn_args, **warn_kwargs)\n",
      "/anaconda3/lib/python3.6/site-packages/sklearn/utils/deprecation.py:122: FutureWarning: You are accessing a training score ('std_train_score'), which will not be available by default any more in 0.21. If you need training scores, please set return_train_score=True\n",
      "  warnings.warn(*warn_args, **warn_kwargs)\n"
     ]
    },
    {
     "data": {
      "text/html": [
       "<div>\n",
       "<style scoped>\n",
       "    .dataframe tbody tr th:only-of-type {\n",
       "        vertical-align: middle;\n",
       "    }\n",
       "\n",
       "    .dataframe tbody tr th {\n",
       "        vertical-align: top;\n",
       "    }\n",
       "\n",
       "    .dataframe thead th {\n",
       "        text-align: right;\n",
       "    }\n",
       "</style>\n",
       "<table border=\"1\" class=\"dataframe\">\n",
       "  <thead>\n",
       "    <tr style=\"text-align: right;\">\n",
       "      <th></th>\n",
       "      <th>mean_fit_time</th>\n",
       "      <th>std_fit_time</th>\n",
       "      <th>mean_score_time</th>\n",
       "      <th>std_score_time</th>\n",
       "      <th>param_gamma</th>\n",
       "      <th>params</th>\n",
       "      <th>split0_test_score</th>\n",
       "      <th>split1_test_score</th>\n",
       "      <th>split2_test_score</th>\n",
       "      <th>split3_test_score</th>\n",
       "      <th>...</th>\n",
       "      <th>mean_test_score</th>\n",
       "      <th>std_test_score</th>\n",
       "      <th>rank_test_score</th>\n",
       "      <th>split0_train_score</th>\n",
       "      <th>split1_train_score</th>\n",
       "      <th>split2_train_score</th>\n",
       "      <th>split3_train_score</th>\n",
       "      <th>split4_train_score</th>\n",
       "      <th>mean_train_score</th>\n",
       "      <th>std_train_score</th>\n",
       "    </tr>\n",
       "  </thead>\n",
       "  <tbody>\n",
       "    <tr>\n",
       "      <th>0</th>\n",
       "      <td>0.190665</td>\n",
       "      <td>0.008604</td>\n",
       "      <td>0.034871</td>\n",
       "      <td>0.000565</td>\n",
       "      <td>1e-05</td>\n",
       "      <td>{'gamma': 1e-05}</td>\n",
       "      <td>0.890110</td>\n",
       "      <td>0.853591</td>\n",
       "      <td>0.894150</td>\n",
       "      <td>0.935574</td>\n",
       "      <td>...</td>\n",
       "      <td>0.885364</td>\n",
       "      <td>0.030406</td>\n",
       "      <td>4</td>\n",
       "      <td>0.929518</td>\n",
       "      <td>0.919861</td>\n",
       "      <td>0.916551</td>\n",
       "      <td>0.907639</td>\n",
       "      <td>0.925798</td>\n",
       "      <td>0.919873</td>\n",
       "      <td>0.007601</td>\n",
       "    </tr>\n",
       "    <tr>\n",
       "      <th>1</th>\n",
       "      <td>0.079263</td>\n",
       "      <td>0.004336</td>\n",
       "      <td>0.023576</td>\n",
       "      <td>0.000502</td>\n",
       "      <td>5.99484e-05</td>\n",
       "      <td>{'gamma': 5.994842503189409e-05}</td>\n",
       "      <td>0.931319</td>\n",
       "      <td>0.919890</td>\n",
       "      <td>0.963788</td>\n",
       "      <td>0.971989</td>\n",
       "      <td>...</td>\n",
       "      <td>0.937674</td>\n",
       "      <td>0.026493</td>\n",
       "      <td>3</td>\n",
       "      <td>0.970691</td>\n",
       "      <td>0.977003</td>\n",
       "      <td>0.973574</td>\n",
       "      <td>0.968750</td>\n",
       "      <td>0.979889</td>\n",
       "      <td>0.973982</td>\n",
       "      <td>0.004059</td>\n",
       "    </tr>\n",
       "    <tr>\n",
       "      <th>2</th>\n",
       "      <td>0.049112</td>\n",
       "      <td>0.001380</td>\n",
       "      <td>0.015033</td>\n",
       "      <td>0.000593</td>\n",
       "      <td>0.000359381</td>\n",
       "      <td>{'gamma': 0.00035938136638046257}</td>\n",
       "      <td>0.958791</td>\n",
       "      <td>0.944751</td>\n",
       "      <td>0.983287</td>\n",
       "      <td>0.988796</td>\n",
       "      <td>...</td>\n",
       "      <td>0.963272</td>\n",
       "      <td>0.019544</td>\n",
       "      <td>2</td>\n",
       "      <td>0.997906</td>\n",
       "      <td>0.995819</td>\n",
       "      <td>0.995132</td>\n",
       "      <td>0.996528</td>\n",
       "      <td>0.996533</td>\n",
       "      <td>0.996384</td>\n",
       "      <td>0.000922</td>\n",
       "    </tr>\n",
       "    <tr>\n",
       "      <th>3</th>\n",
       "      <td>0.158968</td>\n",
       "      <td>0.004776</td>\n",
       "      <td>0.020592</td>\n",
       "      <td>0.000712</td>\n",
       "      <td>0.00215443</td>\n",
       "      <td>{'gamma': 0.0021544346900318843}</td>\n",
       "      <td>0.958791</td>\n",
       "      <td>0.944751</td>\n",
       "      <td>0.980501</td>\n",
       "      <td>0.991597</td>\n",
       "      <td>...</td>\n",
       "      <td>0.965498</td>\n",
       "      <td>0.017649</td>\n",
       "      <td>1</td>\n",
       "      <td>1.000000</td>\n",
       "      <td>1.000000</td>\n",
       "      <td>1.000000</td>\n",
       "      <td>1.000000</td>\n",
       "      <td>1.000000</td>\n",
       "      <td>1.000000</td>\n",
       "      <td>0.000000</td>\n",
       "    </tr>\n",
       "    <tr>\n",
       "      <th>4</th>\n",
       "      <td>0.292356</td>\n",
       "      <td>0.021774</td>\n",
       "      <td>0.034273</td>\n",
       "      <td>0.001141</td>\n",
       "      <td>0.0129155</td>\n",
       "      <td>{'gamma': 0.01291549665014884}</td>\n",
       "      <td>0.565934</td>\n",
       "      <td>0.535912</td>\n",
       "      <td>0.532033</td>\n",
       "      <td>0.607843</td>\n",
       "      <td>...</td>\n",
       "      <td>0.565387</td>\n",
       "      <td>0.028960</td>\n",
       "      <td>5</td>\n",
       "      <td>1.000000</td>\n",
       "      <td>1.000000</td>\n",
       "      <td>1.000000</td>\n",
       "      <td>1.000000</td>\n",
       "      <td>1.000000</td>\n",
       "      <td>1.000000</td>\n",
       "      <td>0.000000</td>\n",
       "    </tr>\n",
       "    <tr>\n",
       "      <th>5</th>\n",
       "      <td>0.281994</td>\n",
       "      <td>0.002756</td>\n",
       "      <td>0.033459</td>\n",
       "      <td>0.000905</td>\n",
       "      <td>0.0774264</td>\n",
       "      <td>{'gamma': 0.0774263682681127}</td>\n",
       "      <td>0.101648</td>\n",
       "      <td>0.102210</td>\n",
       "      <td>0.114206</td>\n",
       "      <td>0.103641</td>\n",
       "      <td>...</td>\n",
       "      <td>0.104619</td>\n",
       "      <td>0.004852</td>\n",
       "      <td>7</td>\n",
       "      <td>1.000000</td>\n",
       "      <td>1.000000</td>\n",
       "      <td>1.000000</td>\n",
       "      <td>1.000000</td>\n",
       "      <td>1.000000</td>\n",
       "      <td>1.000000</td>\n",
       "      <td>0.000000</td>\n",
       "    </tr>\n",
       "    <tr>\n",
       "      <th>6</th>\n",
       "      <td>0.281836</td>\n",
       "      <td>0.003215</td>\n",
       "      <td>0.037458</td>\n",
       "      <td>0.000719</td>\n",
       "      <td>0.464159</td>\n",
       "      <td>{'gamma': 0.4641588833612782}</td>\n",
       "      <td>0.101648</td>\n",
       "      <td>0.102210</td>\n",
       "      <td>0.103064</td>\n",
       "      <td>0.100840</td>\n",
       "      <td>...</td>\n",
       "      <td>0.101836</td>\n",
       "      <td>0.000755</td>\n",
       "      <td>8</td>\n",
       "      <td>1.000000</td>\n",
       "      <td>1.000000</td>\n",
       "      <td>1.000000</td>\n",
       "      <td>1.000000</td>\n",
       "      <td>1.000000</td>\n",
       "      <td>1.000000</td>\n",
       "      <td>0.000000</td>\n",
       "    </tr>\n",
       "    <tr>\n",
       "      <th>7</th>\n",
       "      <td>0.218144</td>\n",
       "      <td>0.002076</td>\n",
       "      <td>0.027819</td>\n",
       "      <td>0.001025</td>\n",
       "      <td>2.78256</td>\n",
       "      <td>{'gamma': 2.782559402207126}</td>\n",
       "      <td>0.101648</td>\n",
       "      <td>0.102210</td>\n",
       "      <td>0.128134</td>\n",
       "      <td>0.100840</td>\n",
       "      <td>...</td>\n",
       "      <td>0.106845</td>\n",
       "      <td>0.010646</td>\n",
       "      <td>6</td>\n",
       "      <td>1.000000</td>\n",
       "      <td>1.000000</td>\n",
       "      <td>1.000000</td>\n",
       "      <td>1.000000</td>\n",
       "      <td>1.000000</td>\n",
       "      <td>1.000000</td>\n",
       "      <td>0.000000</td>\n",
       "    </tr>\n",
       "    <tr>\n",
       "      <th>8</th>\n",
       "      <td>0.237847</td>\n",
       "      <td>0.032527</td>\n",
       "      <td>0.029306</td>\n",
       "      <td>0.001971</td>\n",
       "      <td>16.681</td>\n",
       "      <td>{'gamma': 16.68100537200059}</td>\n",
       "      <td>0.101648</td>\n",
       "      <td>0.102210</td>\n",
       "      <td>0.100279</td>\n",
       "      <td>0.100840</td>\n",
       "      <td>...</td>\n",
       "      <td>0.101280</td>\n",
       "      <td>0.000666</td>\n",
       "      <td>9</td>\n",
       "      <td>1.000000</td>\n",
       "      <td>1.000000</td>\n",
       "      <td>1.000000</td>\n",
       "      <td>1.000000</td>\n",
       "      <td>1.000000</td>\n",
       "      <td>1.000000</td>\n",
       "      <td>0.000000</td>\n",
       "    </tr>\n",
       "    <tr>\n",
       "      <th>9</th>\n",
       "      <td>0.229210</td>\n",
       "      <td>0.008496</td>\n",
       "      <td>0.029465</td>\n",
       "      <td>0.001091</td>\n",
       "      <td>100</td>\n",
       "      <td>{'gamma': 100.0}</td>\n",
       "      <td>0.101648</td>\n",
       "      <td>0.102210</td>\n",
       "      <td>0.100279</td>\n",
       "      <td>0.100840</td>\n",
       "      <td>...</td>\n",
       "      <td>0.101280</td>\n",
       "      <td>0.000666</td>\n",
       "      <td>9</td>\n",
       "      <td>1.000000</td>\n",
       "      <td>1.000000</td>\n",
       "      <td>1.000000</td>\n",
       "      <td>1.000000</td>\n",
       "      <td>1.000000</td>\n",
       "      <td>1.000000</td>\n",
       "      <td>0.000000</td>\n",
       "    </tr>\n",
       "  </tbody>\n",
       "</table>\n",
       "<p>10 rows × 21 columns</p>\n",
       "</div>"
      ],
      "text/plain": [
       "   mean_fit_time  std_fit_time  mean_score_time  std_score_time  param_gamma  \\\n",
       "0       0.190665      0.008604         0.034871        0.000565        1e-05   \n",
       "1       0.079263      0.004336         0.023576        0.000502  5.99484e-05   \n",
       "2       0.049112      0.001380         0.015033        0.000593  0.000359381   \n",
       "3       0.158968      0.004776         0.020592        0.000712   0.00215443   \n",
       "4       0.292356      0.021774         0.034273        0.001141    0.0129155   \n",
       "5       0.281994      0.002756         0.033459        0.000905    0.0774264   \n",
       "6       0.281836      0.003215         0.037458        0.000719     0.464159   \n",
       "7       0.218144      0.002076         0.027819        0.001025      2.78256   \n",
       "8       0.237847      0.032527         0.029306        0.001971       16.681   \n",
       "9       0.229210      0.008496         0.029465        0.001091          100   \n",
       "\n",
       "                              params  split0_test_score  split1_test_score  \\\n",
       "0                   {'gamma': 1e-05}           0.890110           0.853591   \n",
       "1   {'gamma': 5.994842503189409e-05}           0.931319           0.919890   \n",
       "2  {'gamma': 0.00035938136638046257}           0.958791           0.944751   \n",
       "3   {'gamma': 0.0021544346900318843}           0.958791           0.944751   \n",
       "4     {'gamma': 0.01291549665014884}           0.565934           0.535912   \n",
       "5      {'gamma': 0.0774263682681127}           0.101648           0.102210   \n",
       "6      {'gamma': 0.4641588833612782}           0.101648           0.102210   \n",
       "7       {'gamma': 2.782559402207126}           0.101648           0.102210   \n",
       "8       {'gamma': 16.68100537200059}           0.101648           0.102210   \n",
       "9                   {'gamma': 100.0}           0.101648           0.102210   \n",
       "\n",
       "   split2_test_score  split3_test_score       ...         mean_test_score  \\\n",
       "0           0.894150           0.935574       ...                0.885364   \n",
       "1           0.963788           0.971989       ...                0.937674   \n",
       "2           0.983287           0.988796       ...                0.963272   \n",
       "3           0.980501           0.991597       ...                0.965498   \n",
       "4           0.532033           0.607843       ...                0.565387   \n",
       "5           0.114206           0.103641       ...                0.104619   \n",
       "6           0.103064           0.100840       ...                0.101836   \n",
       "7           0.128134           0.100840       ...                0.106845   \n",
       "8           0.100279           0.100840       ...                0.101280   \n",
       "9           0.100279           0.100840       ...                0.101280   \n",
       "\n",
       "   std_test_score  rank_test_score  split0_train_score  split1_train_score  \\\n",
       "0        0.030406                4            0.929518            0.919861   \n",
       "1        0.026493                3            0.970691            0.977003   \n",
       "2        0.019544                2            0.997906            0.995819   \n",
       "3        0.017649                1            1.000000            1.000000   \n",
       "4        0.028960                5            1.000000            1.000000   \n",
       "5        0.004852                7            1.000000            1.000000   \n",
       "6        0.000755                8            1.000000            1.000000   \n",
       "7        0.010646                6            1.000000            1.000000   \n",
       "8        0.000666                9            1.000000            1.000000   \n",
       "9        0.000666                9            1.000000            1.000000   \n",
       "\n",
       "   split2_train_score  split3_train_score  split4_train_score  \\\n",
       "0            0.916551            0.907639            0.925798   \n",
       "1            0.973574            0.968750            0.979889   \n",
       "2            0.995132            0.996528            0.996533   \n",
       "3            1.000000            1.000000            1.000000   \n",
       "4            1.000000            1.000000            1.000000   \n",
       "5            1.000000            1.000000            1.000000   \n",
       "6            1.000000            1.000000            1.000000   \n",
       "7            1.000000            1.000000            1.000000   \n",
       "8            1.000000            1.000000            1.000000   \n",
       "9            1.000000            1.000000            1.000000   \n",
       "\n",
       "   mean_train_score  std_train_score  \n",
       "0          0.919873         0.007601  \n",
       "1          0.973982         0.004059  \n",
       "2          0.996384         0.000922  \n",
       "3          1.000000         0.000000  \n",
       "4          1.000000         0.000000  \n",
       "5          1.000000         0.000000  \n",
       "6          1.000000         0.000000  \n",
       "7          1.000000         0.000000  \n",
       "8          1.000000         0.000000  \n",
       "9          1.000000         0.000000  \n",
       "\n",
       "[10 rows x 21 columns]"
      ]
     },
     "execution_count": 41,
     "metadata": {},
     "output_type": "execute_result"
    }
   ],
   "source": [
    "pd.DataFrame(grid.cv_results_)"
   ]
  },
  {
   "cell_type": "code",
   "execution_count": 51,
   "metadata": {},
   "outputs": [
    {
     "data": {
      "text/plain": [
       "0.9654980523094046"
      ]
     },
     "execution_count": 51,
     "metadata": {},
     "output_type": "execute_result"
    }
   ],
   "source": [
    "grid.best_score_"
   ]
  },
  {
   "cell_type": "code",
   "execution_count": 50,
   "metadata": {},
   "outputs": [
    {
     "data": {
      "text/plain": [
       "[1e-05,\n",
       " 5.994842503189409e-05,\n",
       " 0.00035938136638046257,\n",
       " 0.0021544346900318843,\n",
       " 0.01291549665014884,\n",
       " 0.0774263682681127,\n",
       " 0.4641588833612782,\n",
       " 2.782559402207126,\n",
       " 16.68100537200059,\n",
       " 100.0]"
      ]
     },
     "execution_count": 50,
     "metadata": {},
     "output_type": "execute_result"
    }
   ],
   "source": [
    "[x['gamma'] for x in df.params.values]"
   ]
  },
  {
   "cell_type": "code",
   "execution_count": 57,
   "metadata": {},
   "outputs": [
    {
     "name": "stderr",
     "output_type": "stream",
     "text": [
      "/anaconda3/lib/python3.6/site-packages/sklearn/utils/deprecation.py:122: FutureWarning: You are accessing a training score ('split0_train_score'), which will not be available by default any more in 0.21. If you need training scores, please set return_train_score=True\n",
      "  warnings.warn(*warn_args, **warn_kwargs)\n",
      "/anaconda3/lib/python3.6/site-packages/sklearn/utils/deprecation.py:122: FutureWarning: You are accessing a training score ('split1_train_score'), which will not be available by default any more in 0.21. If you need training scores, please set return_train_score=True\n",
      "  warnings.warn(*warn_args, **warn_kwargs)\n",
      "/anaconda3/lib/python3.6/site-packages/sklearn/utils/deprecation.py:122: FutureWarning: You are accessing a training score ('split2_train_score'), which will not be available by default any more in 0.21. If you need training scores, please set return_train_score=True\n",
      "  warnings.warn(*warn_args, **warn_kwargs)\n",
      "/anaconda3/lib/python3.6/site-packages/sklearn/utils/deprecation.py:122: FutureWarning: You are accessing a training score ('split3_train_score'), which will not be available by default any more in 0.21. If you need training scores, please set return_train_score=True\n",
      "  warnings.warn(*warn_args, **warn_kwargs)\n",
      "/anaconda3/lib/python3.6/site-packages/sklearn/utils/deprecation.py:122: FutureWarning: You are accessing a training score ('split4_train_score'), which will not be available by default any more in 0.21. If you need training scores, please set return_train_score=True\n",
      "  warnings.warn(*warn_args, **warn_kwargs)\n",
      "/anaconda3/lib/python3.6/site-packages/sklearn/utils/deprecation.py:122: FutureWarning: You are accessing a training score ('mean_train_score'), which will not be available by default any more in 0.21. If you need training scores, please set return_train_score=True\n",
      "  warnings.warn(*warn_args, **warn_kwargs)\n",
      "/anaconda3/lib/python3.6/site-packages/sklearn/utils/deprecation.py:122: FutureWarning: You are accessing a training score ('std_train_score'), which will not be available by default any more in 0.21. If you need training scores, please set return_train_score=True\n",
      "  warnings.warn(*warn_args, **warn_kwargs)\n"
     ]
    },
    {
     "data": {
      "image/png": "[encoded data removed]",
      "text/plain": [
       "<Figure size 432x288 with 1 Axes>"
      ]
     },
     "metadata": {
      "image/png": {
       "height": 246,
       "width": 409
      }
     },
     "output_type": "display_data"
    }
   ],
   "source": [
    "df = pd.DataFrame(grid.cv_results_)\n",
    "df['g'] = [x['gamma'] for x in df.params.values]\n",
    "plt.plot(gamma_values, df.mean_test_score)\n",
    "plt.xscale('log')"
   ]
  },
  {
   "cell_type": "markdown",
   "metadata": {},
   "source": [
    "### 6. Gridsearch the optimal C, gamma, and kernel."
   ]
  },
  {
   "cell_type": "code",
   "execution_count": 58,
   "metadata": {},
   "outputs": [
    {
     "name": "stdout",
     "output_type": "stream",
     "text": [
      "{'C': 10.0, 'degree': 2, 'gamma': 0.00035938136638046257, 'kernel': 'rbf'}\n"
     ]
    },
    {
     "ename": "NameError",
     "evalue": "name 'gird' is not defined",
     "output_type": "error",
     "traceback": [
      "\u001b[0;31m---------------------------------------------------------------------------\u001b[0m",
      "\u001b[0;31mNameError\u001b[0m                                 Traceback (most recent call last)",
      "\u001b[0;32m<ipython-input-58-0590f96963ee>\u001b[0m in \u001b[0;36m<module>\u001b[0;34m()\u001b[0m\n\u001b[1;32m     10\u001b[0m \u001b[0mgrid\u001b[0m\u001b[0;34m.\u001b[0m\u001b[0mfit\u001b[0m\u001b[0;34m(\u001b[0m\u001b[0mX\u001b[0m\u001b[0;34m,\u001b[0m \u001b[0my\u001b[0m\u001b[0;34m)\u001b[0m\u001b[0;34m\u001b[0m\u001b[0m\n\u001b[1;32m     11\u001b[0m \u001b[0mprint\u001b[0m\u001b[0;34m(\u001b[0m\u001b[0mgrid\u001b[0m\u001b[0;34m.\u001b[0m\u001b[0mbest_params_\u001b[0m\u001b[0;34m)\u001b[0m\u001b[0;34m\u001b[0m\u001b[0m\n\u001b[0;32m---> 12\u001b[0;31m \u001b[0mprint\u001b[0m\u001b[0;34m(\u001b[0m\u001b[0mgird\u001b[0m\u001b[0;34m.\u001b[0m\u001b[0mbest_score_\u001b[0m\u001b[0;34m)\u001b[0m\u001b[0;34m\u001b[0m\u001b[0m\n\u001b[0m",
      "\u001b[0;31mNameError\u001b[0m: name 'gird' is not defined"
     ]
    }
   ],
   "source": [
    "# A:\n",
    "clf = svm.SVC(C=1, random_state=42)\n",
    "param_grid = {\n",
    "    'gamma': np.logspace(-5,2,10), \n",
    "    'C': np.logspace(-3, 3, 10),\n",
    "    'degree': [2,3,4],\n",
    "    'kernel': ['rbf', 'linear', 'poly']\n",
    "}\n",
    "grid = GridSearchCV(clf, param_grid, cv=5, scoring='accuracy')\n",
    "grid.fit(X, y)\n",
    "print(grid.best_params_)\n",
    "print(gird.best_score_)"
   ]
  },
  {
   "cell_type": "markdown",
   "metadata": {
    "collapsed": true
   },
   "source": [
    "### 7. Import the iris dataset."
   ]
  },
  {
   "cell_type": "code",
   "execution_count": 11,
   "metadata": {},
   "outputs": [],
   "source": [
    "iris = datasets.load_iris()\n",
    "iris_X = iris.data[:, :2]  # we only take the first two features. \n",
    "iris_y = iris.target"
   ]
  },
  {
   "cell_type": "markdown",
   "metadata": {},
   "source": [
    "### 8. Cross-validate a default logistic regression and default SVM on the iris data."
   ]
  },
  {
   "cell_type": "code",
   "execution_count": 12,
   "metadata": {},
   "outputs": [],
   "source": [
    "# A:"
   ]
  },
  {
   "cell_type": "markdown",
   "metadata": {},
   "source": [
    "### 9. [Bonus] Compare three SVMs with different kernels on the iris data visually.\n",
    "- Gaussian\n",
    "- Linear\n",
    "- Poly of degree 3\n",
    "\n",
    "Hint: For visual comparison, use only two of the iris features, e.g. sepal length and sepal width."
   ]
  },
  {
   "cell_type": "code",
   "execution_count": 13,
   "metadata": {},
   "outputs": [],
   "source": [
    "# A:"
   ]
  },
  {
   "cell_type": "markdown",
   "metadata": {},
   "source": [
    "### 10. [Bonus] Compare SVM kernels visually on generated data using sklearn's `make_circles`.\n",
    "\n",
    "Load `make_circles` from here:\n",
    "```python\n",
    "from sklearn.datasets import make_circles\n",
    "```\n",
    "\n",
    "Compare the linear, rbf, and poly kernels."
   ]
  },
  {
   "cell_type": "code",
   "execution_count": 14,
   "metadata": {},
   "outputs": [],
   "source": [
    "# A:"
   ]
  }
 ],
 "metadata": {
  "anaconda-cloud": {},
  "kernelspec": {
   "display_name": "Python 3",
   "language": "python",
   "name": "python3"
  },
  "language_info": {
   "codemirror_mode": {
    "name": "ipython",
    "version": 3
   },
   "file_extension": ".py",
   "mimetype": "text/x-python",
   "name": "python",
   "nbconvert_exporter": "python",
   "pygments_lexer": "ipython3",
   "version": "3.6.5"
  },
  "toc": {
   "nav_menu": {},
   "number_sections": false,
   "sideBar": true,
   "skip_h1_title": true,
   "title_cell": "Table of Contents",
   "title_sidebar": "Contents",
   "toc_cell": false,
   "toc_position": {},
   "toc_section_display": "block",
   "toc_window_display": false
  }
 },
 "nbformat": 4,
 "nbformat_minor": 1
}
