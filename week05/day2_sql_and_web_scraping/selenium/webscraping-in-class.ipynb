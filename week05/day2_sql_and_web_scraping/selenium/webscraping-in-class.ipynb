{
 "cells": [
  {
   "cell_type": "markdown",
   "metadata": {},
   "source": [
    "<img src=\"http://imgur.com/1ZcRyrc.png\" style=\"float: left; margin: 20px; height: 55px\">\n",
    "\n",
    "# Web Scraping\n",
    "\n",
    "_Author: Joseph Nelson (DC)_\n",
    "\n",
    "---"
   ]
  },
  {
   "cell_type": "markdown",
   "metadata": {},
   "source": [
    "## Before Class\n",
    "\n",
    "### Install Selenium\n",
    "\n",
    "Students will need to install Selenium using one of the following:\n",
    "- **Anaconda:** `conda install -c conda-forge selenium`\n",
    "- **pip:** `pip install selenium`"
   ]
  },
  {
   "cell_type": "markdown",
   "metadata": {},
   "source": [
    "## Learning Objectives\n",
    "- Revisit how to locate elements on a webpage\n",
    "- Aquire unstructure data from the internet using Beautiful soup.\n",
    "- Discuss limitations associated with simple requests and urllib libraries\n",
    "- Introduce Selenium as a solution, and implement a scraper using selenium"
   ]
  },
  {
   "cell_type": "markdown",
   "metadata": {},
   "source": [
    "## Lesson Guide\n",
    "\n",
    "- [Introduction](#intro)\n",
    "- [Building a web scraper](#building-scraper)\n",
    "- [Retrieving data from the HTML page](#retrieving-data)\n",
    "    - [Retrieving the restaurant names](#retrieving-names)\n",
    "    - [Challenge: Retrieving the restaurant locations](#retrieving-locations)\n",
    "    - [Retrieving the restaurant prices](#retrieving-prices)\n",
    "    - [Retrieving the restaurant number of bookings](#retrieving-bookings)\n",
    "\n",
    "\n",
    "- [Introducing Selenium](#selenium)\n",
    "    - [Running JavaScript before scraping](#selenium-js)\n",
    "    - [Using regex to only get digits](#selenium-regex)\n",
    "    - [Challenge: Use Pandas to create a DataFrame of bookings](#challenge-pandas)\n",
    "    - [Auto-typing using Selenium](#selenium-typing)\n",
    "\n",
    "\n",
    "- [Summary](#summary)"
   ]
  },
  {
   "cell_type": "markdown",
   "metadata": {},
   "source": [
    "<a id=\"intro\"></a>\n",
    "## Introduction\n",
    "\n",
    "In this codealong lesson, we'll build a web scraper using requests and BeautifulSoup. We will also explore how to use a headless browser called Selenium.\n",
    "\n",
    "We'll begin by scraping OpenTable's DC listings. We're interested in knowing the restaurant's **name, location, price, and how many people booked it today.**\n",
    "\n",
    "OpenTable provides all of this information on this given page: http://www.opentable.com/washington-dc-restaurant-listings\n",
    "\n",
    "Let's inspect the elements of this page to assure we can find each of the bits of information in which we're interested.\n",
    "\n",
    "---"
   ]
  },
  {
   "cell_type": "markdown",
   "metadata": {},
   "source": [
    "<a id=\"building-scraper\"></a>\n",
    "## Building a web scraper\n",
    "\n",
    "Now, let's build a web scraper for OpenTable using urllib and Beautiful Soup:"
   ]
  },
  {
   "cell_type": "code",
   "execution_count": 1,
   "metadata": {
    "ExecuteTime": {
     "end_time": "2018-08-22T20:21:45.982484Z",
     "start_time": "2018-08-22T20:21:45.426389Z"
    },
    "scrolled": false
   },
   "outputs": [],
   "source": [
    "# import our necessary first packages\n",
    "from bs4 import BeautifulSoup\n",
    "import requests"
   ]
  },
  {
   "cell_type": "code",
   "execution_count": 2,
   "metadata": {
    "ExecuteTime": {
     "end_time": "2018-08-22T20:21:47.872770Z",
     "start_time": "2018-08-22T20:21:46.470928Z"
    }
   },
   "outputs": [],
   "source": [
    "# set the url we want to visit\n",
    "url = \"http://www.opentable.com/washington-dc-restaurant-listings\"\n",
    "\n",
    "# visit that url, and grab the html of said page\n",
    "html = requests.get(url)"
   ]
  },
  {
   "cell_type": "markdown",
   "metadata": {},
   "source": [
    "At this point, what is in html?"
   ]
  },
  {
   "cell_type": "code",
   "execution_count": 4,
   "metadata": {
    "ExecuteTime": {
     "end_time": "2018-08-22T20:21:47.967615Z",
     "start_time": "2018-08-22T20:21:47.949037Z"
    }
   },
   "outputs": [
    {
     "data": {
      "text/plain": [
       "'           <!DOCTYPE html><html lang=\"en\"><head><meta charset=\"utf-8\"/><meta http-equiv=\"X-UA-Compatible\" content=\"IE=9; IE=8; IE=7; IE=EDGE\"/> <title>Restaurant Reservation Availability</title>    <meta  name=\"robots\" content=\"noindex\" > </meta><link  rel=\"canonical\" href=\"https://www.opentable.com/washington-dc-restaurant-listings\" > </link>      <link rel=\"shortcut icon\" href=\"//components.otstatic.com/components/favicon/1.0.5/favicon/favicon.ico\" type=\"image/x-icon\"/><link rel=\"icon\" href=\"//components.otstatic.com/components/favicon/1.0.5/favicon/favicon-16.png\" sizes=\"16x16\"/><link rel=\"icon\" href=\"//components.otstatic.com/components/favicon/1.0.5/favicon/favicon-32.png\" sizes=\"32x32\"/><link rel=\"icon\" href=\"//components.otstatic.com/components/favicon/1.0.5/favicon/favicon-48.png\" sizes=\"48x48\"/><link rel=\"icon\" href=\"//components.otstatic.com/components/favicon/1.0.5/favicon/favicon-64.png\" sizes=\"64x64\"/><link rel=\"icon\" href=\"//components.otstatic.com/components/favicon/1.0.'"
      ]
     },
     "execution_count": 4,
     "metadata": {},
     "output_type": "execute_result"
    }
   ],
   "source": [
    "# .text returns the request content in Unicode\n",
    "html.text[:1000]"
   ]
  },
  {
   "cell_type": "markdown",
   "metadata": {},
   "source": [
    "We will need to convert this html objct into a soup object so we can parse it using python and BS4"
   ]
  },
  {
   "cell_type": "code",
   "execution_count": 9,
   "metadata": {
    "ExecuteTime": {
     "end_time": "2018-08-22T20:21:48.355367Z",
     "start_time": "2018-08-22T20:21:48.007637Z"
    }
   },
   "outputs": [],
   "source": [
    "# convert this into a soup object\n",
    "soup = BeautifulSoup(html.text, 'html.parser')"
   ]
  },
  {
   "cell_type": "markdown",
   "metadata": {},
   "source": [
    "<a id=\"retrieving-data\"></a>\n",
    "### Retrieving data from the HTML page"
   ]
  },
  {
   "cell_type": "markdown",
   "metadata": {},
   "source": [
    "Let's first find each restaurant name listed on the page we've loaded. How do we find the page location of the restaurant? (Hint: We need to know where in the **HTML** the restaurant element is housed.) In order to find the HTML that renders the restaurant location, we can use Google Chrome's Inspect tool:\n",
    "\n",
    "> http://www.opentable.com/washington-dc-restaurant-listings\n",
    "\n",
    "> 1. Visit the URL above. \n",
    "\n",
    "> 2. Right-click on an element you are interested in, then choose Inspect (in Chrome). \n",
    "\n",
    "> 3. This will open the Developer Tools and show the HTML used to render the selected page element. \n",
    "\n",
    "> Throughout this lesson, we will use this method to find tags associated with elements of the page we want to scrape.\n",
    "\n",
    "See if you can find the restaurant name on the page. Keep in mind there are many restaurants loaded on the page."
   ]
  },
  {
   "cell_type": "code",
   "execution_count": 10,
   "metadata": {
    "ExecuteTime": {
     "end_time": "2018-08-22T20:21:48.823798Z",
     "start_time": "2018-08-22T20:21:48.764484Z"
    },
    "scrolled": true
   },
   "outputs": [
    {
     "data": {
      "text/plain": [
       "[<span class=\"rest-row-name-text\">Path</span>,\n",
       " <span class=\"rest-row-name-text\">487 Larkin</span>,\n",
       " <span class=\"rest-row-name-text\">Fay</span>,\n",
       " <span class=\"rest-row-name-text\">481 Rutherford</span>,\n",
       " <span class=\"rest-row-name-text\">Curve</span>,\n",
       " <span class=\"rest-row-name-text\">Aut</span>,\n",
       " <span class=\"rest-row-name-text\">Est</span>,\n",
       " <span class=\"rest-row-name-text\">292 Kris</span>,\n",
       " <span class=\"rest-row-name-text\">Eveniet</span>,\n",
       " <span class=\"rest-row-name-text\">Winstons</span>,\n",
       " <span class=\"rest-row-name-text\">Aliquid Light</span>,\n",
       " <span class=\"rest-row-name-text\">Vista</span>,\n",
       " <span class=\"rest-row-name-text\">In</span>,\n",
       " <span class=\"rest-row-name-text\">Muller Point</span>,\n",
       " <span class=\"rest-row-name-text\">Assumenda Motorway</span>,\n",
       " <span class=\"rest-row-name-text\">Vallies</span>,\n",
       " <span class=\"rest-row-name-text\">Iure Falls</span>,\n",
       " <span class=\"rest-row-name-text\">Netties</span>,\n",
       " <span class=\"rest-row-name-text\">Newtons</span>,\n",
       " <span class=\"rest-row-name-text\">1144 Marquardt</span>,\n",
       " <span class=\"rest-row-name-text\">894 Gutkowski</span>,\n",
       " <span class=\"rest-row-name-text\">Eaque</span>,\n",
       " <span class=\"rest-row-name-text\">Sterlings</span>,\n",
       " <span class=\"rest-row-name-text\">Grimes</span>,\n",
       " <span class=\"rest-row-name-text\">Emilys</span>,\n",
       " <span class=\"rest-row-name-text\">Osborne Gottlieb</span>,\n",
       " <span class=\"rest-row-name-text\">Laudantium</span>,\n",
       " <span class=\"rest-row-name-text\">Hipolitos</span>,\n",
       " <span class=\"rest-row-name-text\">Nemo Expressway</span>,\n",
       " <span class=\"rest-row-name-text\">183 Fadel</span>,\n",
       " <span class=\"rest-row-name-text\">Joesphs</span>,\n",
       " <span class=\"rest-row-name-text\">Elroy Purdy</span>,\n",
       " <span class=\"rest-row-name-text\">O'Connell</span>,\n",
       " <span class=\"rest-row-name-text\">Quos</span>,\n",
       " <span class=\"rest-row-name-text\">Debitis Aufderhar</span>,\n",
       " <span class=\"rest-row-name-text\">Torphy</span>,\n",
       " <span class=\"rest-row-name-text\">Necessitatibus Fay</span>,\n",
       " <span class=\"rest-row-name-text\">Lynch</span>,\n",
       " <span class=\"rest-row-name-text\">Delectus Reilly</span>,\n",
       " <span class=\"rest-row-name-text\">Jesss</span>,\n",
       " <span class=\"rest-row-name-text\">Dolor Summit</span>,\n",
       " <span class=\"rest-row-name-text\">Mueller</span>,\n",
       " <span class=\"rest-row-name-text\">Quaerat</span>,\n",
       " <span class=\"rest-row-name-text\">Erdman</span>,\n",
       " <span class=\"rest-row-name-text\">Ea</span>,\n",
       " <span class=\"rest-row-name-text\">Simonis</span>,\n",
       " <span class=\"rest-row-name-text\">Izaiahs</span>,\n",
       " <span class=\"rest-row-name-text\">Quasi Blick</span>,\n",
       " <span class=\"rest-row-name-text\">Lindgren</span>,\n",
       " <span class=\"rest-row-name-text\">Rosemary Shoals</span>,\n",
       " <span class=\"rest-row-name-text\">Blanditiis Turnpike</span>,\n",
       " <span class=\"rest-row-name-text\">1086 Buckridge</span>,\n",
       " <span class=\"rest-row-name-text\">Macs</span>,\n",
       " <span class=\"rest-row-name-text\">Lempi Cape</span>,\n",
       " <span class=\"rest-row-name-text\">Wuckert</span>,\n",
       " <span class=\"rest-row-name-text\">Et</span>,\n",
       " <span class=\"rest-row-name-text\">Facilis Russel</span>,\n",
       " <span class=\"rest-row-name-text\">Conn</span>,\n",
       " <span class=\"rest-row-name-text\">Aut Simonis</span>,\n",
       " <span class=\"rest-row-name-text\">Collier</span>,\n",
       " <span class=\"rest-row-name-text\">Itaque</span>,\n",
       " <span class=\"rest-row-name-text\">Denesik Spurs</span>,\n",
       " <span class=\"rest-row-name-text\">Odio</span>,\n",
       " <span class=\"rest-row-name-text\">Ab Kunde</span>,\n",
       " <span class=\"rest-row-name-text\">Hilton Locks</span>,\n",
       " <span class=\"rest-row-name-text\">Hortense Mountain</span>,\n",
       " <span class=\"rest-row-name-text\">Pacocha Stream</span>,\n",
       " <span class=\"rest-row-name-text\">Dibbert</span>,\n",
       " <span class=\"rest-row-name-text\">Camryn Heights</span>,\n",
       " <span class=\"rest-row-name-text\">Agloe Bar &amp; Grill</span>,\n",
       " <span class=\"rest-row-name-text\">Ducimus</span>,\n",
       " <span class=\"rest-row-name-text\">496 Effertz</span>,\n",
       " <span class=\"rest-row-name-text\">Vero</span>,\n",
       " <span class=\"rest-row-name-text\">Charles Cassin</span>,\n",
       " <span class=\"rest-row-name-text\">660 Kuhlman</span>,\n",
       " <span class=\"rest-row-name-text\">23 Heaney</span>,\n",
       " <span class=\"rest-row-name-text\">Vero Pfannerstill</span>,\n",
       " <span class=\"rest-row-name-text\">1258 O'Hara</span>,\n",
       " <span class=\"rest-row-name-text\">Et Cruickshank</span>,\n",
       " <span class=\"rest-row-name-text\">Labore Summit</span>,\n",
       " <span class=\"rest-row-name-text\">Dooley</span>,\n",
       " <span class=\"rest-row-name-text\">Quaerat Tunnel</span>,\n",
       " <span class=\"rest-row-name-text\">Parker</span>,\n",
       " <span class=\"rest-row-name-text\">Cum</span>,\n",
       " <span class=\"rest-row-name-text\">Sipes</span>,\n",
       " <span class=\"rest-row-name-text\">Madisyn Hickle</span>,\n",
       " <span class=\"rest-row-name-text\">Dayana Upton</span>,\n",
       " <span class=\"rest-row-name-text\">Aut Stracke</span>,\n",
       " <span class=\"rest-row-name-text\">Devonte Wuckert</span>,\n",
       " <span class=\"rest-row-name-text\">Facere Frami</span>,\n",
       " <span class=\"rest-row-name-text\">Parks</span>,\n",
       " <span class=\"rest-row-name-text\">Natus</span>,\n",
       " <span class=\"rest-row-name-text\">Schneider</span>,\n",
       " <span class=\"rest-row-name-text\">Friesen Plains</span>,\n",
       " <span class=\"rest-row-name-text\">Keshauns</span>,\n",
       " <span class=\"rest-row-name-text\">Rylee Kling</span>,\n",
       " <span class=\"rest-row-name-text\">Estates</span>,\n",
       " <span class=\"rest-row-name-text\">Kerluke</span>,\n",
       " <span class=\"rest-row-name-text\">Eve Ways</span>,\n",
       " <span class=\"rest-row-name-text\">1446 Feil</span>]"
      ]
     },
     "execution_count": 10,
     "metadata": {},
     "output_type": "execute_result"
    }
   ],
   "source": [
    "# print the restaurant names\n",
    "soup.find_all(name='span', attrs={'class':'rest-row-name-text'})"
   ]
  },
  {
   "cell_type": "code",
   "execution_count": 17,
   "metadata": {},
   "outputs": [
    {
     "data": {
      "text/plain": [
       "'<span class=\"rest-row-name-text\">Path</span>'"
      ]
     },
     "execution_count": 17,
     "metadata": {},
     "output_type": "execute_result"
    }
   ],
   "source": [
    "str(soup.find_all(name='span', attrs={'class':'rest-row-name-text'})[0])"
   ]
  },
  {
   "cell_type": "markdown",
   "metadata": {},
   "source": [
    "It is important to always keep in mind the data types that were returned. Note this is a `list`, and we know that immediately by observing the outer square brackets and commas separating each tag.\n",
    "\n",
    "Next, note the elements of the list are `Tag` objects, not strings. (If they were strings, they would be surrounded by quotes.) The Beautiful Soup authors chose to display a `Tag` object visually as a text representation of the tag and its contents. However, being an object, it has many methods that we can call on it. For example, next we will use the `encode_contents()` method to return the tag's contents encoded as a Python string.\n",
    "\n",
    "<a id=\"retrieving-names\"></a>\n",
    "#### Retrieving the restaurant names\n",
    "\n",
    "Now that we found a list of tags containing the restaurant names, let's think how we can loop through them all one-by-one. In the following cell, we'll print out the name (and **only** the clean name, not the rest of the html) of each restaurant."
   ]
  },
  {
   "cell_type": "code",
   "execution_count": 22,
   "metadata": {
    "ExecuteTime": {
     "end_time": "2018-08-22T20:21:49.365617Z",
     "start_time": "2018-08-22T20:21:49.313245Z"
    },
    "scrolled": true
   },
   "outputs": [
    {
     "name": "stdout",
     "output_type": "stream",
     "text": [
      "Path\n",
      "487 Larkin\n",
      "Fay\n",
      "481 Rutherford\n",
      "Curve\n",
      "Aut\n",
      "Est\n",
      "292 Kris\n",
      "Eveniet\n",
      "Winstons\n",
      "Aliquid Light\n",
      "Vista\n",
      "In\n",
      "Muller Point\n",
      "Assumenda Motorway\n",
      "Vallies\n",
      "Iure Falls\n",
      "Netties\n",
      "Newtons\n",
      "1144 Marquardt\n",
      "894 Gutkowski\n",
      "Eaque\n",
      "Sterlings\n",
      "Grimes\n",
      "Emilys\n",
      "Osborne Gottlieb\n",
      "Laudantium\n",
      "Hipolitos\n",
      "Nemo Expressway\n",
      "183 Fadel\n",
      "Joesphs\n",
      "Elroy Purdy\n",
      "O'Connell\n",
      "Quos\n",
      "Debitis Aufderhar\n",
      "Torphy\n",
      "Necessitatibus Fay\n",
      "Lynch\n",
      "Delectus Reilly\n",
      "Jesss\n",
      "Dolor Summit\n",
      "Mueller\n",
      "Quaerat\n",
      "Erdman\n",
      "Ea\n",
      "Simonis\n",
      "Izaiahs\n",
      "Quasi Blick\n",
      "Lindgren\n",
      "Rosemary Shoals\n",
      "Blanditiis Turnpike\n",
      "1086 Buckridge\n",
      "Macs\n",
      "Lempi Cape\n",
      "Wuckert\n",
      "Et\n",
      "Facilis Russel\n",
      "Conn\n",
      "Aut Simonis\n",
      "Collier\n",
      "Itaque\n",
      "Denesik Spurs\n",
      "Odio\n",
      "Ab Kunde\n",
      "Hilton Locks\n",
      "Hortense Mountain\n",
      "Pacocha Stream\n",
      "Dibbert\n",
      "Camryn Heights\n",
      "Agloe Bar & Grill\n",
      "Ducimus\n",
      "496 Effertz\n",
      "Vero\n",
      "Charles Cassin\n",
      "660 Kuhlman\n",
      "23 Heaney\n",
      "Vero Pfannerstill\n",
      "1258 O'Hara\n",
      "Et Cruickshank\n",
      "Labore Summit\n",
      "Dooley\n",
      "Quaerat Tunnel\n",
      "Parker\n",
      "Cum\n",
      "Sipes\n",
      "Madisyn Hickle\n",
      "Dayana Upton\n",
      "Aut Stracke\n",
      "Devonte Wuckert\n",
      "Facere Frami\n",
      "Parks\n",
      "Natus\n",
      "Schneider\n",
      "Friesen Plains\n",
      "Keshauns\n",
      "Rylee Kling\n",
      "Estates\n",
      "Kerluke\n",
      "Eve Ways\n",
      "1446 Feil\n"
     ]
    }
   ],
   "source": [
    "# for each element you find, print out the restaurant name\n",
    "for el in soup.find_all(name='span', attrs={'class':'rest-row-name-text'}):\n",
    "    print(el.text)"
   ]
  },
  {
   "cell_type": "markdown",
   "metadata": {},
   "source": [
    "Great!\n",
    "\n",
    "<a id=\"retrieving-locations\"></a>\n",
    "#### Challenge: Retrieving the restaurant locations\n",
    "\n",
    "Can you repeat that process for finding the location? For example, barmini by Jose Andres is in the location listed as \"Penn Quarter\" in our search results."
   ]
  },
  {
   "cell_type": "code",
   "execution_count": null,
   "metadata": {
    "ExecuteTime": {
     "end_time": "2018-08-22T20:21:49.817554Z",
     "start_time": "2018-08-22T20:21:49.815169Z"
    }
   },
   "outputs": [],
   "source": [
    "# first, see if you can identify the location for all elements -- print it out"
   ]
  },
  {
   "cell_type": "code",
   "execution_count": 23,
   "metadata": {
    "ExecuteTime": {
     "end_time": "2018-08-22T20:21:50.228368Z",
     "start_time": "2018-08-22T20:21:50.225332Z"
    }
   },
   "outputs": [
    {
     "name": "stdout",
     "output_type": "stream",
     "text": [
      "Watsonburgh\n",
      "Dooleyside\n",
      "Syblebury\n",
      "Marcellusland\n",
      "Rodriguezport\n",
      "Kuhicview\n",
      "Olsonstad\n",
      "New Bernadinehaven\n",
      "East Tito\n",
      "South Jimmie\n",
      "West Mariellemouth\n",
      "East Ethaburgh\n",
      "Handland\n",
      "Brandonville\n",
      "Ottiliemouth\n",
      "Halborough\n",
      "East Neha\n",
      "New Josianne\n",
      "North Freddie\n",
      "Marksside\n",
      "Maritzaborough\n",
      "West Nedraview\n",
      "Port Anabelport\n",
      "Laurianneberg\n",
      "Josianeborough\n",
      "North Rachellemouth\n",
      "Port Roberta\n",
      "Lueilwitzland\n",
      "Adrianmouth\n",
      "South Olafville\n",
      "North Stanford\n",
      "Annebury\n",
      "Port Jaquelinstad\n",
      "Felicityview\n",
      "Sethfurt\n",
      "Lailaton\n",
      "South Reagan\n",
      "New Cheyanne\n",
      "Port Wilburn\n",
      "Lake Jeanieview\n",
      "New Sarai\n",
      "West Markshire\n",
      "South Louisaland\n",
      "Lake Lindsey\n",
      "Grantfurt\n",
      "Dickinsontown\n",
      "Harrismouth\n",
      "Emiliaville\n",
      "Wittingbury\n",
      "South Samanta\n",
      "East Robertochester\n",
      "New Meta\n",
      "South Nataliaborough\n",
      "East Greenburgh\n",
      "West Minnie\n",
      "Port Zelmatown\n",
      "East Kylee\n",
      "East Jorgeborough\n",
      "Evelineton\n",
      "Wardville\n",
      "New Herminia\n",
      "East Simoneborough\n",
      "Port Zolatown\n",
      "Ciarahaven\n",
      "Uptonborough\n",
      "Destineyville\n",
      "South Yessenia\n",
      "Bashirianfort\n",
      "Borermouth\n",
      "Beattyport\n",
      "Hobartborough\n",
      "Murrayburgh\n",
      "Port Hallieshire\n",
      "Eleanoraport\n",
      "New Jaceychester\n",
      "West Jacklyn\n",
      "Lake Tyrell\n",
      "Hodkiewiczville\n",
      "Jeremietown\n",
      "South Rhettstad\n",
      "East Kristopher\n",
      "Port Omari\n",
      "Dibberttown\n",
      "New Nolanshire\n",
      "New Zacheryshire\n",
      "East Molly\n",
      "Port Ismael\n",
      "New Ludwig\n",
      "Schmidttown\n",
      "Melynafurt\n",
      "Mallieview\n",
      "Toniview\n",
      "Marquardtmouth\n",
      "Port Caterinachester\n",
      "Hammesland\n",
      "West Ona\n",
      "Rutherfordburgh\n",
      "Weissnatchester\n",
      "Pagacburgh\n",
      "Willshire\n"
     ]
    }
   ],
   "source": [
    "# now print out EACH location for the restaurants\n",
    "# for each element you find, print out the restaurant name\n",
    "for el in soup.find_all(name='span', attrs={'class':'rest-row-meta--location'}):\n",
    "    print(el.text)"
   ]
  },
  {
   "cell_type": "markdown",
   "metadata": {},
   "source": [
    "<a id=\"retrieving-prices\"></a>\n",
    "#### Retrieving the restaurant prices"
   ]
  },
  {
   "cell_type": "markdown",
   "metadata": {},
   "source": [
    "Ok, we've figured out the restaurant name and location. Now we need to grab the price (number of dollar signs on a scale of one to four) for each restaurant. We'll follow the same process."
   ]
  },
  {
   "cell_type": "code",
   "execution_count": 24,
   "metadata": {
    "ExecuteTime": {
     "end_time": "2018-08-22T20:21:50.728524Z",
     "start_time": "2018-08-22T20:21:50.656476Z"
    },
    "scrolled": true
   },
   "outputs": [
    {
     "data": {
      "text/plain": [
       "[<div class=\"rest-row-pricing\"> <i class=\"pricing--the-price\">  $    $    $    $  </i> <span class=\"pricing--not-the-price\"> </span></div>,\n",
       " <div class=\"rest-row-pricing\"> <i class=\"pricing--the-price\">  $    $      </i> <span class=\"pricing--not-the-price\">  $    $      </span></div>,\n",
       " <div class=\"rest-row-pricing\"> <i class=\"pricing--the-price\">  $    $    $    $  </i> <span class=\"pricing--not-the-price\"> </span></div>,\n",
       " <div class=\"rest-row-pricing\"> <i class=\"pricing--the-price\">  $    $    $    $  </i> <span class=\"pricing--not-the-price\"> </span></div>,\n",
       " <div class=\"rest-row-pricing\"> <i class=\"pricing--the-price\">  $    $      </i> <span class=\"pricing--not-the-price\">  $    $      </span></div>,\n",
       " <div class=\"rest-row-pricing\"> <i class=\"pricing--the-price\">  $    $      </i> <span class=\"pricing--not-the-price\">  $    $      </span></div>,\n",
       " <div class=\"rest-row-pricing\"> <i class=\"pricing--the-price\">  $    $    $    $  </i> <span class=\"pricing--not-the-price\"> </span></div>,\n",
       " <div class=\"rest-row-pricing\"> <i class=\"pricing--the-price\">  $    $    $    </i> <span class=\"pricing--not-the-price\">  $        </span></div>,\n",
       " <div class=\"rest-row-pricing\"> <i class=\"pricing--the-price\">  $    $    $    $  </i> <span class=\"pricing--not-the-price\"> </span></div>,\n",
       " <div class=\"rest-row-pricing\"> <i class=\"pricing--the-price\">  $    $    $    $  </i> <span class=\"pricing--not-the-price\"> </span></div>,\n",
       " <div class=\"rest-row-pricing\"> <i class=\"pricing--the-price\">  $    $      </i> <span class=\"pricing--not-the-price\">  $    $      </span></div>,\n",
       " <div class=\"rest-row-pricing\"> <i class=\"pricing--the-price\">  $    $    $    </i> <span class=\"pricing--not-the-price\">  $        </span></div>,\n",
       " <div class=\"rest-row-pricing\"> <i class=\"pricing--the-price\">  $    $      </i> <span class=\"pricing--not-the-price\">  $    $      </span></div>,\n",
       " <div class=\"rest-row-pricing\"> <i class=\"pricing--the-price\">  $    $    $    </i> <span class=\"pricing--not-the-price\">  $        </span></div>,\n",
       " <div class=\"rest-row-pricing\"> <i class=\"pricing--the-price\">  $    $    $    </i> <span class=\"pricing--not-the-price\">  $        </span></div>,\n",
       " <div class=\"rest-row-pricing\"> <i class=\"pricing--the-price\">  $    $    $    $  </i> <span class=\"pricing--not-the-price\"> </span></div>,\n",
       " <div class=\"rest-row-pricing\"> <i class=\"pricing--the-price\">  $    $    $    $  </i> <span class=\"pricing--not-the-price\"> </span></div>,\n",
       " <div class=\"rest-row-pricing\"> <i class=\"pricing--the-price\">  $    $      </i> <span class=\"pricing--not-the-price\">  $    $      </span></div>,\n",
       " <div class=\"rest-row-pricing\"> <i class=\"pricing--the-price\">  $    $    $    $  </i> <span class=\"pricing--not-the-price\"> </span></div>,\n",
       " <div class=\"rest-row-pricing\"> <i class=\"pricing--the-price\">  $    $    $    $  </i> <span class=\"pricing--not-the-price\"> </span></div>,\n",
       " <div class=\"rest-row-pricing\"> <i class=\"pricing--the-price\">  $    $      </i> <span class=\"pricing--not-the-price\">  $    $      </span></div>,\n",
       " <div class=\"rest-row-pricing\"> <i class=\"pricing--the-price\">  $    $    $    </i> <span class=\"pricing--not-the-price\">  $        </span></div>,\n",
       " <div class=\"rest-row-pricing\"> <i class=\"pricing--the-price\">  $    $    $    $  </i> <span class=\"pricing--not-the-price\"> </span></div>,\n",
       " <div class=\"rest-row-pricing\"> <i class=\"pricing--the-price\">  $    $    $    </i> <span class=\"pricing--not-the-price\">  $        </span></div>,\n",
       " <div class=\"rest-row-pricing\"> <i class=\"pricing--the-price\">  $    $    $    </i> <span class=\"pricing--not-the-price\">  $        </span></div>,\n",
       " <div class=\"rest-row-pricing\"> <i class=\"pricing--the-price\">  $    $    $    $  </i> <span class=\"pricing--not-the-price\"> </span></div>,\n",
       " <div class=\"rest-row-pricing\"> <i class=\"pricing--the-price\">  $    $    $    </i> <span class=\"pricing--not-the-price\">  $        </span></div>,\n",
       " <div class=\"rest-row-pricing\"> <i class=\"pricing--the-price\">  $    $      </i> <span class=\"pricing--not-the-price\">  $    $      </span></div>,\n",
       " <div class=\"rest-row-pricing\"> <i class=\"pricing--the-price\">  $    $    $    </i> <span class=\"pricing--not-the-price\">  $        </span></div>,\n",
       " <div class=\"rest-row-pricing\"> <i class=\"pricing--the-price\">  $    $      </i> <span class=\"pricing--not-the-price\">  $    $      </span></div>,\n",
       " <div class=\"rest-row-pricing\"> <i class=\"pricing--the-price\">  $    $      </i> <span class=\"pricing--not-the-price\">  $    $      </span></div>,\n",
       " <div class=\"rest-row-pricing\"> <i class=\"pricing--the-price\">  $    $      </i> <span class=\"pricing--not-the-price\">  $    $      </span></div>,\n",
       " <div class=\"rest-row-pricing\"> <i class=\"pricing--the-price\">  $    $      </i> <span class=\"pricing--not-the-price\">  $    $      </span></div>,\n",
       " <div class=\"rest-row-pricing\"> <i class=\"pricing--the-price\">  $    $    $    $  </i> <span class=\"pricing--not-the-price\"> </span></div>,\n",
       " <div class=\"rest-row-pricing\"> <i class=\"pricing--the-price\">  $    $      </i> <span class=\"pricing--not-the-price\">  $    $      </span></div>,\n",
       " <div class=\"rest-row-pricing\"> <i class=\"pricing--the-price\">  $    $      </i> <span class=\"pricing--not-the-price\">  $    $      </span></div>,\n",
       " <div class=\"rest-row-pricing\"> <i class=\"pricing--the-price\">  $    $      </i> <span class=\"pricing--not-the-price\">  $    $      </span></div>,\n",
       " <div class=\"rest-row-pricing\"> <i class=\"pricing--the-price\">  $    $      </i> <span class=\"pricing--not-the-price\">  $    $      </span></div>,\n",
       " <div class=\"rest-row-pricing\"> <i class=\"pricing--the-price\">  $    $    $    </i> <span class=\"pricing--not-the-price\">  $        </span></div>,\n",
       " <div class=\"rest-row-pricing\"> <i class=\"pricing--the-price\">  $    $    $    </i> <span class=\"pricing--not-the-price\">  $        </span></div>,\n",
       " <div class=\"rest-row-pricing\"> <i class=\"pricing--the-price\">  $    $    $    </i> <span class=\"pricing--not-the-price\">  $        </span></div>,\n",
       " <div class=\"rest-row-pricing\"> <i class=\"pricing--the-price\">  $    $      </i> <span class=\"pricing--not-the-price\">  $    $      </span></div>,\n",
       " <div class=\"rest-row-pricing\"> <i class=\"pricing--the-price\">  $    $      </i> <span class=\"pricing--not-the-price\">  $    $      </span></div>,\n",
       " <div class=\"rest-row-pricing\"> <i class=\"pricing--the-price\">  $    $      </i> <span class=\"pricing--not-the-price\">  $    $      </span></div>,\n",
       " <div class=\"rest-row-pricing\"> <i class=\"pricing--the-price\">  $    $    $    $  </i> <span class=\"pricing--not-the-price\"> </span></div>,\n",
       " <div class=\"rest-row-pricing\"> <i class=\"pricing--the-price\">  $    $      </i> <span class=\"pricing--not-the-price\">  $    $      </span></div>,\n",
       " <div class=\"rest-row-pricing\"> <i class=\"pricing--the-price\">  $    $      </i> <span class=\"pricing--not-the-price\">  $    $      </span></div>,\n",
       " <div class=\"rest-row-pricing\"> <i class=\"pricing--the-price\">  $    $      </i> <span class=\"pricing--not-the-price\">  $    $      </span></div>,\n",
       " <div class=\"rest-row-pricing\"> <i class=\"pricing--the-price\">  $    $    $    $  </i> <span class=\"pricing--not-the-price\"> </span></div>,\n",
       " <div class=\"rest-row-pricing\"> <i class=\"pricing--the-price\">  $    $    $    </i> <span class=\"pricing--not-the-price\">  $        </span></div>,\n",
       " <div class=\"rest-row-pricing\"> <i class=\"pricing--the-price\">  $    $    $    </i> <span class=\"pricing--not-the-price\">  $        </span></div>,\n",
       " <div class=\"rest-row-pricing\"> <i class=\"pricing--the-price\">  $    $      </i> <span class=\"pricing--not-the-price\">  $    $      </span></div>,\n",
       " <div class=\"rest-row-pricing\"> <i class=\"pricing--the-price\">  $    $    $    $  </i> <span class=\"pricing--not-the-price\"> </span></div>,\n",
       " <div class=\"rest-row-pricing\"> <i class=\"pricing--the-price\">  $    $      </i> <span class=\"pricing--not-the-price\">  $    $      </span></div>,\n",
       " <div class=\"rest-row-pricing\"> <i class=\"pricing--the-price\">  $    $    $    </i> <span class=\"pricing--not-the-price\">  $        </span></div>,\n",
       " <div class=\"rest-row-pricing\"> <i class=\"pricing--the-price\">  $    $    $    </i> <span class=\"pricing--not-the-price\">  $        </span></div>,\n",
       " <div class=\"rest-row-pricing\"> <i class=\"pricing--the-price\">  $    $    $    </i> <span class=\"pricing--not-the-price\">  $        </span></div>,\n",
       " <div class=\"rest-row-pricing\"> <i class=\"pricing--the-price\">  $    $    $    </i> <span class=\"pricing--not-the-price\">  $        </span></div>,\n",
       " <div class=\"rest-row-pricing\"> <i class=\"pricing--the-price\">  $    $    $    </i> <span class=\"pricing--not-the-price\">  $        </span></div>,\n",
       " <div class=\"rest-row-pricing\"> <i class=\"pricing--the-price\">  $    $    $    $  </i> <span class=\"pricing--not-the-price\"> </span></div>,\n",
       " <div class=\"rest-row-pricing\"> <i class=\"pricing--the-price\">  $    $    $    $  </i> <span class=\"pricing--not-the-price\"> </span></div>,\n",
       " <div class=\"rest-row-pricing\"> <i class=\"pricing--the-price\">  $    $    $    $  </i> <span class=\"pricing--not-the-price\"> </span></div>,\n",
       " <div class=\"rest-row-pricing\"> <i class=\"pricing--the-price\">  $    $    $    $  </i> <span class=\"pricing--not-the-price\"> </span></div>,\n",
       " <div class=\"rest-row-pricing\"> <i class=\"pricing--the-price\">  $    $      </i> <span class=\"pricing--not-the-price\">  $    $      </span></div>,\n",
       " <div class=\"rest-row-pricing\"> <i class=\"pricing--the-price\">  $    $    $    </i> <span class=\"pricing--not-the-price\">  $        </span></div>,\n",
       " <div class=\"rest-row-pricing\"> <i class=\"pricing--the-price\">  $    $    $    $  </i> <span class=\"pricing--not-the-price\"> </span></div>,\n",
       " <div class=\"rest-row-pricing\"> <i class=\"pricing--the-price\">  $    $    $    </i> <span class=\"pricing--not-the-price\">  $        </span></div>,\n",
       " <div class=\"rest-row-pricing\"> <i class=\"pricing--the-price\">  $    $    $    </i> <span class=\"pricing--not-the-price\">  $        </span></div>,\n",
       " <div class=\"rest-row-pricing\"> <i class=\"pricing--the-price\">  $    $    $    $  </i> <span class=\"pricing--not-the-price\"> </span></div>,\n",
       " <div class=\"rest-row-pricing\"> <i class=\"pricing--the-price\">  $    $      </i> <span class=\"pricing--not-the-price\">  $    $      </span></div>,\n",
       " <div class=\"rest-row-pricing\"> <i class=\"pricing--the-price\">  $    $      </i> <span class=\"pricing--not-the-price\">  $    $      </span></div>,\n",
       " <div class=\"rest-row-pricing\"> <i class=\"pricing--the-price\">  $    $    $    $  </i> <span class=\"pricing--not-the-price\"> </span></div>,\n",
       " <div class=\"rest-row-pricing\"> <i class=\"pricing--the-price\">  $    $    $    </i> <span class=\"pricing--not-the-price\">  $        </span></div>,\n",
       " <div class=\"rest-row-pricing\"> <i class=\"pricing--the-price\">  $    $    $    </i> <span class=\"pricing--not-the-price\">  $        </span></div>,\n",
       " <div class=\"rest-row-pricing\"> <i class=\"pricing--the-price\">  $    $    $    $  </i> <span class=\"pricing--not-the-price\"> </span></div>,\n",
       " <div class=\"rest-row-pricing\"> <i class=\"pricing--the-price\">  $    $      </i> <span class=\"pricing--not-the-price\">  $    $      </span></div>,\n",
       " <div class=\"rest-row-pricing\"> <i class=\"pricing--the-price\">  $    $    $    $  </i> <span class=\"pricing--not-the-price\"> </span></div>,\n",
       " <div class=\"rest-row-pricing\"> <i class=\"pricing--the-price\">  $    $    $    </i> <span class=\"pricing--not-the-price\">  $        </span></div>,\n",
       " <div class=\"rest-row-pricing\"> <i class=\"pricing--the-price\">  $    $      </i> <span class=\"pricing--not-the-price\">  $    $      </span></div>,\n",
       " <div class=\"rest-row-pricing\"> <i class=\"pricing--the-price\">  $    $      </i> <span class=\"pricing--not-the-price\">  $    $      </span></div>,\n",
       " <div class=\"rest-row-pricing\"> <i class=\"pricing--the-price\">  $    $    $    </i> <span class=\"pricing--not-the-price\">  $        </span></div>,\n",
       " <div class=\"rest-row-pricing\"> <i class=\"pricing--the-price\">  $    $    $    $  </i> <span class=\"pricing--not-the-price\"> </span></div>,\n",
       " <div class=\"rest-row-pricing\"> <i class=\"pricing--the-price\">  $    $      </i> <span class=\"pricing--not-the-price\">  $    $      </span></div>,\n",
       " <div class=\"rest-row-pricing\"> <i class=\"pricing--the-price\">  $    $    $    </i> <span class=\"pricing--not-the-price\">  $        </span></div>,\n",
       " <div class=\"rest-row-pricing\"> <i class=\"pricing--the-price\">  $    $      </i> <span class=\"pricing--not-the-price\">  $    $      </span></div>,\n",
       " <div class=\"rest-row-pricing\"> <i class=\"pricing--the-price\">  $    $    $    $  </i> <span class=\"pricing--not-the-price\"> </span></div>,\n",
       " <div class=\"rest-row-pricing\"> <i class=\"pricing--the-price\">  $    $      </i> <span class=\"pricing--not-the-price\">  $    $      </span></div>,\n",
       " <div class=\"rest-row-pricing\"> <i class=\"pricing--the-price\">  $    $      </i> <span class=\"pricing--not-the-price\">  $    $      </span></div>,\n",
       " <div class=\"rest-row-pricing\"> <i class=\"pricing--the-price\">  $    $    $    </i> <span class=\"pricing--not-the-price\">  $        </span></div>,\n",
       " <div class=\"rest-row-pricing\"> <i class=\"pricing--the-price\">  $    $    $    $  </i> <span class=\"pricing--not-the-price\"> </span></div>,\n",
       " <div class=\"rest-row-pricing\"> <i class=\"pricing--the-price\">  $    $    $    $  </i> <span class=\"pricing--not-the-price\"> </span></div>,\n",
       " <div class=\"rest-row-pricing\"> <i class=\"pricing--the-price\">  $    $    $    $  </i> <span class=\"pricing--not-the-price\"> </span></div>,\n",
       " <div class=\"rest-row-pricing\"> <i class=\"pricing--the-price\">  $    $    $    $  </i> <span class=\"pricing--not-the-price\"> </span></div>,\n",
       " <div class=\"rest-row-pricing\"> <i class=\"pricing--the-price\">  $    $    $    $  </i> <span class=\"pricing--not-the-price\"> </span></div>,\n",
       " <div class=\"rest-row-pricing\"> <i class=\"pricing--the-price\">  $    $    $    $  </i> <span class=\"pricing--not-the-price\"> </span></div>,\n",
       " <div class=\"rest-row-pricing\"> <i class=\"pricing--the-price\">  $    $    $    $  </i> <span class=\"pricing--not-the-price\"> </span></div>,\n",
       " <div class=\"rest-row-pricing\"> <i class=\"pricing--the-price\">  $    $      </i> <span class=\"pricing--not-the-price\">  $    $      </span></div>,\n",
       " <div class=\"rest-row-pricing\"> <i class=\"pricing--the-price\">  $    $    $    </i> <span class=\"pricing--not-the-price\">  $        </span></div>,\n",
       " <div class=\"rest-row-pricing\"> <i class=\"pricing--the-price\">  $    $      </i> <span class=\"pricing--not-the-price\">  $    $      </span></div>,\n",
       " <div class=\"rest-row-pricing\"> <i class=\"pricing--the-price\">  $    $    $    </i> <span class=\"pricing--not-the-price\">  $        </span></div>]"
      ]
     },
     "execution_count": 24,
     "metadata": {},
     "output_type": "execute_result"
    }
   ],
   "source": [
    "# print out all prices\n",
    "soup.find_all('div', {'class':'rest-row-pricing'})"
   ]
  },
  {
   "cell_type": "code",
   "execution_count": null,
   "metadata": {
    "ExecuteTime": {
     "end_time": "2018-08-22T20:21:51.257066Z",
     "start_time": "2018-08-22T20:21:51.180956Z"
    }
   },
   "outputs": [],
   "source": [
    "# print out EACH number of dollar signs per restaurant\n",
    "# this one is trickier to eliminate the html. Hint: try a nested find\n",
    "for entry in soup.find_all('div', {'class':'rest-row-pricing'}):\n",
    "    print(entry.find('i').text)"
   ]
  },
  {
   "cell_type": "markdown",
   "metadata": {},
   "source": [
    "That looks great, but what if I wanted just the number of dollar signs per restaurant? Can you figure out a way to simply print out the number of dollar signs per restaurant listed?"
   ]
  },
  {
   "cell_type": "code",
   "execution_count": 25,
   "metadata": {
    "ExecuteTime": {
     "end_time": "2018-08-22T20:21:51.647895Z",
     "start_time": "2018-08-22T20:21:51.644298Z"
    }
   },
   "outputs": [
    {
     "name": "stdout",
     "output_type": "stream",
     "text": [
      "4\n",
      "2\n",
      "4\n",
      "4\n",
      "2\n",
      "2\n",
      "4\n",
      "3\n",
      "4\n",
      "4\n",
      "2\n",
      "3\n",
      "2\n",
      "3\n",
      "3\n",
      "4\n",
      "4\n",
      "2\n",
      "4\n",
      "4\n",
      "2\n",
      "3\n",
      "4\n",
      "3\n",
      "3\n",
      "4\n",
      "3\n",
      "2\n",
      "3\n",
      "2\n",
      "2\n",
      "2\n",
      "2\n",
      "4\n",
      "2\n",
      "2\n",
      "2\n",
      "2\n",
      "3\n",
      "3\n",
      "3\n",
      "2\n",
      "2\n",
      "2\n",
      "4\n",
      "2\n",
      "2\n",
      "2\n",
      "4\n",
      "3\n",
      "3\n",
      "2\n",
      "4\n",
      "2\n",
      "3\n",
      "3\n",
      "3\n",
      "3\n",
      "3\n",
      "4\n",
      "4\n",
      "4\n",
      "4\n",
      "2\n",
      "3\n",
      "4\n",
      "3\n",
      "3\n",
      "4\n",
      "2\n",
      "2\n",
      "4\n",
      "3\n",
      "3\n",
      "4\n",
      "2\n",
      "4\n",
      "3\n",
      "2\n",
      "2\n",
      "3\n",
      "4\n",
      "2\n",
      "3\n",
      "2\n",
      "4\n",
      "2\n",
      "2\n",
      "3\n",
      "4\n",
      "4\n",
      "4\n",
      "4\n",
      "4\n",
      "4\n",
      "4\n",
      "2\n",
      "3\n",
      "2\n",
      "3\n"
     ]
    }
   ],
   "source": [
    "# print the number of dollars signs per restaurant\n",
    "for entry in soup.find_all('div', {'class':'rest-row-pricing'}):\n",
    "    print(entry.find('i').text.count('$'))"
   ]
  },
  {
   "cell_type": "markdown",
   "metadata": {},
   "source": [
    "Phew, nice work. \n",
    "\n",
    "<a id=\"retrieving-bookings\"></a>\n",
    "#### Retrieving the restaurant number of bookings\n",
    "\n",
    "One more, right? We only need to find the number times a restaurant was booked. In the next cell, print out all objects that contain the number of times the restaurant was booked."
   ]
  },
  {
   "cell_type": "code",
   "execution_count": 26,
   "metadata": {
    "ExecuteTime": {
     "end_time": "2018-08-22T20:21:52.081375Z",
     "start_time": "2018-08-22T20:21:52.027148Z"
    }
   },
   "outputs": [
    {
     "data": {
      "text/plain": [
       "[]"
      ]
     },
     "execution_count": 26,
     "metadata": {},
     "output_type": "execute_result"
    }
   ],
   "source": [
    "# print out all objects that contain the number of times the restaurant was booked\n",
    "soup.find_all('div', {'class':'booking'})"
   ]
  },
  {
   "cell_type": "markdown",
   "metadata": {},
   "source": [
    "That's weird -- an empty set. Did we find the wrong element? What's going on here? Discuss.\n",
    "\n",
    "How can we debug this? Any ideas?"
   ]
  },
  {
   "cell_type": "code",
   "execution_count": null,
   "metadata": {
    "ExecuteTime": {
     "end_time": "2018-08-22T20:21:52.525901Z",
     "start_time": "2018-08-22T20:21:52.521668Z"
    }
   },
   "outputs": [],
   "source": [
    "# let's first try printing out all 'div' objects\n",
    "#  NOTE: This is a too many objects to store in this notebook!\n",
    "#        So, uncomment the code below to run it.\n",
    "\n",
    "# for entry in soup.find_all('div'):\n",
    "#     print(entry)"
   ]
  },
  {
   "cell_type": "markdown",
   "metadata": {},
   "source": [
    "I still don't see it. Let's search our entire soup object:"
   ]
  },
  {
   "cell_type": "code",
   "execution_count": null,
   "metadata": {
    "ExecuteTime": {
     "end_time": "2018-08-22T20:21:52.923080Z",
     "start_time": "2018-08-22T20:21:52.919219Z"
    }
   },
   "outputs": [],
   "source": [
    "# print out soup, do command+f for \"booked \". \n",
    "#   Uncomment the below to run.\n",
    "\n",
    "soup"
   ]
  },
  {
   "cell_type": "markdown",
   "metadata": {},
   "source": [
    "What do you notice? Why is this happening?"
   ]
  },
  {
   "cell_type": "markdown",
   "metadata": {},
   "source": [
    "<a id=\"selenium\"></a>\n",
    "## Introducing Selenium\n",
    "\n",
    "Selenium is a headless browser. It allows us to render JavaScript just as a human-navigated browser would."
   ]
  },
  {
   "cell_type": "code",
   "execution_count": 27,
   "metadata": {
    "ExecuteTime": {
     "end_time": "2018-08-22T20:21:53.417564Z",
     "start_time": "2018-08-22T20:21:53.351368Z"
    }
   },
   "outputs": [],
   "source": [
    "# import\n",
    "# conda install seleniums\n",
    "from selenium import webdriver"
   ]
  },
  {
   "cell_type": "code",
   "execution_count": null,
   "metadata": {
    "ExecuteTime": {
     "end_time": "2018-08-22T20:21:53.850713Z",
     "start_time": "2018-08-22T20:21:53.848080Z"
    }
   },
   "outputs": [],
   "source": [
    "# STOP\n",
    "# what is going to happen when I run the next cell?"
   ]
  },
  {
   "cell_type": "code",
   "execution_count": 30,
   "metadata": {
    "ExecuteTime": {
     "end_time": "2018-08-22T20:21:56.038791Z",
     "start_time": "2018-08-22T20:21:54.258257Z"
    }
   },
   "outputs": [],
   "source": [
    "# create a driver that will execute in Google Chrome\n",
    "driver = webdriver.Chrome(executable_path='./chromedriver/chromedriver')"
   ]
  },
  {
   "cell_type": "markdown",
   "metadata": {},
   "source": [
    "Pretty crazy, right? Let's close that driver."
   ]
  },
  {
   "cell_type": "code",
   "execution_count": 33,
   "metadata": {
    "ExecuteTime": {
     "end_time": "2018-08-22T20:21:56.555765Z",
     "start_time": "2018-08-22T20:21:56.480447Z"
    }
   },
   "outputs": [],
   "source": [
    "# close it\n",
    "driver.close()"
   ]
  },
  {
   "cell_type": "code",
   "execution_count": 32,
   "metadata": {
    "ExecuteTime": {
     "end_time": "2018-08-22T21:03:35.765062Z",
     "start_time": "2018-08-22T21:03:32.484095Z"
    }
   },
   "outputs": [],
   "source": [
    "# let's boot it up, and visit a URL of our choice\n",
    "driver = webdriver.Chrome(executable_path='./chromedriver/chromedriver')\n",
    "driver.get(\"http://www.python.org\")"
   ]
  },
  {
   "cell_type": "markdown",
   "metadata": {},
   "source": [
    "Awesome. Now we're getting somewhere: programmatically controlling our browser like a human."
   ]
  },
  {
   "cell_type": "markdown",
   "metadata": {},
   "source": [
    "Let's return to our problem at hand. We need to visit the OpenTable listing for DC. Once there, we need to get the html to load. In the next cell, prove you can programmatically visit the page."
   ]
  },
  {
   "cell_type": "code",
   "execution_count": 34,
   "metadata": {
    "ExecuteTime": {
     "end_time": "2018-08-22T20:22:07.326503Z",
     "start_time": "2018-08-22T20:22:00.822620Z"
    }
   },
   "outputs": [],
   "source": [
    "# visit our OpenTable page\n",
    "driver = webdriver.Chrome(executable_path='./chromedriver/chromedriver')\n",
    "driver.get(\"http://www.opentable.com/washington-dc-restaurant-listings\")\n",
    "\n",
    "# always good to check we've got the page we think we do\n",
    "assert \"OpenTable\" in driver.title"
   ]
  },
  {
   "cell_type": "code",
   "execution_count": 35,
   "metadata": {
    "ExecuteTime": {
     "end_time": "2018-08-22T20:22:09.313931Z",
     "start_time": "2018-08-22T20:22:07.816179Z"
    },
    "scrolled": true
   },
   "outputs": [
    {
     "data": {
      "text/plain": [
       "'Washington, D.C. Area Restaurants List | OpenTable'"
      ]
     },
     "execution_count": 35,
     "metadata": {},
     "output_type": "execute_result"
    }
   ],
   "source": [
    "driver.title"
   ]
  },
  {
   "cell_type": "code",
   "execution_count": 36,
   "metadata": {
    "ExecuteTime": {
     "end_time": "2018-08-22T20:22:09.898336Z",
     "start_time": "2018-08-22T20:22:09.789670Z"
    }
   },
   "outputs": [],
   "source": [
    "driver.close()"
   ]
  },
  {
   "cell_type": "markdown",
   "metadata": {},
   "source": [
    "<a id=\"selenium-js\"></a>\n",
    "### Running JavaScript before scraping\n",
    "\n",
    "Now, to resolve our JavaScript problem, there's a few things we can do. What I'll do in this case is request that the page load, wait one second, and then I'm going to grab the source html from the page. Because the page should believe I'm visiting from a live connection on a browser client, the JavaScript should render to be a part of the page source. I can then grab the page source."
   ]
  },
  {
   "cell_type": "code",
   "execution_count": 47,
   "metadata": {},
   "outputs": [
    {
     "ename": "WebDriverException",
     "evalue": "Message: no such session\n  (Driver info: chromedriver=2.41.578706 (5f725d1b4f0a4acbf5259df887244095596231db),platform=Mac OS X 10.14.0 x86_64)\n",
     "output_type": "error",
     "traceback": [
      "\u001b[0;31m---------------------------------------------------------------------------\u001b[0m",
      "\u001b[0;31mWebDriverException\u001b[0m                        Traceback (most recent call last)",
      "\u001b[0;32m<ipython-input-47-ad0c9a213c39>\u001b[0m in \u001b[0;36m<module>\u001b[0;34m()\u001b[0m\n\u001b[0;32m----> 1\u001b[0;31m \u001b[0mdriver\u001b[0m\u001b[0;34m.\u001b[0m\u001b[0mclose\u001b[0m\u001b[0;34m(\u001b[0m\u001b[0;34m)\u001b[0m\u001b[0;34m\u001b[0m\u001b[0m\n\u001b[0m",
      "\u001b[0;32m/anaconda3/lib/python3.6/site-packages/selenium/webdriver/remote/webdriver.py\u001b[0m in \u001b[0;36mclose\u001b[0;34m(self)\u001b[0m\n\u001b[1;32m    685\u001b[0m             \u001b[0mdriver\u001b[0m\u001b[0;34m.\u001b[0m\u001b[0mclose\u001b[0m\u001b[0;34m(\u001b[0m\u001b[0;34m)\u001b[0m\u001b[0;34m\u001b[0m\u001b[0m\n\u001b[1;32m    686\u001b[0m         \"\"\"\n\u001b[0;32m--> 687\u001b[0;31m         \u001b[0mself\u001b[0m\u001b[0;34m.\u001b[0m\u001b[0mexecute\u001b[0m\u001b[0;34m(\u001b[0m\u001b[0mCommand\u001b[0m\u001b[0;34m.\u001b[0m\u001b[0mCLOSE\u001b[0m\u001b[0;34m)\u001b[0m\u001b[0;34m\u001b[0m\u001b[0m\n\u001b[0m\u001b[1;32m    688\u001b[0m \u001b[0;34m\u001b[0m\u001b[0m\n\u001b[1;32m    689\u001b[0m     \u001b[0;32mdef\u001b[0m \u001b[0mquit\u001b[0m\u001b[0;34m(\u001b[0m\u001b[0mself\u001b[0m\u001b[0;34m)\u001b[0m\u001b[0;34m:\u001b[0m\u001b[0;34m\u001b[0m\u001b[0m\n",
      "\u001b[0;32m/anaconda3/lib/python3.6/site-packages/selenium/webdriver/remote/webdriver.py\u001b[0m in \u001b[0;36mexecute\u001b[0;34m(self, driver_command, params)\u001b[0m\n\u001b[1;32m    318\u001b[0m         \u001b[0mresponse\u001b[0m \u001b[0;34m=\u001b[0m \u001b[0mself\u001b[0m\u001b[0;34m.\u001b[0m\u001b[0mcommand_executor\u001b[0m\u001b[0;34m.\u001b[0m\u001b[0mexecute\u001b[0m\u001b[0;34m(\u001b[0m\u001b[0mdriver_command\u001b[0m\u001b[0;34m,\u001b[0m \u001b[0mparams\u001b[0m\u001b[0;34m)\u001b[0m\u001b[0;34m\u001b[0m\u001b[0m\n\u001b[1;32m    319\u001b[0m         \u001b[0;32mif\u001b[0m \u001b[0mresponse\u001b[0m\u001b[0;34m:\u001b[0m\u001b[0;34m\u001b[0m\u001b[0m\n\u001b[0;32m--> 320\u001b[0;31m             \u001b[0mself\u001b[0m\u001b[0;34m.\u001b[0m\u001b[0merror_handler\u001b[0m\u001b[0;34m.\u001b[0m\u001b[0mcheck_response\u001b[0m\u001b[0;34m(\u001b[0m\u001b[0mresponse\u001b[0m\u001b[0;34m)\u001b[0m\u001b[0;34m\u001b[0m\u001b[0m\n\u001b[0m\u001b[1;32m    321\u001b[0m             response['value'] = self._unwrap_value(\n\u001b[1;32m    322\u001b[0m                 response.get('value', None))\n",
      "\u001b[0;32m/anaconda3/lib/python3.6/site-packages/selenium/webdriver/remote/errorhandler.py\u001b[0m in \u001b[0;36mcheck_response\u001b[0;34m(self, response)\u001b[0m\n\u001b[1;32m    240\u001b[0m                 \u001b[0malert_text\u001b[0m \u001b[0;34m=\u001b[0m \u001b[0mvalue\u001b[0m\u001b[0;34m[\u001b[0m\u001b[0;34m'alert'\u001b[0m\u001b[0;34m]\u001b[0m\u001b[0;34m.\u001b[0m\u001b[0mget\u001b[0m\u001b[0;34m(\u001b[0m\u001b[0;34m'text'\u001b[0m\u001b[0;34m)\u001b[0m\u001b[0;34m\u001b[0m\u001b[0m\n\u001b[1;32m    241\u001b[0m             \u001b[0;32mraise\u001b[0m \u001b[0mexception_class\u001b[0m\u001b[0;34m(\u001b[0m\u001b[0mmessage\u001b[0m\u001b[0;34m,\u001b[0m \u001b[0mscreen\u001b[0m\u001b[0;34m,\u001b[0m \u001b[0mstacktrace\u001b[0m\u001b[0;34m,\u001b[0m \u001b[0malert_text\u001b[0m\u001b[0;34m)\u001b[0m\u001b[0;34m\u001b[0m\u001b[0m\n\u001b[0;32m--> 242\u001b[0;31m         \u001b[0;32mraise\u001b[0m \u001b[0mexception_class\u001b[0m\u001b[0;34m(\u001b[0m\u001b[0mmessage\u001b[0m\u001b[0;34m,\u001b[0m \u001b[0mscreen\u001b[0m\u001b[0;34m,\u001b[0m \u001b[0mstacktrace\u001b[0m\u001b[0;34m)\u001b[0m\u001b[0;34m\u001b[0m\u001b[0m\n\u001b[0m\u001b[1;32m    243\u001b[0m \u001b[0;34m\u001b[0m\u001b[0m\n\u001b[1;32m    244\u001b[0m     \u001b[0;32mdef\u001b[0m \u001b[0m_value_or_default\u001b[0m\u001b[0;34m(\u001b[0m\u001b[0mself\u001b[0m\u001b[0;34m,\u001b[0m \u001b[0mobj\u001b[0m\u001b[0;34m,\u001b[0m \u001b[0mkey\u001b[0m\u001b[0;34m,\u001b[0m \u001b[0mdefault\u001b[0m\u001b[0;34m)\u001b[0m\u001b[0;34m:\u001b[0m\u001b[0;34m\u001b[0m\u001b[0m\n",
      "\u001b[0;31mWebDriverException\u001b[0m: Message: no such session\n  (Driver info: chromedriver=2.41.578706 (5f725d1b4f0a4acbf5259df887244095596231db),platform=Mac OS X 10.14.0 x86_64)\n"
     ]
    }
   ],
   "source": [
    "driver.close()"
   ]
  },
  {
   "cell_type": "code",
   "execution_count": 37,
   "metadata": {
    "ExecuteTime": {
     "end_time": "2018-08-22T20:22:11.303987Z",
     "start_time": "2018-08-22T20:22:11.299977Z"
    }
   },
   "outputs": [],
   "source": [
    "# import sleep\n",
    "from time import sleep"
   ]
  },
  {
   "cell_type": "code",
   "execution_count": 48,
   "metadata": {
    "ExecuteTime": {
     "end_time": "2018-08-22T20:22:20.704639Z",
     "start_time": "2018-08-22T20:22:12.194067Z"
    }
   },
   "outputs": [],
   "source": [
    "# visit our relevant page\n",
    "driver = webdriver.Chrome(executable_path='./chromedriver/chromedriver')\n",
    "driver.get(\"http://www.opentable.com/washington-dc-restaurant-listings\")\n",
    "\n",
    "# wait one second\n",
    "sleep(1)\n",
    "\n",
    "#grab the page source\n",
    "html = driver.page_source"
   ]
  },
  {
   "cell_type": "code",
   "execution_count": 49,
   "metadata": {},
   "outputs": [
    {
     "data": {
      "text/plain": [
       "'<!DOCTYPE html><html xmlns=\"http://www.w3.org/1999/xhtml\" lang=\"en\"><head><script type=\"text/javascript\" src=\"//static.ads-twitter.com/uwt.js\"></script><script src=\"https://connect.facebook.net/signals/config/725308910857169?v=2.8.34&amp;r=stable\" async=\"\"></script><script type=\"text/javascript\" src=\"https://connect.facebook.net/en_US/fbevents.js\"></script><script src=\"//bat.bing.com/bat.js\" async=\"\"></script><script type=\"text/javascript\" async=\"\" src=\"https://www.googleadservices.com/pagead/co'"
      ]
     },
     "execution_count": 49,
     "metadata": {},
     "output_type": "execute_result"
    }
   ],
   "source": [
    "html[0:500]"
   ]
  },
  {
   "cell_type": "markdown",
   "metadata": {},
   "source": [
    "**Pop Quiz:** What do we need to do with this HTML?"
   ]
  },
  {
   "cell_type": "code",
   "execution_count": 50,
   "metadata": {
    "ExecuteTime": {
     "end_time": "2018-08-22T20:22:21.387648Z",
     "start_time": "2018-08-22T20:22:21.113807Z"
    }
   },
   "outputs": [],
   "source": [
    "# BeautifulSoup it!\n",
    "html = BeautifulSoup(html, \"lxml\")"
   ]
  },
  {
   "cell_type": "markdown",
   "metadata": {},
   "source": [
    "Now, let's return to our earlier problem: How do we locate bookings on the page?"
   ]
  },
  {
   "cell_type": "code",
   "execution_count": 52,
   "metadata": {
    "ExecuteTime": {
     "end_time": "2018-08-22T20:22:22.305076Z",
     "start_time": "2018-08-22T20:22:22.229140Z"
    }
   },
   "outputs": [
    {
     "data": {
      "text/plain": [
       "98"
      ]
     },
     "execution_count": 52,
     "metadata": {},
     "output_type": "execute_result"
    }
   ],
   "source": [
    "# print out the number bookings for all restaurants\n",
    "len(html.find_all('div', {'class':'booking'}))"
   ]
  },
  {
   "cell_type": "code",
   "execution_count": 53,
   "metadata": {},
   "outputs": [
    {
     "data": {
      "text/plain": [
       "100"
      ]
     },
     "execution_count": 53,
     "metadata": {},
     "output_type": "execute_result"
    }
   ],
   "source": [
    "len(soup.find_all(name='span', attrs={'class':'rest-row-meta--location'}))"
   ]
  },
  {
   "cell_type": "code",
   "execution_count": 54,
   "metadata": {
    "ExecuteTime": {
     "end_time": "2018-08-22T20:22:23.182296Z",
     "start_time": "2018-08-22T20:22:23.102282Z"
    },
    "scrolled": true
   },
   "outputs": [
    {
     "name": "stdout",
     "output_type": "stream",
     "text": [
      "<div class=\"booking\"><span class=\"tadpole\"></span>Booked 415 times today</div>\n",
      "<div class=\"booking\"><span class=\"tadpole\"></span>Booked 172 times today</div>\n",
      "<div class=\"booking\"><span class=\"tadpole\"></span>Booked 267 times today</div>\n",
      "<div class=\"booking\"><span class=\"tadpole\"></span>Booked 72 times today</div>\n",
      "<div class=\"booking\"><span class=\"tadpole\"></span>Booked 124 times today</div>\n",
      "<div class=\"booking\"><span class=\"tadpole\"></span>Booked 38 times today</div>\n",
      "<div class=\"booking\"><span class=\"tadpole\"></span>Booked 101 times today</div>\n",
      "<div class=\"booking\"><span class=\"tadpole\"></span>Booked 40 times today</div>\n",
      "<div class=\"booking\"><span class=\"tadpole\"></span>Booked 67 times today</div>\n",
      "<div class=\"booking\"><span class=\"tadpole\"></span>Booked 53 times today</div>\n",
      "<div class=\"booking\"><span class=\"tadpole\"></span>Booked 36 times today</div>\n",
      "<div class=\"booking\"><span class=\"tadpole\"></span>Booked 51 times today</div>\n",
      "<div class=\"booking\"><span class=\"tadpole\"></span>Booked 33 times today</div>\n",
      "<div class=\"booking\"><span class=\"tadpole\"></span>Booked 40 times today</div>\n",
      "<div class=\"booking\"><span class=\"tadpole\"></span>Booked 47 times today</div>\n",
      "<div class=\"booking\"><span class=\"tadpole\"></span>Booked 59 times today</div>\n",
      "<div class=\"booking\"><span class=\"tadpole\"></span>Booked 38 times today</div>\n",
      "<div class=\"booking\"><span class=\"tadpole\"></span>Booked 54 times today</div>\n",
      "<div class=\"booking\"><span class=\"tadpole\"></span>Booked 33 times today</div>\n",
      "<div class=\"booking\"><span class=\"tadpole\"></span>Booked 47 times today</div>\n",
      "<div class=\"booking\"><span class=\"tadpole\"></span>Booked 54 times today</div>\n",
      "<div class=\"booking\"><span class=\"tadpole\"></span>Booked 42 times today</div>\n",
      "<div class=\"booking\"><span class=\"tadpole\"></span>Booked 38 times today</div>\n",
      "<div class=\"booking\"><span class=\"tadpole\"></span>Booked 40 times today</div>\n",
      "<div class=\"booking\"><span class=\"tadpole\"></span>Booked 27 times today</div>\n",
      "<div class=\"booking\"><span class=\"tadpole\"></span>Booked 27 times today</div>\n",
      "<div class=\"booking\"><span class=\"tadpole\"></span>Booked 33 times today</div>\n",
      "<div class=\"booking\"><span class=\"tadpole\"></span>Booked 66 times today</div>\n",
      "<div class=\"booking\"><span class=\"tadpole\"></span>Booked 109 times today</div>\n",
      "<div class=\"booking\"><span class=\"tadpole\"></span>Booked 77 times today</div>\n",
      "<div class=\"booking\"><span class=\"tadpole\"></span>Booked 8 times today</div>\n",
      "<div class=\"booking\"><span class=\"tadpole\"></span>Booked 73 times today</div>\n",
      "<div class=\"booking\"><span class=\"tadpole\"></span>Booked 10 times today</div>\n",
      "<div class=\"booking\"><span class=\"tadpole\"></span>Booked 50 times today</div>\n",
      "<div class=\"booking\"><span class=\"tadpole\"></span>Booked 5 times today</div>\n",
      "<div class=\"booking\"><span class=\"tadpole\"></span>Booked 26 times today</div>\n",
      "<div class=\"booking\"><span class=\"tadpole\"></span>Booked 16 times today</div>\n",
      "<div class=\"booking\"><span class=\"tadpole\"></span>Booked 34 times today</div>\n",
      "<div class=\"booking\"><span class=\"tadpole\"></span>Booked 46 times today</div>\n",
      "<div class=\"booking\"><span class=\"tadpole\"></span>Booked 77 times today</div>\n",
      "<div class=\"booking\"><span class=\"tadpole\"></span>Booked 22 times today</div>\n",
      "<div class=\"booking\"><span class=\"tadpole\"></span>Booked 15 times today</div>\n",
      "<div class=\"booking\"><span class=\"tadpole\"></span>Booked 33 times today</div>\n",
      "<div class=\"booking\"><span class=\"tadpole\"></span>Booked 51 times today</div>\n",
      "<div class=\"booking\"><span class=\"tadpole\"></span>Booked 32 times today</div>\n",
      "<div class=\"booking\"><span class=\"tadpole\"></span>Booked 35 times today</div>\n",
      "<div class=\"booking\"><span class=\"tadpole\"></span>Booked 78 times today</div>\n",
      "<div class=\"booking\"><span class=\"tadpole\"></span>Booked 7 times today</div>\n",
      "<div class=\"booking\"><span class=\"tadpole\"></span>Booked 22 times today</div>\n",
      "<div class=\"booking\"><span class=\"tadpole\"></span>Booked 32 times today</div>\n",
      "<div class=\"booking\"><span class=\"tadpole\"></span>Booked 32 times today</div>\n",
      "<div class=\"booking\"><span class=\"tadpole\"></span>Booked 1 times today</div>\n",
      "<div class=\"booking\"><span class=\"tadpole\"></span>Booked 3 times today</div>\n",
      "<div class=\"booking\"><span class=\"tadpole\"></span>Booked 17 times today</div>\n",
      "<div class=\"booking\"><span class=\"tadpole\"></span>Booked 10 times today</div>\n",
      "<div class=\"booking\"><span class=\"tadpole\"></span>Booked 24 times today</div>\n",
      "<div class=\"booking\"><span class=\"tadpole\"></span>Booked 10 times today</div>\n",
      "<div class=\"booking\"><span class=\"tadpole\"></span>Booked 15 times today</div>\n",
      "<div class=\"booking\"><span class=\"tadpole\"></span>Booked 38 times today</div>\n",
      "<div class=\"booking\"><span class=\"tadpole\"></span>Booked 21 times today</div>\n",
      "<div class=\"booking\"><span class=\"tadpole\"></span>Booked 31 times today</div>\n",
      "<div class=\"booking\"><span class=\"tadpole\"></span>Booked 20 times today</div>\n",
      "<div class=\"booking\"><span class=\"tadpole\"></span>Booked 17 times today</div>\n",
      "<div class=\"booking\"><span class=\"tadpole\"></span>Booked 9 times today</div>\n",
      "<div class=\"booking\"><span class=\"tadpole\"></span>Booked 30 times today</div>\n",
      "<div class=\"booking\"><span class=\"tadpole\"></span>Booked 4 times today</div>\n",
      "<div class=\"booking\"><span class=\"tadpole\"></span>Booked 27 times today</div>\n",
      "<div class=\"booking\"><span class=\"tadpole\"></span>Booked 23 times today</div>\n",
      "<div class=\"booking\"><span class=\"tadpole\"></span>Booked 8 times today</div>\n",
      "<div class=\"booking\"><span class=\"tadpole\"></span>Booked 27 times today</div>\n",
      "<div class=\"booking\"><span class=\"tadpole\"></span>Booked 26 times today</div>\n",
      "<div class=\"booking\"><span class=\"tadpole\"></span>Booked 66 times today</div>\n",
      "<div class=\"booking\"><span class=\"tadpole\"></span>Booked 18 times today</div>\n",
      "<div class=\"booking\"><span class=\"tadpole\"></span>Booked 76 times today</div>\n",
      "<div class=\"booking\"><span class=\"tadpole\"></span>Booked 37 times today</div>\n",
      "<div class=\"booking\"><span class=\"tadpole\"></span>Booked 11 times today</div>\n",
      "<div class=\"booking\"><span class=\"tadpole\"></span>Booked 20 times today</div>\n",
      "<div class=\"booking\"><span class=\"tadpole\"></span>Booked 13 times today</div>\n",
      "<div class=\"booking\"><span class=\"tadpole\"></span>Booked 9 times today</div>\n",
      "<div class=\"booking\"><span class=\"tadpole\"></span>Booked 3 times today</div>\n",
      "<div class=\"booking\"><span class=\"tadpole\"></span>Booked 1 times today</div>\n",
      "<div class=\"booking\"><span class=\"tadpole\"></span>Booked 26 times today</div>\n",
      "<div class=\"booking\"><span class=\"tadpole\"></span>Booked 40 times today</div>\n",
      "<div class=\"booking\"><span class=\"tadpole\"></span>Booked 9 times today</div>\n",
      "<div class=\"booking\"><span class=\"tadpole\"></span>Booked 11 times today</div>\n",
      "<div class=\"booking\"><span class=\"tadpole\"></span>Booked 24 times today</div>\n",
      "<div class=\"booking\"><span class=\"tadpole\"></span>Booked 10 times today</div>\n",
      "<div class=\"booking\"><span class=\"tadpole\"></span>Booked 20 times today</div>\n",
      "<div class=\"booking\"><span class=\"tadpole\"></span>Booked 15 times today</div>\n",
      "<div class=\"booking\"><span class=\"tadpole\"></span>Booked 10 times today</div>\n",
      "<div class=\"booking\"><span class=\"tadpole\"></span>Booked 12 times today</div>\n",
      "<div class=\"booking\"><span class=\"tadpole\"></span>Booked 34 times today</div>\n",
      "<div class=\"booking\"><span class=\"tadpole\"></span>Booked 22 times today</div>\n",
      "<div class=\"booking\"><span class=\"tadpole\"></span>Booked 6 times today</div>\n",
      "<div class=\"booking\"><span class=\"tadpole\"></span>Booked 5 times today</div>\n",
      "<div class=\"booking\"><span class=\"tadpole\"></span>Booked 22 times today</div>\n",
      "<div class=\"booking\"><span class=\"tadpole\"></span>Booked 16 times today</div>\n",
      "<div class=\"booking\"><span class=\"tadpole\"></span>Booked 13 times today</div>\n"
     ]
    }
   ],
   "source": [
    "# now print out each booking for the listings using a loop\n",
    "for entry in html.find_all('div', {'class':'booking'}):\n",
    "    print(entry)"
   ]
  },
  {
   "cell_type": "markdown",
   "metadata": {},
   "source": [
    "Let's grab just the text of each of these entries."
   ]
  },
  {
   "cell_type": "code",
   "execution_count": null,
   "metadata": {
    "ExecuteTime": {
     "end_time": "2018-08-22T20:22:24.121793Z",
     "start_time": "2018-08-22T20:22:24.043672Z"
    }
   },
   "outputs": [],
   "source": [
    "# do the same as above, but grabbing only the text content\n",
    "for entry in html.find_all('div', {'class':'booking'}):\n",
    "    print(entry.text)"
   ]
  },
  {
   "cell_type": "code",
   "execution_count": 55,
   "metadata": {
    "ExecuteTime": {
     "end_time": "2018-08-22T20:22:25.111373Z",
     "start_time": "2018-08-22T20:22:24.999745Z"
    }
   },
   "outputs": [],
   "source": [
    "driver.close()"
   ]
  },
  {
   "cell_type": "markdown",
   "metadata": {},
   "source": [
    "We've succeeded!\n",
    "\n",
    "<a id=\"selenium-regex\"></a>\n",
    "### Using regex to only get digits\n",
    "\n",
    "But we can clean this up a little bit. We're going to use regular expressions (regex) to grab only the digits that are available in each of the text.\n",
    "\n",
    "The best way to get good at regex is to, well, just keep trying and testing: http://pythex.org/"
   ]
  },
  {
   "cell_type": "code",
   "execution_count": 57,
   "metadata": {
    "ExecuteTime": {
     "end_time": "2018-08-22T20:22:26.051858Z",
     "start_time": "2018-08-22T20:22:26.048529Z"
    }
   },
   "outputs": [],
   "source": [
    "# import regex\n",
    "import re"
   ]
  },
  {
   "cell_type": "markdown",
   "metadata": {},
   "source": [
    "Given we haven't covered regex, I'll show you how to use the search function to match any given digit."
   ]
  },
  {
   "cell_type": "code",
   "execution_count": 58,
   "metadata": {
    "ExecuteTime": {
     "end_time": "2018-08-22T20:22:27.056212Z",
     "start_time": "2018-08-22T20:22:26.959878Z"
    }
   },
   "outputs": [
    {
     "name": "stdout",
     "output_type": "stream",
     "text": [
      "415\n",
      "172\n",
      "267\n",
      "72\n",
      "124\n",
      "38\n",
      "101\n",
      "40\n",
      "67\n",
      "53\n",
      "36\n",
      "51\n",
      "33\n",
      "40\n",
      "47\n",
      "59\n",
      "38\n",
      "54\n",
      "33\n",
      "47\n",
      "54\n",
      "42\n",
      "38\n",
      "40\n",
      "27\n",
      "27\n",
      "33\n",
      "66\n",
      "109\n",
      "77\n",
      "8\n",
      "73\n",
      "10\n",
      "50\n",
      "5\n",
      "26\n",
      "16\n",
      "34\n",
      "46\n",
      "77\n",
      "22\n",
      "15\n",
      "33\n",
      "51\n",
      "32\n",
      "35\n",
      "78\n",
      "7\n",
      "22\n",
      "32\n",
      "32\n",
      "1\n",
      "3\n",
      "17\n",
      "10\n",
      "24\n",
      "10\n",
      "15\n",
      "38\n",
      "21\n",
      "31\n",
      "20\n",
      "17\n",
      "9\n",
      "30\n",
      "4\n",
      "27\n",
      "23\n",
      "8\n",
      "27\n",
      "26\n",
      "66\n",
      "18\n",
      "76\n",
      "37\n",
      "11\n",
      "20\n",
      "13\n",
      "9\n",
      "3\n",
      "1\n",
      "26\n",
      "40\n",
      "9\n",
      "11\n",
      "24\n",
      "10\n",
      "20\n",
      "15\n",
      "10\n",
      "12\n",
      "34\n",
      "22\n",
      "6\n",
      "5\n",
      "22\n",
      "16\n",
      "13\n"
     ]
    }
   ],
   "source": [
    "# for each entry, grab the text\n",
    "for booking in html.find_all('div', {'class':'booking'}):\n",
    "    # match all digits\n",
    "    match = re.search('\\d+', booking.text)\n",
    "    \n",
    "    if match:\n",
    "        # print if found\n",
    "        print(match.group())\n",
    "    else:\n",
    "        # otherwise pass\n",
    "        pass"
   ]
  },
  {
   "cell_type": "markdown",
   "metadata": {},
   "source": [
    "Before we demonstrate all the other amazing things about headless browsers, let's finish up collecting the data we want from this current example. Do you suppose the html parsing we wrote above will still work on the page source we've grabbed from our headless browser?"
   ]
  },
  {
   "cell_type": "markdown",
   "metadata": {},
   "source": [
    "To be most efficient, we want to only do a single loop for each entry on the page. That means we want to find what element all of other other elements (name, location, price, bookings) is housed within. Where on the page is each entry located?"
   ]
  },
  {
   "cell_type": "code",
   "execution_count": null,
   "metadata": {
    "ExecuteTime": {
     "end_time": "2018-08-22T20:22:28.051089Z",
     "start_time": "2018-08-22T20:22:28.048038Z"
    }
   },
   "outputs": [],
   "source": [
    "# print out all entries\n",
    "#   NOTE: Has many entries. Uncomment the below code to run it!\n",
    "\n",
    "# soup.find_all('div', {'class':'result content-section-list-row cf with-times'})"
   ]
  },
  {
   "cell_type": "markdown",
   "metadata": {},
   "source": [
    "Look over the page. Does every single entry have each element we're seeking?\n",
    "> I did this previously. I know for a fact that not every element has a number of recent bookings. That's probably exactly why OpenTable houses this in JavaScript: they want to continously update the number of bookings with the most relevant number of values."
   ]
  },
  {
   "cell_type": "code",
   "execution_count": 61,
   "metadata": {
    "ExecuteTime": {
     "end_time": "2018-08-22T20:22:29.005193Z",
     "start_time": "2018-08-22T20:22:28.889208Z"
    },
    "scrolled": true
   },
   "outputs": [
    {
     "name": "stdout",
     "output_type": "stream",
     "text": [
      "None\n",
      "None\n",
      "<div class=\"booking\"><span class=\"tadpole\"></span>Booked 415 times today</div>\n",
      "<div class=\"booking\"><span class=\"tadpole\"></span>Booked 172 times today</div>\n",
      "<div class=\"booking\"><span class=\"tadpole\"></span>Booked 267 times today</div>\n",
      "<div class=\"booking\"><span class=\"tadpole\"></span>Booked 72 times today</div>\n",
      "<div class=\"booking\"><span class=\"tadpole\"></span>Booked 124 times today</div>\n",
      "<div class=\"booking\"><span class=\"tadpole\"></span>Booked 38 times today</div>\n",
      "<div class=\"booking\"><span class=\"tadpole\"></span>Booked 101 times today</div>\n",
      "<div class=\"booking\"><span class=\"tadpole\"></span>Booked 40 times today</div>\n",
      "<div class=\"booking\"><span class=\"tadpole\"></span>Booked 67 times today</div>\n",
      "<div class=\"booking\"><span class=\"tadpole\"></span>Booked 53 times today</div>\n",
      "<div class=\"booking\"><span class=\"tadpole\"></span>Booked 36 times today</div>\n",
      "<div class=\"booking\"><span class=\"tadpole\"></span>Booked 51 times today</div>\n",
      "<div class=\"booking\"><span class=\"tadpole\"></span>Booked 33 times today</div>\n",
      "<div class=\"booking\"><span class=\"tadpole\"></span>Booked 40 times today</div>\n",
      "<div class=\"booking\"><span class=\"tadpole\"></span>Booked 47 times today</div>\n",
      "<div class=\"booking\"><span class=\"tadpole\"></span>Booked 59 times today</div>\n",
      "<div class=\"booking\"><span class=\"tadpole\"></span>Booked 38 times today</div>\n",
      "<div class=\"booking\"><span class=\"tadpole\"></span>Booked 54 times today</div>\n",
      "<div class=\"booking\"><span class=\"tadpole\"></span>Booked 33 times today</div>\n",
      "<div class=\"booking\"><span class=\"tadpole\"></span>Booked 47 times today</div>\n",
      "<div class=\"booking\"><span class=\"tadpole\"></span>Booked 54 times today</div>\n",
      "<div class=\"booking\"><span class=\"tadpole\"></span>Booked 42 times today</div>\n",
      "<div class=\"booking\"><span class=\"tadpole\"></span>Booked 38 times today</div>\n",
      "<div class=\"booking\"><span class=\"tadpole\"></span>Booked 40 times today</div>\n",
      "<div class=\"booking\"><span class=\"tadpole\"></span>Booked 27 times today</div>\n",
      "<div class=\"booking\"><span class=\"tadpole\"></span>Booked 27 times today</div>\n",
      "<div class=\"booking\"><span class=\"tadpole\"></span>Booked 33 times today</div>\n",
      "<div class=\"booking\"><span class=\"tadpole\"></span>Booked 66 times today</div>\n",
      "<div class=\"booking\"><span class=\"tadpole\"></span>Booked 109 times today</div>\n",
      "<div class=\"booking\"><span class=\"tadpole\"></span>Booked 77 times today</div>\n",
      "<div class=\"booking\"><span class=\"tadpole\"></span>Booked 8 times today</div>\n",
      "<div class=\"booking\"><span class=\"tadpole\"></span>Booked 73 times today</div>\n",
      "<div class=\"booking\"><span class=\"tadpole\"></span>Booked 10 times today</div>\n",
      "<div class=\"booking\"><span class=\"tadpole\"></span>Booked 50 times today</div>\n",
      "<div class=\"booking\"><span class=\"tadpole\"></span>Booked 5 times today</div>\n",
      "<div class=\"booking\"><span class=\"tadpole\"></span>Booked 26 times today</div>\n",
      "<div class=\"booking\"><span class=\"tadpole\"></span>Booked 16 times today</div>\n",
      "<div class=\"booking\"><span class=\"tadpole\"></span>Booked 34 times today</div>\n",
      "<div class=\"booking\"><span class=\"tadpole\"></span>Booked 46 times today</div>\n",
      "<div class=\"booking\"><span class=\"tadpole\"></span>Booked 77 times today</div>\n",
      "<div class=\"booking\"><span class=\"tadpole\"></span>Booked 22 times today</div>\n",
      "<div class=\"booking\"><span class=\"tadpole\"></span>Booked 15 times today</div>\n",
      "<div class=\"booking\"><span class=\"tadpole\"></span>Booked 33 times today</div>\n",
      "<div class=\"booking\"><span class=\"tadpole\"></span>Booked 51 times today</div>\n",
      "<div class=\"booking\"><span class=\"tadpole\"></span>Booked 32 times today</div>\n",
      "<div class=\"booking\"><span class=\"tadpole\"></span>Booked 35 times today</div>\n",
      "<div class=\"booking\"><span class=\"tadpole\"></span>Booked 78 times today</div>\n",
      "<div class=\"booking\"><span class=\"tadpole\"></span>Booked 7 times today</div>\n",
      "<div class=\"booking\"><span class=\"tadpole\"></span>Booked 22 times today</div>\n",
      "<div class=\"booking\"><span class=\"tadpole\"></span>Booked 32 times today</div>\n",
      "<div class=\"booking\"><span class=\"tadpole\"></span>Booked 32 times today</div>\n",
      "<div class=\"booking\"><span class=\"tadpole\"></span>Booked 1 times today</div>\n",
      "<div class=\"booking\"><span class=\"tadpole\"></span>Booked 3 times today</div>\n",
      "<div class=\"booking\"><span class=\"tadpole\"></span>Booked 17 times today</div>\n",
      "<div class=\"booking\"><span class=\"tadpole\"></span>Booked 10 times today</div>\n",
      "<div class=\"booking\"><span class=\"tadpole\"></span>Booked 24 times today</div>\n",
      "<div class=\"booking\"><span class=\"tadpole\"></span>Booked 10 times today</div>\n",
      "<div class=\"booking\"><span class=\"tadpole\"></span>Booked 15 times today</div>\n",
      "<div class=\"booking\"><span class=\"tadpole\"></span>Booked 38 times today</div>\n",
      "<div class=\"booking\"><span class=\"tadpole\"></span>Booked 21 times today</div>\n",
      "<div class=\"booking\"><span class=\"tadpole\"></span>Booked 31 times today</div>\n",
      "<div class=\"booking\"><span class=\"tadpole\"></span>Booked 20 times today</div>\n",
      "<div class=\"booking\"><span class=\"tadpole\"></span>Booked 17 times today</div>\n",
      "<div class=\"booking\"><span class=\"tadpole\"></span>Booked 9 times today</div>\n",
      "<div class=\"booking\"><span class=\"tadpole\"></span>Booked 30 times today</div>\n",
      "<div class=\"booking\"><span class=\"tadpole\"></span>Booked 4 times today</div>\n",
      "<div class=\"booking\"><span class=\"tadpole\"></span>Booked 27 times today</div>\n",
      "<div class=\"booking\"><span class=\"tadpole\"></span>Booked 23 times today</div>\n",
      "<div class=\"booking\"><span class=\"tadpole\"></span>Booked 8 times today</div>\n",
      "<div class=\"booking\"><span class=\"tadpole\"></span>Booked 27 times today</div>\n",
      "<div class=\"booking\"><span class=\"tadpole\"></span>Booked 26 times today</div>\n",
      "<div class=\"booking\"><span class=\"tadpole\"></span>Booked 66 times today</div>\n",
      "<div class=\"booking\"><span class=\"tadpole\"></span>Booked 18 times today</div>\n",
      "<div class=\"booking\"><span class=\"tadpole\"></span>Booked 76 times today</div>\n",
      "<div class=\"booking\"><span class=\"tadpole\"></span>Booked 37 times today</div>\n",
      "<div class=\"booking\"><span class=\"tadpole\"></span>Booked 11 times today</div>\n",
      "<div class=\"booking\"><span class=\"tadpole\"></span>Booked 20 times today</div>\n",
      "<div class=\"booking\"><span class=\"tadpole\"></span>Booked 13 times today</div>\n",
      "<div class=\"booking\"><span class=\"tadpole\"></span>Booked 9 times today</div>\n",
      "<div class=\"booking\"><span class=\"tadpole\"></span>Booked 3 times today</div>\n",
      "<div class=\"booking\"><span class=\"tadpole\"></span>Booked 1 times today</div>\n",
      "<div class=\"booking\"><span class=\"tadpole\"></span>Booked 26 times today</div>\n",
      "<div class=\"booking\"><span class=\"tadpole\"></span>Booked 40 times today</div>\n",
      "<div class=\"booking\"><span class=\"tadpole\"></span>Booked 9 times today</div>\n",
      "<div class=\"booking\"><span class=\"tadpole\"></span>Booked 11 times today</div>\n",
      "<div class=\"booking\"><span class=\"tadpole\"></span>Booked 24 times today</div>\n",
      "<div class=\"booking\"><span class=\"tadpole\"></span>Booked 10 times today</div>\n",
      "<div class=\"booking\"><span class=\"tadpole\"></span>Booked 20 times today</div>\n",
      "<div class=\"booking\"><span class=\"tadpole\"></span>Booked 15 times today</div>\n",
      "<div class=\"booking\"><span class=\"tadpole\"></span>Booked 10 times today</div>\n",
      "<div class=\"booking\"><span class=\"tadpole\"></span>Booked 12 times today</div>\n",
      "<div class=\"booking\"><span class=\"tadpole\"></span>Booked 34 times today</div>\n",
      "<div class=\"booking\"><span class=\"tadpole\"></span>Booked 22 times today</div>\n",
      "<div class=\"booking\"><span class=\"tadpole\"></span>Booked 6 times today</div>\n",
      "<div class=\"booking\"><span class=\"tadpole\"></span>Booked 5 times today</div>\n",
      "<div class=\"booking\"><span class=\"tadpole\"></span>Booked 22 times today</div>\n",
      "<div class=\"booking\"><span class=\"tadpole\"></span>Booked 16 times today</div>\n",
      "<div class=\"booking\"><span class=\"tadpole\"></span>Booked 13 times today</div>\n"
     ]
    }
   ],
   "source": [
    "# What happens when a booking is not available?\n",
    "# Print out each booking entry, using the identification code we wrote above\n",
    "\n",
    "for entry in html.find_all('div', {'class':'result content-section-list-row cf with-times'}):\n",
    "    print(entry.find('div', {'class':'booking'}))"
   ]
  },
  {
   "cell_type": "code",
   "execution_count": 62,
   "metadata": {
    "ExecuteTime": {
     "end_time": "2018-08-22T20:22:30.038727Z",
     "start_time": "2018-08-22T20:22:29.931830Z"
    }
   },
   "outputs": [
    {
     "ename": "AttributeError",
     "evalue": "'NoneType' object has no attribute 'text'",
     "output_type": "error",
     "traceback": [
      "\u001b[0;31m---------------------------------------------------------------------------\u001b[0m",
      "\u001b[0;31mAttributeError\u001b[0m                            Traceback (most recent call last)",
      "\u001b[0;32m<ipython-input-62-15f373ab50f8>\u001b[0m in \u001b[0;36m<module>\u001b[0;34m()\u001b[0m\n\u001b[1;32m      2\u001b[0m \u001b[0;31m# But what would happen if we just naively print the text of each node?\u001b[0m\u001b[0;34m\u001b[0m\u001b[0;34m\u001b[0m\u001b[0m\n\u001b[1;32m      3\u001b[0m \u001b[0;32mfor\u001b[0m \u001b[0mentry\u001b[0m \u001b[0;32min\u001b[0m \u001b[0mhtml\u001b[0m\u001b[0;34m.\u001b[0m\u001b[0mfind_all\u001b[0m\u001b[0;34m(\u001b[0m\u001b[0;34m'div'\u001b[0m\u001b[0;34m,\u001b[0m \u001b[0;34m{\u001b[0m\u001b[0;34m'class'\u001b[0m\u001b[0;34m:\u001b[0m\u001b[0;34m'result content-section-list-row cf with-times'\u001b[0m\u001b[0;34m}\u001b[0m\u001b[0;34m)\u001b[0m\u001b[0;34m:\u001b[0m\u001b[0;34m\u001b[0m\u001b[0m\n\u001b[0;32m----> 4\u001b[0;31m     \u001b[0mprint\u001b[0m\u001b[0;34m(\u001b[0m\u001b[0mentry\u001b[0m\u001b[0;34m.\u001b[0m\u001b[0mfind\u001b[0m\u001b[0;34m(\u001b[0m\u001b[0;34m'div'\u001b[0m\u001b[0;34m,\u001b[0m \u001b[0;34m{\u001b[0m\u001b[0;34m'class'\u001b[0m\u001b[0;34m:\u001b[0m\u001b[0;34m'booking'\u001b[0m\u001b[0;34m}\u001b[0m\u001b[0;34m)\u001b[0m\u001b[0;34m.\u001b[0m\u001b[0mtext\u001b[0m\u001b[0;34m)\u001b[0m   \u001b[0;31m# try adding .text\u001b[0m\u001b[0;34m\u001b[0m\u001b[0m\n\u001b[0m",
      "\u001b[0;31mAttributeError\u001b[0m: 'NoneType' object has no attribute 'text'"
     ]
    }
   ],
   "source": [
    "# We want to only retrieve the text of the bookings.\n",
    "# But what would happen if we just naively print the text of each node?\n",
    "for entry in html.find_all('div', {'class':'result content-section-list-row cf with-times'}):\n",
    "    print(entry.find('div', {'class':'booking'}).text)   # try adding .text"
   ]
  },
  {
   "cell_type": "markdown",
   "metadata": {},
   "source": [
    "What do you notice takes the place when booking is not found?\n",
    "\n",
    "We could use exception handling (`try`/`except` blocks) to resolve this. However, exceptions should only be used to handle rare or unexpected errors -- never for normal program flow.\n",
    "\n",
    "In this case, we expect that some entries will be zero. So, we can just use an `if` statement that tests whether there are any `divs` present; if not, display `'ZERO'`. Here's a demo:"
   ]
  },
  {
   "cell_type": "code",
   "execution_count": 65,
   "metadata": {
    "ExecuteTime": {
     "end_time": "2018-08-22T20:22:30.962218Z",
     "start_time": "2018-08-22T20:22:30.851891Z"
    }
   },
   "outputs": [
    {
     "name": "stdout",
     "output_type": "stream",
     "text": [
      "ZERO\n",
      "ZERO\n",
      "Booked 415 times today\n",
      "Booked 172 times today\n",
      "Booked 267 times today\n",
      "Booked 72 times today\n",
      "Booked 124 times today\n",
      "Booked 38 times today\n",
      "Booked 101 times today\n",
      "Booked 40 times today\n",
      "Booked 67 times today\n",
      "Booked 53 times today\n",
      "Booked 36 times today\n",
      "Booked 51 times today\n",
      "Booked 33 times today\n",
      "Booked 40 times today\n",
      "Booked 47 times today\n",
      "Booked 59 times today\n",
      "Booked 38 times today\n",
      "Booked 54 times today\n",
      "Booked 33 times today\n",
      "Booked 47 times today\n",
      "Booked 54 times today\n",
      "Booked 42 times today\n",
      "Booked 38 times today\n",
      "Booked 40 times today\n",
      "Booked 27 times today\n",
      "Booked 27 times today\n",
      "Booked 33 times today\n",
      "Booked 66 times today\n",
      "Booked 109 times today\n",
      "Booked 77 times today\n",
      "Booked 8 times today\n",
      "Booked 73 times today\n",
      "Booked 10 times today\n",
      "Booked 50 times today\n",
      "Booked 5 times today\n",
      "Booked 26 times today\n",
      "Booked 16 times today\n",
      "Booked 34 times today\n",
      "Booked 46 times today\n",
      "Booked 77 times today\n",
      "Booked 22 times today\n",
      "Booked 15 times today\n",
      "Booked 33 times today\n",
      "Booked 51 times today\n",
      "Booked 32 times today\n",
      "Booked 35 times today\n",
      "Booked 78 times today\n",
      "Booked 7 times today\n",
      "Booked 22 times today\n",
      "Booked 32 times today\n",
      "Booked 32 times today\n",
      "Booked 1 times today\n",
      "Booked 3 times today\n",
      "Booked 17 times today\n",
      "Booked 10 times today\n",
      "Booked 24 times today\n",
      "Booked 10 times today\n",
      "Booked 15 times today\n",
      "Booked 38 times today\n",
      "Booked 21 times today\n",
      "Booked 31 times today\n",
      "Booked 20 times today\n",
      "Booked 17 times today\n",
      "Booked 9 times today\n",
      "Booked 30 times today\n",
      "Booked 4 times today\n",
      "Booked 27 times today\n",
      "Booked 23 times today\n",
      "Booked 8 times today\n",
      "Booked 27 times today\n",
      "Booked 26 times today\n",
      "Booked 66 times today\n",
      "Booked 18 times today\n",
      "Booked 76 times today\n",
      "Booked 37 times today\n",
      "Booked 11 times today\n",
      "Booked 20 times today\n",
      "Booked 13 times today\n",
      "Booked 9 times today\n",
      "Booked 3 times today\n",
      "Booked 1 times today\n",
      "Booked 26 times today\n",
      "Booked 40 times today\n",
      "Booked 9 times today\n",
      "Booked 11 times today\n",
      "Booked 24 times today\n",
      "Booked 10 times today\n",
      "Booked 20 times today\n",
      "Booked 15 times today\n",
      "Booked 10 times today\n",
      "Booked 12 times today\n",
      "Booked 34 times today\n",
      "Booked 22 times today\n",
      "Booked 6 times today\n",
      "Booked 5 times today\n",
      "Booked 22 times today\n",
      "Booked 16 times today\n",
      "Booked 13 times today\n"
     ]
    }
   ],
   "source": [
    "# if we find the element we want, we print it. Otherwise, we print 'ZERO'\n",
    "booking_col = []\n",
    "for entry in html.find_all('div', {'class':'result content-section-list-row cf with-times'}):\n",
    "    booking_tag = entry.find('div', {'class':'booking'})\n",
    "    \n",
    "    if booking_tag:\n",
    "        print(booking_tag.text)\n",
    "    else:\n",
    "        print('ZERO')"
   ]
  },
  {
   "cell_type": "markdown",
   "metadata": {},
   "source": [
    "After previously completing this, we observed that all other elements WILL be returned. This means we do not have to always handle these cases.\n",
    "\n",
    "<a id=\"challenge-pandas\"></a>\n",
    "### Challenge: Use Pandas to create a DataFrame of bookings\n",
    "\n",
    "However, the onus is on you to now put all the pieces together.\n",
    "\n",
    "Loop through each entry. For each entry, grab the relevant information we want (name, location, price, bookings). Produce a dataframe with the columns \"name\",\"location\",\"price\",\"bookings\" that contains the 100 entries we would like."
   ]
  },
  {
   "cell_type": "code",
   "execution_count": 66,
   "metadata": {
    "ExecuteTime": {
     "end_time": "2018-08-22T20:22:33.575548Z",
     "start_time": "2018-08-22T20:22:31.816810Z"
    }
   },
   "outputs": [],
   "source": [
    "import pandas as pd"
   ]
  },
  {
   "cell_type": "code",
   "execution_count": 67,
   "metadata": {
    "ExecuteTime": {
     "end_time": "2018-08-22T20:22:34.375381Z",
     "start_time": "2018-08-22T20:22:34.367337Z"
    }
   },
   "outputs": [],
   "source": [
    "# I'm going to create my empty df first\n",
    "dc_eats = pd.DataFrame(columns=[\"name\",\"location\",\"price\",\"bookings\"])"
   ]
  },
  {
   "cell_type": "code",
   "execution_count": null,
   "metadata": {},
   "outputs": [],
   "source": [
    "# visit our relevant page\n",
    "driver = webdriver.Chrome(executable_path='./chromedriver/chromedriver')\n",
    "driver.get(\"http://www.opentable.com/washington-dc-restaurant-listings\")\n",
    "\n",
    "# wait one second\n",
    "sleep(1)\n",
    "\n",
    "#grab the page source\n",
    "html = driver.page_source"
   ]
  },
  {
   "cell_type": "code",
   "execution_count": 101,
   "metadata": {
    "ExecuteTime": {
     "end_time": "2018-08-22T20:22:35.207408Z",
     "start_time": "2018-08-22T20:22:35.204504Z"
    }
   },
   "outputs": [],
   "source": [
    "# Put code here that populates the DataFrame using Selenium and BeautifulSoup!\n",
    "# if we find the element we want, we print it. Otherwise, we print 'ZERO'\n",
    "driver = webdriver.Chrome(executable_path='./chromedriver/chromedriver')\n",
    "driver.get(\"http://www.opentable.com/washington-dc-restaurant-listings\")\n",
    "\n",
    "# iterate over 10 pages\n",
    "for page in range(10):\n",
    "    html = driver.page_source\n",
    "    html = BeautifulSoup(html, 'lxml')\n",
    "    for entry in html.find_all('div', {'class':'result content-section-list-row cf with-times'}):\n",
    "          # grab the name\n",
    "        name = entry.find('span', {'class':'rest-row-name-text'}).text\n",
    "\n",
    "        # grab the location \n",
    "        location = entry.find('span', {'class':'rest-row-meta--location rest-row-meta-text'}).text\n",
    "\n",
    "        # grab the price\n",
    "        price = entry.find('div', {'class':'rest-row-pricing'}).find('i').text.count('$')\n",
    "\n",
    "        # try to find the number of bookings\n",
    "        bookings = 'NA'\n",
    "        booking_tag = entry.find('div', {'class':'booking'})\n",
    "        if booking_tag:\n",
    "            match = re.search('\\d+', booking_tag.text)\n",
    "\n",
    "            if match:\n",
    "                bookings = match.group()\n",
    "\n",
    "        result = {'price': price, 'location': location, 'name': name, 'bookings': bookings}\n",
    "        dc_eats = dc_eats.append(result,  ignore_index=True) \n",
    "    \n",
    "#     go to next page\n",
    "        # find nex tpage button\n",
    "    elem = driver.find_element_by_link_text('Next')\n",
    "    # clear it\n",
    "    elem.click()\n",
    "    sleep(2)\n",
    "driver.close()"
   ]
  },
  {
   "cell_type": "code",
   "execution_count": 105,
   "metadata": {
    "ExecuteTime": {
     "end_time": "2018-08-22T20:22:36.000428Z",
     "start_time": "2018-08-22T20:22:35.991780Z"
    }
   },
   "outputs": [
    {
     "data": {
      "text/html": [
       "<div>\n",
       "<style scoped>\n",
       "    .dataframe tbody tr th:only-of-type {\n",
       "        vertical-align: middle;\n",
       "    }\n",
       "\n",
       "    .dataframe tbody tr th {\n",
       "        vertical-align: top;\n",
       "    }\n",
       "\n",
       "    .dataframe thead th {\n",
       "        text-align: right;\n",
       "    }\n",
       "</style>\n",
       "<table border=\"1\" class=\"dataframe\">\n",
       "  <thead>\n",
       "    <tr style=\"text-align: right;\">\n",
       "      <th></th>\n",
       "      <th>name</th>\n",
       "      <th>location</th>\n",
       "      <th>price</th>\n",
       "      <th>bookings</th>\n",
       "    </tr>\n",
       "  </thead>\n",
       "  <tbody>\n",
       "    <tr>\n",
       "      <th>100</th>\n",
       "      <td>Ruffino's - Arlington</td>\n",
       "      <td>Arlington</td>\n",
       "      <td>2</td>\n",
       "      <td>NA</td>\n",
       "    </tr>\n",
       "    <tr>\n",
       "      <th>101</th>\n",
       "      <td>Joe's Place Pizza and Pasta</td>\n",
       "      <td>Arlington</td>\n",
       "      <td>2</td>\n",
       "      <td>NA</td>\n",
       "    </tr>\n",
       "    <tr>\n",
       "      <th>102</th>\n",
       "      <td>Founding Farmers - DC</td>\n",
       "      <td>Foggy Bottom</td>\n",
       "      <td>2</td>\n",
       "      <td>415</td>\n",
       "    </tr>\n",
       "    <tr>\n",
       "      <th>103</th>\n",
       "      <td>Filomena Ristorante</td>\n",
       "      <td>Georgetown</td>\n",
       "      <td>3</td>\n",
       "      <td>169</td>\n",
       "    </tr>\n",
       "    <tr>\n",
       "      <th>104</th>\n",
       "      <td>Farmers Fishers Bakers</td>\n",
       "      <td>Georgetown</td>\n",
       "      <td>2</td>\n",
       "      <td>264</td>\n",
       "    </tr>\n",
       "    <tr>\n",
       "      <th>105</th>\n",
       "      <td>Ambar - Arlington</td>\n",
       "      <td>Arlington</td>\n",
       "      <td>2</td>\n",
       "      <td>72</td>\n",
       "    </tr>\n",
       "    <tr>\n",
       "      <th>106</th>\n",
       "      <td>Rasika West End</td>\n",
       "      <td>West End</td>\n",
       "      <td>3</td>\n",
       "      <td>126</td>\n",
       "    </tr>\n",
       "    <tr>\n",
       "      <th>107</th>\n",
       "      <td>Gyu-Kaku - Arlington</td>\n",
       "      <td>Arlington</td>\n",
       "      <td>2</td>\n",
       "      <td>42</td>\n",
       "    </tr>\n",
       "    <tr>\n",
       "      <th>108</th>\n",
       "      <td>Blue Duck Tavern</td>\n",
       "      <td>West End</td>\n",
       "      <td>3</td>\n",
       "      <td>102</td>\n",
       "    </tr>\n",
       "    <tr>\n",
       "      <th>109</th>\n",
       "      <td>BlackSalt</td>\n",
       "      <td>Palisades Northwest</td>\n",
       "      <td>3</td>\n",
       "      <td>43</td>\n",
       "    </tr>\n",
       "    <tr>\n",
       "      <th>110</th>\n",
       "      <td>Tupelo Honey - Arlington</td>\n",
       "      <td>Arlington</td>\n",
       "      <td>2</td>\n",
       "      <td>66</td>\n",
       "    </tr>\n",
       "    <tr>\n",
       "      <th>111</th>\n",
       "      <td>Il Canale</td>\n",
       "      <td>Georgetown</td>\n",
       "      <td>2</td>\n",
       "      <td>53</td>\n",
       "    </tr>\n",
       "    <tr>\n",
       "      <th>112</th>\n",
       "      <td>Bistro Aracosia</td>\n",
       "      <td>Palisades Northwest</td>\n",
       "      <td>2</td>\n",
       "      <td>37</td>\n",
       "    </tr>\n",
       "    <tr>\n",
       "      <th>113</th>\n",
       "      <td>Green Pig Bistro</td>\n",
       "      <td>Arlington</td>\n",
       "      <td>2</td>\n",
       "      <td>51</td>\n",
       "    </tr>\n",
       "    <tr>\n",
       "      <th>114</th>\n",
       "      <td>1789 Restaurant</td>\n",
       "      <td>Georgetown</td>\n",
       "      <td>4</td>\n",
       "      <td>33</td>\n",
       "    </tr>\n",
       "    <tr>\n",
       "      <th>115</th>\n",
       "      <td>Ray's The Steaks</td>\n",
       "      <td>Arlington</td>\n",
       "      <td>3</td>\n",
       "      <td>43</td>\n",
       "    </tr>\n",
       "    <tr>\n",
       "      <th>116</th>\n",
       "      <td>Nobu DC</td>\n",
       "      <td>Washington</td>\n",
       "      <td>4</td>\n",
       "      <td>47</td>\n",
       "    </tr>\n",
       "    <tr>\n",
       "      <th>117</th>\n",
       "      <td>Et Voila</td>\n",
       "      <td>Palisades Northwest</td>\n",
       "      <td>2</td>\n",
       "      <td>59</td>\n",
       "    </tr>\n",
       "    <tr>\n",
       "      <th>118</th>\n",
       "      <td>Lyon Hall</td>\n",
       "      <td>Arlington</td>\n",
       "      <td>2</td>\n",
       "      <td>37</td>\n",
       "    </tr>\n",
       "    <tr>\n",
       "      <th>119</th>\n",
       "      <td>Chez Billy Sud</td>\n",
       "      <td>Georgetown</td>\n",
       "      <td>2</td>\n",
       "      <td>52</td>\n",
       "    </tr>\n",
       "    <tr>\n",
       "      <th>120</th>\n",
       "      <td>The Liberty Tavern</td>\n",
       "      <td>Arlington</td>\n",
       "      <td>2</td>\n",
       "      <td>35</td>\n",
       "    </tr>\n",
       "    <tr>\n",
       "      <th>121</th>\n",
       "      <td>Iron Gate</td>\n",
       "      <td>Dupont Circle</td>\n",
       "      <td>4</td>\n",
       "      <td>47</td>\n",
       "    </tr>\n",
       "    <tr>\n",
       "      <th>122</th>\n",
       "      <td>Bourbon Steak - Four Seasons Washington DC</td>\n",
       "      <td>Georgetown</td>\n",
       "      <td>4</td>\n",
       "      <td>54</td>\n",
       "    </tr>\n",
       "    <tr>\n",
       "      <th>123</th>\n",
       "      <td>Sequoia</td>\n",
       "      <td>Georgetown</td>\n",
       "      <td>3</td>\n",
       "      <td>42</td>\n",
       "    </tr>\n",
       "    <tr>\n",
       "      <th>124</th>\n",
       "      <td>Café Milano</td>\n",
       "      <td>Georgetown</td>\n",
       "      <td>3</td>\n",
       "      <td>38</td>\n",
       "    </tr>\n",
       "    <tr>\n",
       "      <th>125</th>\n",
       "      <td>Boqueria - Dupont</td>\n",
       "      <td>Dupont Circle</td>\n",
       "      <td>3</td>\n",
       "      <td>40</td>\n",
       "    </tr>\n",
       "    <tr>\n",
       "      <th>126</th>\n",
       "      <td>Kapnos Taverna Arlington</td>\n",
       "      <td>Arlington</td>\n",
       "      <td>3</td>\n",
       "      <td>27</td>\n",
       "    </tr>\n",
       "    <tr>\n",
       "      <th>127</th>\n",
       "      <td>CIRCA at Clarendon</td>\n",
       "      <td>Arlington</td>\n",
       "      <td>2</td>\n",
       "      <td>27</td>\n",
       "    </tr>\n",
       "    <tr>\n",
       "      <th>128</th>\n",
       "      <td>Medium Rare - Arlington</td>\n",
       "      <td>Arlington</td>\n",
       "      <td>2</td>\n",
       "      <td>33</td>\n",
       "    </tr>\n",
       "    <tr>\n",
       "      <th>129</th>\n",
       "      <td>CIRCA at Foggy Bottom</td>\n",
       "      <td>Foggy Bottom</td>\n",
       "      <td>2</td>\n",
       "      <td>67</td>\n",
       "    </tr>\n",
       "    <tr>\n",
       "      <th>...</th>\n",
       "      <td>...</td>\n",
       "      <td>...</td>\n",
       "      <td>...</td>\n",
       "      <td>...</td>\n",
       "    </tr>\n",
       "    <tr>\n",
       "      <th>170</th>\n",
       "      <td>Rare Steakhouse - Washington DC</td>\n",
       "      <td>Downtown</td>\n",
       "      <td>4</td>\n",
       "      <td>8</td>\n",
       "    </tr>\n",
       "    <tr>\n",
       "      <th>171</th>\n",
       "      <td>Equinox - DC</td>\n",
       "      <td>Downtown</td>\n",
       "      <td>3</td>\n",
       "      <td>26</td>\n",
       "    </tr>\n",
       "    <tr>\n",
       "      <th>172</th>\n",
       "      <td>Palette 22</td>\n",
       "      <td>Arlington</td>\n",
       "      <td>2</td>\n",
       "      <td>26</td>\n",
       "    </tr>\n",
       "    <tr>\n",
       "      <th>173</th>\n",
       "      <td>Silver - Cathedral Commons</td>\n",
       "      <td>Cleveland Park</td>\n",
       "      <td>2</td>\n",
       "      <td>64</td>\n",
       "    </tr>\n",
       "    <tr>\n",
       "      <th>174</th>\n",
       "      <td>Sushiko - Chevy Chase</td>\n",
       "      <td>Bethesda / Chevy Chase</td>\n",
       "      <td>4</td>\n",
       "      <td>18</td>\n",
       "    </tr>\n",
       "    <tr>\n",
       "      <th>175</th>\n",
       "      <td>Clyde's of Chevy Chase</td>\n",
       "      <td>Friendship Heights</td>\n",
       "      <td>2</td>\n",
       "      <td>76</td>\n",
       "    </tr>\n",
       "    <tr>\n",
       "      <th>176</th>\n",
       "      <td>Bistrot Du Coin</td>\n",
       "      <td>Dupont Circle</td>\n",
       "      <td>2</td>\n",
       "      <td>37</td>\n",
       "    </tr>\n",
       "    <tr>\n",
       "      <th>177</th>\n",
       "      <td>Mission Dupont</td>\n",
       "      <td>Dupont Circle</td>\n",
       "      <td>2</td>\n",
       "      <td>11</td>\n",
       "    </tr>\n",
       "    <tr>\n",
       "      <th>178</th>\n",
       "      <td>Mirabelle - Washington, DC</td>\n",
       "      <td>Downtown</td>\n",
       "      <td>3</td>\n",
       "      <td>20</td>\n",
       "    </tr>\n",
       "    <tr>\n",
       "      <th>179</th>\n",
       "      <td>Grillfish DC</td>\n",
       "      <td>Dupont Circle</td>\n",
       "      <td>2</td>\n",
       "      <td>13</td>\n",
       "    </tr>\n",
       "    <tr>\n",
       "      <th>180</th>\n",
       "      <td>Bistrot Lepic &amp; Wine Bar</td>\n",
       "      <td>Georgetown</td>\n",
       "      <td>2</td>\n",
       "      <td>9</td>\n",
       "    </tr>\n",
       "    <tr>\n",
       "      <th>181</th>\n",
       "      <td>MeJana</td>\n",
       "      <td>Arlington</td>\n",
       "      <td>3</td>\n",
       "      <td>3</td>\n",
       "    </tr>\n",
       "    <tr>\n",
       "      <th>182</th>\n",
       "      <td>Flavio</td>\n",
       "      <td>Georgetown</td>\n",
       "      <td>2</td>\n",
       "      <td>1</td>\n",
       "    </tr>\n",
       "    <tr>\n",
       "      <th>183</th>\n",
       "      <td>Das Ethiopian - Georgetown</td>\n",
       "      <td>Georgetown</td>\n",
       "      <td>2</td>\n",
       "      <td>26</td>\n",
       "    </tr>\n",
       "    <tr>\n",
       "      <th>184</th>\n",
       "      <td>Copperwood Tavern</td>\n",
       "      <td>Arlington</td>\n",
       "      <td>2</td>\n",
       "      <td>40</td>\n",
       "    </tr>\n",
       "    <tr>\n",
       "      <th>185</th>\n",
       "      <td>Kaz Sushi Bistro</td>\n",
       "      <td>Downtown</td>\n",
       "      <td>3</td>\n",
       "      <td>9</td>\n",
       "    </tr>\n",
       "    <tr>\n",
       "      <th>186</th>\n",
       "      <td>Bodega Spanish Tapas &amp; Lounge</td>\n",
       "      <td>Georgetown</td>\n",
       "      <td>2</td>\n",
       "      <td>11</td>\n",
       "    </tr>\n",
       "    <tr>\n",
       "      <th>187</th>\n",
       "      <td>RIS</td>\n",
       "      <td>West End</td>\n",
       "      <td>3</td>\n",
       "      <td>24</td>\n",
       "    </tr>\n",
       "    <tr>\n",
       "      <th>188</th>\n",
       "      <td>Honeysuckle</td>\n",
       "      <td>Downtown</td>\n",
       "      <td>3</td>\n",
       "      <td>10</td>\n",
       "    </tr>\n",
       "    <tr>\n",
       "      <th>189</th>\n",
       "      <td>Tony &amp; Joe's Seafood Place</td>\n",
       "      <td>Georgetown</td>\n",
       "      <td>2</td>\n",
       "      <td>20</td>\n",
       "    </tr>\n",
       "    <tr>\n",
       "      <th>190</th>\n",
       "      <td>La Cote D'Or</td>\n",
       "      <td>Arlington</td>\n",
       "      <td>2</td>\n",
       "      <td>15</td>\n",
       "    </tr>\n",
       "    <tr>\n",
       "      <th>191</th>\n",
       "      <td>Cheesetique - Ballston</td>\n",
       "      <td>Arlington</td>\n",
       "      <td>2</td>\n",
       "      <td>10</td>\n",
       "    </tr>\n",
       "    <tr>\n",
       "      <th>192</th>\n",
       "      <td>Soi 38</td>\n",
       "      <td>Foggy Bottom</td>\n",
       "      <td>2</td>\n",
       "      <td>12</td>\n",
       "    </tr>\n",
       "    <tr>\n",
       "      <th>193</th>\n",
       "      <td>Buck's Fishing &amp; Camping</td>\n",
       "      <td>Chevy Chase</td>\n",
       "      <td>2</td>\n",
       "      <td>32</td>\n",
       "    </tr>\n",
       "    <tr>\n",
       "      <th>194</th>\n",
       "      <td>Sette Osteria</td>\n",
       "      <td>Dupont Circle</td>\n",
       "      <td>2</td>\n",
       "      <td>22</td>\n",
       "    </tr>\n",
       "    <tr>\n",
       "      <th>195</th>\n",
       "      <td>Yayla Bistro</td>\n",
       "      <td>Arlington</td>\n",
       "      <td>2</td>\n",
       "      <td>6</td>\n",
       "    </tr>\n",
       "    <tr>\n",
       "      <th>196</th>\n",
       "      <td>Il Radicchio</td>\n",
       "      <td>Arlington</td>\n",
       "      <td>2</td>\n",
       "      <td>5</td>\n",
       "    </tr>\n",
       "    <tr>\n",
       "      <th>197</th>\n",
       "      <td>Matchbox - Pentagon City</td>\n",
       "      <td>Arlington</td>\n",
       "      <td>2</td>\n",
       "      <td>21</td>\n",
       "    </tr>\n",
       "    <tr>\n",
       "      <th>198</th>\n",
       "      <td>The Prime Rib</td>\n",
       "      <td>Downtown</td>\n",
       "      <td>4</td>\n",
       "      <td>16</td>\n",
       "    </tr>\n",
       "    <tr>\n",
       "      <th>199</th>\n",
       "      <td>Lafayette Restaurant</td>\n",
       "      <td>Downtown</td>\n",
       "      <td>3</td>\n",
       "      <td>13</td>\n",
       "    </tr>\n",
       "  </tbody>\n",
       "</table>\n",
       "<p>100 rows × 4 columns</p>\n",
       "</div>"
      ],
      "text/plain": [
       "                                           name                location price  \\\n",
       "100                       Ruffino's - Arlington               Arlington     2   \n",
       "101                 Joe's Place Pizza and Pasta               Arlington     2   \n",
       "102                       Founding Farmers - DC            Foggy Bottom     2   \n",
       "103                         Filomena Ristorante              Georgetown     3   \n",
       "104                      Farmers Fishers Bakers              Georgetown     2   \n",
       "105                           Ambar - Arlington               Arlington     2   \n",
       "106                             Rasika West End                West End     3   \n",
       "107                        Gyu-Kaku - Arlington               Arlington     2   \n",
       "108                            Blue Duck Tavern                West End     3   \n",
       "109                                   BlackSalt     Palisades Northwest     3   \n",
       "110                    Tupelo Honey - Arlington               Arlington     2   \n",
       "111                                   Il Canale              Georgetown     2   \n",
       "112                             Bistro Aracosia     Palisades Northwest     2   \n",
       "113                            Green Pig Bistro               Arlington     2   \n",
       "114                             1789 Restaurant              Georgetown     4   \n",
       "115                            Ray's The Steaks               Arlington     3   \n",
       "116                                     Nobu DC              Washington     4   \n",
       "117                                    Et Voila     Palisades Northwest     2   \n",
       "118                                   Lyon Hall               Arlington     2   \n",
       "119                              Chez Billy Sud              Georgetown     2   \n",
       "120                          The Liberty Tavern               Arlington     2   \n",
       "121                                   Iron Gate           Dupont Circle     4   \n",
       "122  Bourbon Steak - Four Seasons Washington DC              Georgetown     4   \n",
       "123                                     Sequoia              Georgetown     3   \n",
       "124                                 Café Milano              Georgetown     3   \n",
       "125                           Boqueria - Dupont           Dupont Circle     3   \n",
       "126                    Kapnos Taverna Arlington               Arlington     3   \n",
       "127                          CIRCA at Clarendon               Arlington     2   \n",
       "128                     Medium Rare - Arlington               Arlington     2   \n",
       "129                       CIRCA at Foggy Bottom            Foggy Bottom     2   \n",
       "..                                          ...                     ...   ...   \n",
       "170             Rare Steakhouse - Washington DC                Downtown     4   \n",
       "171                                Equinox - DC                Downtown     3   \n",
       "172                                  Palette 22               Arlington     2   \n",
       "173                  Silver - Cathedral Commons          Cleveland Park     2   \n",
       "174                       Sushiko - Chevy Chase  Bethesda / Chevy Chase     4   \n",
       "175                      Clyde's of Chevy Chase      Friendship Heights     2   \n",
       "176                             Bistrot Du Coin           Dupont Circle     2   \n",
       "177                              Mission Dupont           Dupont Circle     2   \n",
       "178                  Mirabelle - Washington, DC                Downtown     3   \n",
       "179                                Grillfish DC           Dupont Circle     2   \n",
       "180                    Bistrot Lepic & Wine Bar              Georgetown     2   \n",
       "181                                      MeJana               Arlington     3   \n",
       "182                                      Flavio              Georgetown     2   \n",
       "183                  Das Ethiopian - Georgetown              Georgetown     2   \n",
       "184                           Copperwood Tavern               Arlington     2   \n",
       "185                            Kaz Sushi Bistro                Downtown     3   \n",
       "186               Bodega Spanish Tapas & Lounge              Georgetown     2   \n",
       "187                                         RIS                West End     3   \n",
       "188                                 Honeysuckle                Downtown     3   \n",
       "189                  Tony & Joe's Seafood Place              Georgetown     2   \n",
       "190                                La Cote D'Or               Arlington     2   \n",
       "191                      Cheesetique - Ballston               Arlington     2   \n",
       "192                                      Soi 38            Foggy Bottom     2   \n",
       "193                    Buck's Fishing & Camping             Chevy Chase     2   \n",
       "194                               Sette Osteria           Dupont Circle     2   \n",
       "195                                Yayla Bistro               Arlington     2   \n",
       "196                                Il Radicchio               Arlington     2   \n",
       "197                    Matchbox - Pentagon City               Arlington     2   \n",
       "198                               The Prime Rib                Downtown     4   \n",
       "199                        Lafayette Restaurant                Downtown     3   \n",
       "\n",
       "    bookings  \n",
       "100       NA  \n",
       "101       NA  \n",
       "102      415  \n",
       "103      169  \n",
       "104      264  \n",
       "105       72  \n",
       "106      126  \n",
       "107       42  \n",
       "108      102  \n",
       "109       43  \n",
       "110       66  \n",
       "111       53  \n",
       "112       37  \n",
       "113       51  \n",
       "114       33  \n",
       "115       43  \n",
       "116       47  \n",
       "117       59  \n",
       "118       37  \n",
       "119       52  \n",
       "120       35  \n",
       "121       47  \n",
       "122       54  \n",
       "123       42  \n",
       "124       38  \n",
       "125       40  \n",
       "126       27  \n",
       "127       27  \n",
       "128       33  \n",
       "129       67  \n",
       "..       ...  \n",
       "170        8  \n",
       "171       26  \n",
       "172       26  \n",
       "173       64  \n",
       "174       18  \n",
       "175       76  \n",
       "176       37  \n",
       "177       11  \n",
       "178       20  \n",
       "179       13  \n",
       "180        9  \n",
       "181        3  \n",
       "182        1  \n",
       "183       26  \n",
       "184       40  \n",
       "185        9  \n",
       "186       11  \n",
       "187       24  \n",
       "188       10  \n",
       "189       20  \n",
       "190       15  \n",
       "191       10  \n",
       "192       12  \n",
       "193       32  \n",
       "194       22  \n",
       "195        6  \n",
       "196        5  \n",
       "197       21  \n",
       "198       16  \n",
       "199       13  \n",
       "\n",
       "[100 rows x 4 columns]"
      ]
     },
     "execution_count": 105,
     "metadata": {},
     "output_type": "execute_result"
    }
   ],
   "source": [
    "# check out our work\n",
    "dc_eats[100:200]"
   ]
  },
  {
   "cell_type": "markdown",
   "metadata": {},
   "source": [
    "Awesome! We succeeded.\n",
    "\n",
    "<a id=\"selenium-typing\"></a>\n",
    "### Auto-typing using Selenium\n",
    "\n",
    "Now, let's explore some of the other functionality of a webdriver. We've barely scratched the surface."
   ]
  },
  {
   "cell_type": "code",
   "execution_count": 7,
   "metadata": {
    "ExecuteTime": {
     "end_time": "2018-08-22T20:24:45.603674Z",
     "start_time": "2018-08-22T20:24:45.593697Z"
    }
   },
   "outputs": [],
   "source": [
    "# we can send keys as well\n",
    "\n",
    "from selenium.webdriver.common.keys import Keys\n",
    "from selenium import webdriver"
   ]
  },
  {
   "cell_type": "code",
   "execution_count": 8,
   "metadata": {
    "ExecuteTime": {
     "end_time": "2018-08-22T20:24:50.476951Z",
     "start_time": "2018-08-22T20:24:46.616030Z"
    }
   },
   "outputs": [],
   "source": [
    "# open Chrome\n",
    "driver = webdriver.Chrome(executable_path='./chromedriver/chromedriver')\n",
    "\n",
    "# visit Python\n",
    "driver.get(\"http://www.python.org\")\n",
    "\n",
    "# verify we're in the right place\n",
    "assert \"Python\" in driver.title"
   ]
  },
  {
   "cell_type": "markdown",
   "metadata": {},
   "source": [
    "Let's try automatedly typing `pycon` in the search box and hitting the return key:"
   ]
  },
  {
   "cell_type": "code",
   "execution_count": 9,
   "metadata": {
    "ExecuteTime": {
     "end_time": "2018-08-22T20:24:52.590659Z",
     "start_time": "2018-08-22T20:24:51.763177Z"
    }
   },
   "outputs": [],
   "source": [
    "# find the search position\n",
    "elem = driver.find_element_by_name(\"q\")\n",
    "\n",
    "# clear it\n",
    "elem.clear()\n",
    "\n",
    "# type in pycon\n",
    "elem.send_keys(\"pycon\")\n",
    "\n",
    "# send those keys\n",
    "elem.send_keys(Keys.RETURN)"
   ]
  },
  {
   "cell_type": "code",
   "execution_count": 10,
   "metadata": {
    "ExecuteTime": {
     "end_time": "2018-08-22T20:25:00.603619Z",
     "start_time": "2018-08-22T20:25:00.529069Z"
    }
   },
   "outputs": [],
   "source": [
    "# close\n",
    "driver.close()"
   ]
  },
  {
   "cell_type": "code",
   "execution_count": null,
   "metadata": {
    "ExecuteTime": {
     "end_time": "2018-08-22T20:25:34.533805Z",
     "start_time": "2018-08-22T20:25:30.263713Z"
    }
   },
   "outputs": [],
   "source": [
    "# all at once:\n",
    "driver = webdriver.Chrome(executable_path='./chromedriver/chromedriver')\n",
    "driver.get(\"http://www.python.org\")\n",
    "assert \"Python\" in driver.title\n",
    "\n",
    "elem = driver.find_element_by_name(\"q\")\n",
    "elem.clear()\n",
    "elem.send_keys(\"pycon\")\n",
    "elem.send_keys(\" asdfasdfasd pycon\")\n",
    "elem.send_keys(Keys.RETURN)\n",
    "#assert \"No results found.\" not in driver.page_source\n",
    "# driver.close()"
   ]
  },
  {
   "cell_type": "markdown",
   "metadata": {},
   "source": [
    "The above example (and many others) are available in the Selenium docs: http://selenium-python.readthedocs.io/getting-started.html\n",
    "\n",
    "What is especially important is exploring functionality like locating elements: http://selenium-python.readthedocs.io/locating-elements.html#locating-elements\n",
    "\n",
    "FAQ:\n",
    "http://selenium-python.readthedocs.io/faq.html"
   ]
  },
  {
   "cell_type": "markdown",
   "metadata": {},
   "source": [
    "### Summary\n",
    "\n",
    "In this lesson, we used the Beautiful Soup library to locate elements on a website then scrape their text. We also used the Selenium headless browser to run JavaScript first before retrieving the page contents."
   ]
  },
  {
   "cell_type": "code",
   "execution_count": null,
   "metadata": {},
   "outputs": [],
   "source": []
  }
 ],
 "metadata": {
  "anaconda-cloud": {},
  "kernelspec": {
   "display_name": "Python 3",
   "language": "python",
   "name": "python3"
  },
  "language_info": {
   "codemirror_mode": {
    "name": "ipython",
    "version": 3
   },
   "file_extension": ".py",
   "mimetype": "text/x-python",
   "name": "python",
   "nbconvert_exporter": "python",
   "pygments_lexer": "ipython3",
   "version": "3.7.0"
  },
  "varInspector": {
   "cols": {
    "lenName": 16,
    "lenType": 16,
    "lenVar": 40
   },
   "kernels_config": {
    "python": {
     "delete_cmd_postfix": "",
     "delete_cmd_prefix": "del ",
     "library": "var_list.py",
     "varRefreshCmd": "print(var_dic_list())"
    },
    "r": {
     "delete_cmd_postfix": ") ",
     "delete_cmd_prefix": "rm(",
     "library": "var_list.r",
     "varRefreshCmd": "cat(var_dic_list()) "
    }
   },
   "types_to_exclude": [
    "module",
    "function",
    "builtin_function_or_method",
    "instance",
    "_Feature"
   ],
   "window_display": false
  }
 },
 "nbformat": 4,
 "nbformat_minor": 2
}
