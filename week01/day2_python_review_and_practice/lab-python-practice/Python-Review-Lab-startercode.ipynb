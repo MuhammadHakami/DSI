{
 "cells": [
  {
   "cell_type": "markdown",
   "metadata": {},
   "source": [
    "<img src=\"http://imgur.com/1ZcRyrc.png\" style=\"float: left; margin: 20px; height: 55px\">\n",
    "\n",
    "# Python review lab\n",
    "\n",
    "Week 1 | Day 2 | Lab 1 \n",
    "\n",
    "---"
   ]
  },
  {
   "cell_type": "markdown",
   "metadata": {
    "toc": true
   },
   "source": [
    "<h1>Table of Contents<span class=\"tocSkip\"></span></h1>\n",
    "<div class=\"toc\"><ul class=\"toc-item\"><li><span><a href=\"#Miscellaneous-problems\" data-toc-modified-id=\"Miscellaneous-problems-1\">Miscellaneous problems</a></span><ul class=\"toc-item\"><li><span><a href=\"#1.-What-are-the-types-of-the-following-variables?\" data-toc-modified-id=\"1.-What-are-the-types-of-the-following-variables?-1.1\">1. What are the types of the following variables?</a></span></li><li><span><a href=\"#2.-What-is-the-difference-between-a-&quot;mutable&quot;-and-an-&quot;immutable&quot;-object?\" data-toc-modified-id=\"2.-What-is-the-difference-between-a-&quot;mutable&quot;-and-an-&quot;immutable&quot;-object?-1.2\">2. What is the difference between a \"mutable\" and an \"immutable\" object?</a></span></li><li><span><a href=\"#3.-Print-the-student_names-list.\" data-toc-modified-id=\"3.-Print-the-student_names-list.-1.3\">3. Print the <code>student_names</code> list.</a></span></li><li><span><a href=\"#4.-Print-the-names-of-the-first-and-last-students-in-the-list.\" data-toc-modified-id=\"4.-Print-the-names-of-the-first-and-last-students-in-the-list.-1.4\">4. Print the names of the first and last students in the list.</a></span></li><li><span><a href=\"#5.-Print-the-first-5-names-in-the-student-list.\" data-toc-modified-id=\"5.-Print-the-first-5-names-in-the-student-list.-1.5\">5. Print the first 5 names in the student list.</a></span></li><li><span><a href=\"#6.-Combine-the-9th-and-10th-student-names-into-a-single-string,-separated-by-a-space,-and-assign-to-a-variable.\" data-toc-modified-id=\"6.-Combine-the-9th-and-10th-student-names-into-a-single-string,-separated-by-a-space,-and-assign-to-a-variable.-1.6\">6. Combine the 9th and 10th student names into a single string, separated by a space, and assign to a variable.</a></span></li><li><span><a href=\"#7.-Append-an-animal-to-the-list-of-animals.\" data-toc-modified-id=\"7.-Append-an-animal-to-the-list-of-animals.-1.7\">7. Append an animal to the list of animals.</a></span></li><li><span><a href=\"#8.-Print-the-length-of-the-animals-list.\" data-toc-modified-id=\"8.-Print-the-length-of-the-animals-list.-1.8\">8. Print the length of the animals list.</a></span></li><li><span><a href=\"#9.-Show-two-different-ways-to-combine-the-animals-list-and-numbers-list.\" data-toc-modified-id=\"9.-Show-two-different-ways-to-combine-the-animals-list-and-numbers-list.-1.9\">9. Show two different ways to combine the animals list and numbers list.</a></span></li><li><span><a href=\"#10.-Remove-my-name-from-the-list-and-insert-your-own-in-the-same-place.\" data-toc-modified-id=\"10.-Remove-my-name-from-the-list-and-insert-your-own-in-the-same-place.-1.10\">10. Remove my name from the list and insert your own in the same place.</a></span></li><li><span><a href=\"#11.-Find-the-index-of-'a'-in-the--mix--list.\" data-toc-modified-id=\"11.-Find-the-index-of-'a'-in-the--mix--list.-1.11\">11. Find the index of <code>'a'</code> in the  <code>mix</code>  list.</a></span></li><li><span><a href=\"#12.-Reverse-the-mix-list.\" data-toc-modified-id=\"12.-Reverse-the-mix-list.-1.12\">12. Reverse the <code>mix</code> list.</a></span></li><li><span><a href=\"#13.-Remove-the-last-element-of-mix-and-assign-it-to-a-variable.\" data-toc-modified-id=\"13.-Remove-the-last-element-of-mix-and-assign-it-to-a-variable.-1.13\">13. Remove the last element of <code>mix</code> and assign it to a variable.</a></span></li><li><span><a href=\"#14.-Count-the-number-of-times-0-appears-in-the-following-list.\" data-toc-modified-id=\"14.-Count-the-number-of-times-0-appears-in-the-following-list.-1.14\">14. Count the number of times <code>0</code> appears in the following list.</a></span></li><li><span><a href=\"#15.-Try-to-convert-elements-in-a-list-to-floats.\" data-toc-modified-id=\"15.-Try-to-convert-elements-in-a-list-to-floats.-1.15\">15. Try to convert elements in a list to floats.</a></span></li><li><span><a href=\"#16.-While-loops-and-strings.\" data-toc-modified-id=\"16.-While-loops-and-strings.-1.16\">16. While loops and strings.</a></span></li><li><span><a href=\"#17.-Load-coffee-preference-data-from-file-and-print\" data-toc-modified-id=\"17.-Load-coffee-preference-data-from-file-and-print-1.17\">17. Load coffee preference data from file and print</a></span></li><li><span><a href=\"#18.-Iterate-through-lines-and-print-them-out\" data-toc-modified-id=\"18.-Iterate-through-lines-and-print-them-out-1.18\">18. Iterate through lines and print them out</a></span></li><li><span><a href=\"#19.-Print-out-just-the-lines-object-by-typing-lines-in-a-cell-and-hitting-enter.\" data-toc-modified-id=\"19.-Print-out-just-the-lines-object-by-typing-lines-in-a-cell-and-hitting-enter.-1.19\">19. Print out just the lines object by typing <code>lines</code> in a cell and hitting enter.</a></span></li><li><span><a href=\"#20.-Remove-the-remaining-newline-'\\n'-characters-with-a-for-loop.\" data-toc-modified-id=\"20.-Remove-the-remaining-newline-'\\n'-characters-with-a-for-loop.-1.20\">20. Remove the remaining newline <code>'\\n'</code> characters with a for-loop.</a></span></li><li><span><a href=\"#21.-Split-the-lines-into-&quot;header&quot;-and-&quot;data&quot;-variables.\" data-toc-modified-id=\"21.-Split-the-lines-into-&quot;header&quot;-and-&quot;data&quot;-variables.-1.21\">21. Split the lines into \"header\" and \"data\" variables.</a></span></li><li><span><a href=\"#22.-Split-the-header-and-the-data-strings-on-commas.\" data-toc-modified-id=\"22.-Split-the-header-and-the-data-strings-on-commas.-1.22\">22. Split the header and the data strings on commas.</a></span></li><li><span><a href=\"#23.-Remove-the-&quot;Timestamp&quot;-column.\" data-toc-modified-id=\"23.-Remove-the-&quot;Timestamp&quot;-column.-1.23\">23. Remove the \"Timestamp\" column.</a></span></li><li><span><a href=\"#24.-Convert-numeric-columns-to-floats-and-empty-fields-to-None.\" data-toc-modified-id=\"24.-Convert-numeric-columns-to-floats-and-empty-fields-to-None.-1.24\">24. Convert numeric columns to floats and empty fields to <code>None</code>.</a></span></li><li><span><a href=\"#25.-Count-the-None-values-per-person-and-put-counts-in-a-dictionary.\" data-toc-modified-id=\"25.-Count-the-None-values-per-person-and-put-counts-in-a-dictionary.-1.25\">25. Count the <code>None</code> values per person and put counts in a dictionary.</a></span></li><li><span><a href=\"#26.-Calculate-average-rating-per-coffee-brand.\" data-toc-modified-id=\"26.-Calculate-average-rating-per-coffee-brand.-1.26\">26. Calculate average rating per coffee brand.</a></span></li><li><span><a href=\"#27.-Create-a-list-of-just-the-people's-names.\" data-toc-modified-id=\"27.-Create-a-list-of-just-the-people's-names.-1.27\">27. Create a list of just the people's names.</a></span></li><li><span><a href=\"#28.-Picking-a-name-at-random:-odds-of-choosing-the-same-name-3-times-in-a-row.\" data-toc-modified-id=\"28.-Picking-a-name-at-random:-odds-of-choosing-the-same-name-3-times-in-a-row.-1.28\">28. Picking a name at random: odds of choosing the same name 3 times in a row.</a></span></li><li><span><a href=\"#29.-Construct-a-while-loop-to-run-the-choosing-function-until-it-returns-True.\" data-toc-modified-id=\"29.-Construct-a-while-loop-to-run-the-choosing-function-until-it-returns-True.-1.29\">29. Construct a while loop to run the choosing function until it returns True.</a></span></li></ul></li></ul></div>"
   ]
  },
  {
   "cell_type": "markdown",
   "metadata": {},
   "source": [
    "## Miscellaneous problems"
   ]
  },
  {
   "cell_type": "markdown",
   "metadata": {},
   "source": [
    "---"
   ]
  },
  {
   "cell_type": "markdown",
   "metadata": {},
   "source": [
    "### 1. What are the types of the following variables?"
   ]
  },
  {
   "cell_type": "code",
   "execution_count": 121,
   "metadata": {},
   "outputs": [],
   "source": [
    "a = 1\n",
    "b = 2.6\n",
    "c = [1,2,3,5,6]\n",
    "d = {'Aymeric':'Flaisler', 'Christoph':'Rahmede'}\n",
    "e = ('one', 'two', 'three')\n",
    "f = {1:{'key':'value'}, 2:{'key2':'value2'}}\n",
    "g = True\n",
    "h = False\n",
    "i = 'integer'\n"
   ]
  },
  {
   "cell_type": "code",
   "execution_count": 122,
   "metadata": {},
   "outputs": [
    {
     "name": "stdout",
     "output_type": "stream",
     "text": [
      "a=  <class 'int'> \n",
      " b=  <class 'float'> \n",
      " c=  <class 'list'> \n",
      " d=  <class 'dict'> \n",
      " e=  <class 'tuple'> \n",
      " f=  <class 'dict'> \n",
      " g=  <class 'bool'> \n",
      " h=  <class 'bool'> \n",
      " i=  <class 'str'>\n"
     ]
    }
   ],
   "source": [
    "print('a= ',type(a),'\\n','b= ',type(b),'\\n','c= ',type(c),'\\n','d= ',type(d),'\\n','e= ',type(e),'\\n','f= ',type(f),'\\n',\n",
    "      'g= ',type(g),'\\n','h= ',type(h),'\\n','i= ',type(i))"
   ]
  },
  {
   "cell_type": "markdown",
   "metadata": {},
   "source": [
    "---"
   ]
  },
  {
   "cell_type": "markdown",
   "metadata": {},
   "source": [
    "### 2. What is the difference between a \"mutable\" and an \"immutable\" object? \n",
    "\n",
    "Answer in one sentence."
   ]
  },
  {
   "cell_type": "markdown",
   "metadata": {},
   "source": [
    "mutable can be modified after making it like lists, while immutable connot be modified like tuples."
   ]
  },
  {
   "cell_type": "markdown",
   "metadata": {},
   "source": [
    "---"
   ]
  },
  {
   "cell_type": "markdown",
   "metadata": {},
   "source": [
    "### 3. Print the `student_names` list."
   ]
  },
  {
   "cell_type": "code",
   "execution_count": 123,
   "metadata": {},
   "outputs": [],
   "source": [
    "student_names = ['s1','s2','s3','s4','s5','s6','s7','s8','s9','s10']"
   ]
  },
  {
   "cell_type": "code",
   "execution_count": 124,
   "metadata": {},
   "outputs": [
    {
     "name": "stdout",
     "output_type": "stream",
     "text": [
      "['s1', 's2', 's3', 's4', 's5', 's6', 's7', 's8', 's9', 's10']\n"
     ]
    }
   ],
   "source": [
    "print(student_names)"
   ]
  },
  {
   "cell_type": "markdown",
   "metadata": {},
   "source": [
    "---"
   ]
  },
  {
   "cell_type": "markdown",
   "metadata": {},
   "source": [
    "### 4. Print the names of the first and last students in the list."
   ]
  },
  {
   "cell_type": "code",
   "execution_count": 125,
   "metadata": {},
   "outputs": [
    {
     "name": "stdout",
     "output_type": "stream",
     "text": [
      "First name in list  s1 \n",
      " Last name in list  s10\n"
     ]
    }
   ],
   "source": [
    "print('First name in list ',student_names[0],'\\n','Last name in list ',student_names[-1])"
   ]
  },
  {
   "cell_type": "markdown",
   "metadata": {},
   "source": [
    "---"
   ]
  },
  {
   "cell_type": "markdown",
   "metadata": {},
   "source": [
    "### 5. Print the first 5 names in the student list."
   ]
  },
  {
   "cell_type": "code",
   "execution_count": 126,
   "metadata": {},
   "outputs": [
    {
     "name": "stdout",
     "output_type": "stream",
     "text": [
      "['s1', 's2', 's3', 's4', 's5']\n"
     ]
    }
   ],
   "source": [
    "print(student_names[:5])"
   ]
  },
  {
   "cell_type": "markdown",
   "metadata": {},
   "source": [
    "---"
   ]
  },
  {
   "cell_type": "markdown",
   "metadata": {},
   "source": [
    "### 6. Combine the 9th and 10th student names into a single string, separated by a space, and assign to a variable."
   ]
  },
  {
   "cell_type": "code",
   "execution_count": 127,
   "metadata": {},
   "outputs": [
    {
     "name": "stdout",
     "output_type": "stream",
     "text": [
      "s9 s10\n"
     ]
    }
   ],
   "source": [
    "print(student_names[8]+' '+student_names[9])"
   ]
  },
  {
   "cell_type": "markdown",
   "metadata": {},
   "source": [
    "---"
   ]
  },
  {
   "cell_type": "markdown",
   "metadata": {},
   "source": [
    "### 7. Append an animal to the list of animals."
   ]
  },
  {
   "cell_type": "code",
   "execution_count": 128,
   "metadata": {},
   "outputs": [],
   "source": [
    "animals = ['duck', 'rat', 'boar', 'elefant', 'mammoth', 'gazelle']"
   ]
  },
  {
   "cell_type": "code",
   "execution_count": 129,
   "metadata": {},
   "outputs": [
    {
     "name": "stdout",
     "output_type": "stream",
     "text": [
      "['duck', 'rat', 'boar', 'elefant', 'mammoth', 'gazelle', 'cat']\n"
     ]
    }
   ],
   "source": [
    "animals.append('cat')\n",
    "print(animals)"
   ]
  },
  {
   "cell_type": "markdown",
   "metadata": {},
   "source": [
    "---"
   ]
  },
  {
   "cell_type": "markdown",
   "metadata": {},
   "source": [
    "### 8. Print the length of the animals list."
   ]
  },
  {
   "cell_type": "code",
   "execution_count": 130,
   "metadata": {},
   "outputs": [
    {
     "name": "stdout",
     "output_type": "stream",
     "text": [
      "7\n"
     ]
    }
   ],
   "source": [
    "print(len(animals))"
   ]
  },
  {
   "cell_type": "markdown",
   "metadata": {},
   "source": [
    "---"
   ]
  },
  {
   "cell_type": "markdown",
   "metadata": {},
   "source": [
    "### 9. Show two different ways to combine the animals list and numbers list."
   ]
  },
  {
   "cell_type": "code",
   "execution_count": 131,
   "metadata": {},
   "outputs": [],
   "source": [
    "numbers = [0., 0.1, 1., 10., 100., 1000.]"
   ]
  },
  {
   "cell_type": "code",
   "execution_count": 132,
   "metadata": {},
   "outputs": [
    {
     "name": "stdout",
     "output_type": "stream",
     "text": [
      "['duck', 'rat', 'boar', 'elefant', 'mammoth', 'gazelle', 'cat', 0.0, 0.1, 1.0, 10.0, 100.0, 1000.0]\n"
     ]
    }
   ],
   "source": [
    "print(animals + numbers)"
   ]
  },
  {
   "cell_type": "code",
   "execution_count": 133,
   "metadata": {},
   "outputs": [
    {
     "name": "stdout",
     "output_type": "stream",
     "text": [
      "['duck', 'rat', 'boar', 'elefant', 'mammoth', 'gazelle', 'cat', 0.0, 0.1, 1.0, 10.0, 100.0, 1000.0]\n"
     ]
    }
   ],
   "source": [
    "animals.extend(numbers)\n",
    "print(animals)"
   ]
  },
  {
   "cell_type": "markdown",
   "metadata": {},
   "source": [
    "---"
   ]
  },
  {
   "cell_type": "markdown",
   "metadata": {},
   "source": [
    "### 10. Remove my name from the list and insert your own in the same place."
   ]
  },
  {
   "cell_type": "code",
   "execution_count": 134,
   "metadata": {},
   "outputs": [],
   "source": [
    "names = ['doug', 'billy', 'christoph', 'kian', 'sam']"
   ]
  },
  {
   "cell_type": "code",
   "execution_count": 135,
   "metadata": {},
   "outputs": [
    {
     "name": "stdout",
     "output_type": "stream",
     "text": [
      "['doug', 'billy', 'christoph', 'Muhammad', 'sam']\n"
     ]
    }
   ],
   "source": [
    "names.remove('kian')\n",
    "names.insert(3,'Muhammad')\n",
    "print(names)"
   ]
  },
  {
   "cell_type": "markdown",
   "metadata": {},
   "source": [
    "---"
   ]
  },
  {
   "cell_type": "markdown",
   "metadata": {},
   "source": [
    "### 11. Find the index of `'a'` in the  `mix`  list."
   ]
  },
  {
   "cell_type": "code",
   "execution_count": 136,
   "metadata": {},
   "outputs": [],
   "source": [
    "mix = [['billy', 'sam'], {'key':'value'}, 12.999, 12, 'flower', 'a', (1, 2, 3)]"
   ]
  },
  {
   "cell_type": "code",
   "execution_count": 137,
   "metadata": {},
   "outputs": [
    {
     "data": {
      "text/plain": [
       "5"
      ]
     },
     "execution_count": 137,
     "metadata": {},
     "output_type": "execute_result"
    }
   ],
   "source": [
    "mix.index('a')"
   ]
  },
  {
   "cell_type": "markdown",
   "metadata": {},
   "source": [
    "---"
   ]
  },
  {
   "cell_type": "markdown",
   "metadata": {},
   "source": [
    "### 12. Reverse the `mix` list."
   ]
  },
  {
   "cell_type": "code",
   "execution_count": 138,
   "metadata": {},
   "outputs": [
    {
     "data": {
      "text/plain": [
       "[(1, 2, 3), 'a', 'flower', 12, 12.999, {'key': 'value'}, ['billy', 'sam']]"
      ]
     },
     "execution_count": 138,
     "metadata": {},
     "output_type": "execute_result"
    }
   ],
   "source": [
    "mix.reverse()\n",
    "mix"
   ]
  },
  {
   "cell_type": "markdown",
   "metadata": {},
   "source": [
    "---"
   ]
  },
  {
   "cell_type": "markdown",
   "metadata": {},
   "source": [
    "### 13. Remove the last element of `mix` and assign it to a variable."
   ]
  },
  {
   "cell_type": "code",
   "execution_count": 139,
   "metadata": {},
   "outputs": [
    {
     "data": {
      "text/plain": [
       "['billy', 'sam']"
      ]
     },
     "execution_count": 139,
     "metadata": {},
     "output_type": "execute_result"
    }
   ],
   "source": [
    "new_var=mix.pop(-1)\n",
    "new_var"
   ]
  },
  {
   "cell_type": "markdown",
   "metadata": {},
   "source": [
    "---"
   ]
  },
  {
   "cell_type": "markdown",
   "metadata": {},
   "source": [
    "### 14. Count the number of times `0` appears in the following list."
   ]
  },
  {
   "cell_type": "code",
   "execution_count": 140,
   "metadata": {},
   "outputs": [],
   "source": [
    "binary = [0,1,1,0,1,0,1,1,1,1,0,0,1,0,0,1,0,1,1,0,0,1,1,0,1,1,0,0,0,1,1,1,0,1,0,1]"
   ]
  },
  {
   "cell_type": "code",
   "execution_count": 141,
   "metadata": {},
   "outputs": [
    {
     "data": {
      "text/plain": [
       "16"
      ]
     },
     "execution_count": 141,
     "metadata": {},
     "output_type": "execute_result"
    }
   ],
   "source": [
    "binary.count(0)"
   ]
  },
  {
   "cell_type": "markdown",
   "metadata": {},
   "source": [
    "---"
   ]
  },
  {
   "cell_type": "markdown",
   "metadata": {},
   "source": [
    "### 15. Try to convert elements in a list to floats.\n",
    "\n",
    "Create a new list with the converted numbers. If something cannot be converted, skip it and append nothing to the new list.\n",
    "\n",
    "> Hint: Use a try-except statement, see [here](http://www.pythonforbeginners.com/error-handling/python-try-and-except) or [here](https://www.programiz.com/python-programming/exception-handling)."
   ]
  },
  {
   "cell_type": "code",
   "execution_count": 142,
   "metadata": {},
   "outputs": [],
   "source": [
    "corrupted = ['!1', '23.1', '23.4.5', '??12', '.12', '12-12', '-11.1', '0-1', '*12.1', '1000']"
   ]
  },
  {
   "cell_type": "code",
   "execution_count": 143,
   "metadata": {},
   "outputs": [
    {
     "data": {
      "text/plain": [
       "[23.1, 0.12, -11.1, 1000.0]"
      ]
     },
     "execution_count": 143,
     "metadata": {},
     "output_type": "execute_result"
    }
   ],
   "source": [
    "converted_to_float=list()\n",
    "for i in corrupted:\n",
    "    try:\n",
    "        converted_to_float.append(float(i))\n",
    "    except:\n",
    "        continue\n",
    "converted_to_float"
   ]
  },
  {
   "cell_type": "markdown",
   "metadata": {},
   "source": [
    "---"
   ]
  },
  {
   "cell_type": "markdown",
   "metadata": {},
   "source": [
    "### 16. While loops and strings.\n",
    "\n",
    "Iterate over the following sentence over and over again, counting the number of vowels in the sentence until you have counted 1 million vowels. Print out the number of iterations it took to reach one million."
   ]
  },
  {
   "cell_type": "code",
   "execution_count": 144,
   "metadata": {},
   "outputs": [],
   "source": [
    "sentence = \"IF I PRACTICE A LOT I WILL SOON BECOME A VERY GOOD DATA SCIENTIST\""
   ]
  },
  {
   "cell_type": "code",
   "execution_count": 145,
   "metadata": {},
   "outputs": [
    {
     "name": "stdout",
     "output_type": "stream",
     "text": [
      "1000017\n"
     ]
    }
   ],
   "source": [
    "vowels=['A','E','U','I','O']\n",
    "vowels_count=0\n",
    "counter=0\n",
    "while vowels_count <= 1e6:\n",
    "    for i in sentence:\n",
    "        counter += 1\n",
    "        if i in vowels:\n",
    "            vowels_count += 1\n",
    "print(vowels_count)"
   ]
  },
  {
   "cell_type": "markdown",
   "metadata": {},
   "source": [
    "---"
   ]
  },
  {
   "cell_type": "markdown",
   "metadata": {},
   "source": [
    "### 17. Load coffee preference data from file and print\n",
    "\n",
    "The code to load in the data is provided below. \n",
    "\n",
    "The `with open(..., 'r') as f:` opens up a file in \"read\" mode (rather than \"write\"), and assigns this opened file to `f`. \n",
    "\n",
    "We can then use the `.readlines()` built-in function to split the csv file on newlines and assign it to the variable `lines`."
   ]
  },
  {
   "cell_type": "code",
   "execution_count": 146,
   "metadata": {},
   "outputs": [],
   "source": [
    "with open('resource-datasets/coffee_preferences/dat12-coffee-preferences.csv','r') as f:\n",
    "    lines = f.readlines()"
   ]
  },
  {
   "cell_type": "markdown",
   "metadata": {},
   "source": [
    "### 18. Iterate through lines and print them out"
   ]
  },
  {
   "cell_type": "code",
   "execution_count": 147,
   "metadata": {},
   "outputs": [
    {
     "name": "stdout",
     "output_type": "stream",
     "text": [
      "Timestamp,Name,Starbucks,PhilzCoffee,BlueBottleCoffee,PeetsTea,CaffeTrieste,GrandCoffee,RitualCoffee,FourBarrel,WorkshopCafe\n",
      "\n",
      "3/17/2015 18:37:58,Alison,3,5,4,3,,,5,5,\n",
      "\n",
      "3/17/2015 18:38:09,April,4,5,5,3,,,3,,5\n",
      "\n",
      "3/17/2015 18:38:25,Vijay,3,5,5,5,3,2,1,1,1\n",
      "\n",
      "3/17/2015 18:38:28,Vanessa,1,5,5,2,,,3,2,3\n",
      "\n",
      "3/17/2015 18:38:46,Isabel,1,4,4,2,4,,4,4,\n",
      "\n",
      "3/17/2015 18:39:01,India,5,3,3,3,3,1,,,3\n",
      "\n",
      "3/17/2015 18:39:01,Dave H,4,5,,5,,,,,\n",
      "\n",
      "3/17/2015 18:39:05,Deepthi,3,5,,2,,,,,2\n",
      "\n",
      "3/17/2015 18:39:14,Ramesh,3,4,,3,,,,,4\n",
      "\n",
      "3/17/2015 18:39:23,Hugh Jass,1,5,5,4,5,2,5,4,1\n",
      "\n",
      "3/17/2015 18:39:23,Alex,4,5,,3,,,,,\n",
      "\n",
      "3/17/2015 18:39:30,Ajay Anand,3,4,4,3,5,,,,\n",
      "\n",
      "3/17/2015 18:39:35,David Feng,2,3,4,2,2,,5,4,3\n",
      "\n",
      "3/17/2015 18:39:42,Zach,3,4,4,3,,,,,5\n",
      "\n",
      "3/17/2015 18:40:44,Matt,3,5,4,3,2,2,4,3,2\n",
      "\n",
      "3/17/2015 18:40:49,Markus,3,5,,3,,,4,,\n",
      "\n",
      "3/17/2015 18:41:18,Otto,4,2,2,5,,,3,3,3\n",
      "\n",
      "3/17/2015 18:41:23,Alessandro,1,5,3,2,,,4,3,\n",
      "\n",
      "3/17/2015 18:41:35,Rocky,3,5,4,3,3,3,4,4,3\n",
      "\n",
      "3/17/2015 18:42:01,cheong-tseng eng,3,1,,,,,4,,\n"
     ]
    }
   ],
   "source": [
    "for line in lines:\n",
    "    print(line)"
   ]
  },
  {
   "cell_type": "markdown",
   "metadata": {},
   "source": [
    "---"
   ]
  },
  {
   "cell_type": "markdown",
   "metadata": {},
   "source": [
    "### 19. Print out just the lines object by typing `lines` in a cell and hitting enter."
   ]
  },
  {
   "cell_type": "code",
   "execution_count": 148,
   "metadata": {},
   "outputs": [
    {
     "data": {
      "text/plain": [
       "['Timestamp,Name,Starbucks,PhilzCoffee,BlueBottleCoffee,PeetsTea,CaffeTrieste,GrandCoffee,RitualCoffee,FourBarrel,WorkshopCafe\\n',\n",
       " '3/17/2015 18:37:58,Alison,3,5,4,3,,,5,5,\\n',\n",
       " '3/17/2015 18:38:09,April,4,5,5,3,,,3,,5\\n',\n",
       " '3/17/2015 18:38:25,Vijay,3,5,5,5,3,2,1,1,1\\n',\n",
       " '3/17/2015 18:38:28,Vanessa,1,5,5,2,,,3,2,3\\n',\n",
       " '3/17/2015 18:38:46,Isabel,1,4,4,2,4,,4,4,\\n',\n",
       " '3/17/2015 18:39:01,India,5,3,3,3,3,1,,,3\\n',\n",
       " '3/17/2015 18:39:01,Dave H,4,5,,5,,,,,\\n',\n",
       " '3/17/2015 18:39:05,Deepthi,3,5,,2,,,,,2\\n',\n",
       " '3/17/2015 18:39:14,Ramesh,3,4,,3,,,,,4\\n',\n",
       " '3/17/2015 18:39:23,Hugh Jass,1,5,5,4,5,2,5,4,1\\n',\n",
       " '3/17/2015 18:39:23,Alex,4,5,,3,,,,,\\n',\n",
       " '3/17/2015 18:39:30,Ajay Anand,3,4,4,3,5,,,,\\n',\n",
       " '3/17/2015 18:39:35,David Feng,2,3,4,2,2,,5,4,3\\n',\n",
       " '3/17/2015 18:39:42,Zach,3,4,4,3,,,,,5\\n',\n",
       " '3/17/2015 18:40:44,Matt,3,5,4,3,2,2,4,3,2\\n',\n",
       " '3/17/2015 18:40:49,Markus,3,5,,3,,,4,,\\n',\n",
       " '3/17/2015 18:41:18,Otto,4,2,2,5,,,3,3,3\\n',\n",
       " '3/17/2015 18:41:23,Alessandro,1,5,3,2,,,4,3,\\n',\n",
       " '3/17/2015 18:41:35,Rocky,3,5,4,3,3,3,4,4,3\\n',\n",
       " '3/17/2015 18:42:01,cheong-tseng eng,3,1,,,,,4,,']"
      ]
     },
     "execution_count": 148,
     "metadata": {},
     "output_type": "execute_result"
    }
   ],
   "source": [
    "lines"
   ]
  },
  {
   "cell_type": "markdown",
   "metadata": {},
   "source": [
    "---"
   ]
  },
  {
   "cell_type": "markdown",
   "metadata": {},
   "source": [
    "### 20. Remove the remaining newline `'\\n'` characters with a for-loop.\n",
    "\n",
    "Iterate through the lines of the data and remove the unwanted newline characters.\n",
    "\n",
    "**`.replace('\\n', '')`** is a built-in string function that will take as the first argument the substring you want to replace, and as its second argument the string you want to replace it with."
   ]
  },
  {
   "cell_type": "code",
   "execution_count": 149,
   "metadata": {},
   "outputs": [
    {
     "data": {
      "text/plain": [
       "['Timestamp,Name,Starbucks,PhilzCoffee,BlueBottleCoffee,PeetsTea,CaffeTrieste,GrandCoffee,RitualCoffee,FourBarrel,WorkshopCafe',\n",
       " '3/17/2015 18:37:58,Alison,3,5,4,3,,,5,5,',\n",
       " '3/17/2015 18:38:09,April,4,5,5,3,,,3,,5',\n",
       " '3/17/2015 18:38:25,Vijay,3,5,5,5,3,2,1,1,1',\n",
       " '3/17/2015 18:38:28,Vanessa,1,5,5,2,,,3,2,3',\n",
       " '3/17/2015 18:38:46,Isabel,1,4,4,2,4,,4,4,',\n",
       " '3/17/2015 18:39:01,India,5,3,3,3,3,1,,,3',\n",
       " '3/17/2015 18:39:01,Dave H,4,5,,5,,,,,',\n",
       " '3/17/2015 18:39:05,Deepthi,3,5,,2,,,,,2',\n",
       " '3/17/2015 18:39:14,Ramesh,3,4,,3,,,,,4',\n",
       " '3/17/2015 18:39:23,Hugh Jass,1,5,5,4,5,2,5,4,1',\n",
       " '3/17/2015 18:39:23,Alex,4,5,,3,,,,,',\n",
       " '3/17/2015 18:39:30,Ajay Anand,3,4,4,3,5,,,,',\n",
       " '3/17/2015 18:39:35,David Feng,2,3,4,2,2,,5,4,3',\n",
       " '3/17/2015 18:39:42,Zach,3,4,4,3,,,,,5',\n",
       " '3/17/2015 18:40:44,Matt,3,5,4,3,2,2,4,3,2',\n",
       " '3/17/2015 18:40:49,Markus,3,5,,3,,,4,,',\n",
       " '3/17/2015 18:41:18,Otto,4,2,2,5,,,3,3,3',\n",
       " '3/17/2015 18:41:23,Alessandro,1,5,3,2,,,4,3,',\n",
       " '3/17/2015 18:41:35,Rocky,3,5,4,3,3,3,4,4,3',\n",
       " '3/17/2015 18:42:01,cheong-tseng eng,3,1,,,,,4,,']"
      ]
     },
     "execution_count": 149,
     "metadata": {},
     "output_type": "execute_result"
    }
   ],
   "source": [
    "modified_lines = []\n",
    "for i in lines:\n",
    "    modified_lines.append(i.replace('\\n',''))\n",
    "modified_lines"
   ]
  },
  {
   "cell_type": "markdown",
   "metadata": {},
   "source": [
    "---"
   ]
  },
  {
   "cell_type": "markdown",
   "metadata": {},
   "source": [
    "### 21. Split the lines into \"header\" and \"data\" variables.\n",
    "\n",
    "The header is the first string in the list of strings. It contains the column names of our data."
   ]
  },
  {
   "cell_type": "code",
   "execution_count": 150,
   "metadata": {},
   "outputs": [],
   "source": [
    "header=modified_lines[0]\n",
    "data=modified_lines[1:]"
   ]
  },
  {
   "cell_type": "markdown",
   "metadata": {},
   "source": [
    "---"
   ]
  },
  {
   "cell_type": "markdown",
   "metadata": {},
   "source": [
    "### 22. Split the header and the data strings on commas.\n",
    "\n",
    "To split a string on the comma character, use the **`.split(',')`** built-in function. \n",
    "\n",
    "Split the header on commas first and print it. You can see that the original string is now a list, with items that were originally separated by commas."
   ]
  },
  {
   "cell_type": "code",
   "execution_count": 151,
   "metadata": {},
   "outputs": [
    {
     "data": {
      "text/plain": [
       "['Timestamp',\n",
       " 'Name',\n",
       " 'Starbucks',\n",
       " 'PhilzCoffee',\n",
       " 'BlueBottleCoffee',\n",
       " 'PeetsTea',\n",
       " 'CaffeTrieste',\n",
       " 'GrandCoffee',\n",
       " 'RitualCoffee',\n",
       " 'FourBarrel',\n",
       " 'WorkshopCafe']"
      ]
     },
     "execution_count": 151,
     "metadata": {},
     "output_type": "execute_result"
    }
   ],
   "source": [
    "# split on commas\n",
    "header=header.split(',')\n",
    "splited_data=[]\n",
    "for i in data:\n",
    "    splited_data.append(i.split(','))\n",
    "header"
   ]
  },
  {
   "cell_type": "code",
   "execution_count": 152,
   "metadata": {},
   "outputs": [
    {
     "data": {
      "text/plain": [
       "[['3/17/2015 18:37:58', 'Alison', '3', '5', '4', '3', '', '', '5', '5', ''],\n",
       " ['3/17/2015 18:38:09', 'April', '4', '5', '5', '3', '', '', '3', '', '5'],\n",
       " ['3/17/2015 18:38:25', 'Vijay', '3', '5', '5', '5', '3', '2', '1', '1', '1'],\n",
       " ['3/17/2015 18:38:28', 'Vanessa', '1', '5', '5', '2', '', '', '3', '2', '3'],\n",
       " ['3/17/2015 18:38:46', 'Isabel', '1', '4', '4', '2', '4', '', '4', '4', ''],\n",
       " ['3/17/2015 18:39:01', 'India', '5', '3', '3', '3', '3', '1', '', '', '3'],\n",
       " ['3/17/2015 18:39:01', 'Dave H', '4', '5', '', '5', '', '', '', '', ''],\n",
       " ['3/17/2015 18:39:05', 'Deepthi', '3', '5', '', '2', '', '', '', '', '2'],\n",
       " ['3/17/2015 18:39:14', 'Ramesh', '3', '4', '', '3', '', '', '', '', '4'],\n",
       " ['3/17/2015 18:39:23',\n",
       "  'Hugh Jass',\n",
       "  '1',\n",
       "  '5',\n",
       "  '5',\n",
       "  '4',\n",
       "  '5',\n",
       "  '2',\n",
       "  '5',\n",
       "  '4',\n",
       "  '1'],\n",
       " ['3/17/2015 18:39:23', 'Alex', '4', '5', '', '3', '', '', '', '', ''],\n",
       " ['3/17/2015 18:39:30', 'Ajay Anand', '3', '4', '4', '3', '5', '', '', '', ''],\n",
       " ['3/17/2015 18:39:35',\n",
       "  'David Feng',\n",
       "  '2',\n",
       "  '3',\n",
       "  '4',\n",
       "  '2',\n",
       "  '2',\n",
       "  '',\n",
       "  '5',\n",
       "  '4',\n",
       "  '3'],\n",
       " ['3/17/2015 18:39:42', 'Zach', '3', '4', '4', '3', '', '', '', '', '5'],\n",
       " ['3/17/2015 18:40:44', 'Matt', '3', '5', '4', '3', '2', '2', '4', '3', '2'],\n",
       " ['3/17/2015 18:40:49', 'Markus', '3', '5', '', '3', '', '', '4', '', ''],\n",
       " ['3/17/2015 18:41:18', 'Otto', '4', '2', '2', '5', '', '', '3', '3', '3'],\n",
       " ['3/17/2015 18:41:23',\n",
       "  'Alessandro',\n",
       "  '1',\n",
       "  '5',\n",
       "  '3',\n",
       "  '2',\n",
       "  '',\n",
       "  '',\n",
       "  '4',\n",
       "  '3',\n",
       "  ''],\n",
       " ['3/17/2015 18:41:35', 'Rocky', '3', '5', '4', '3', '3', '3', '4', '4', '3'],\n",
       " ['3/17/2015 18:42:01',\n",
       "  'cheong-tseng eng',\n",
       "  '3',\n",
       "  '1',\n",
       "  '',\n",
       "  '',\n",
       "  '',\n",
       "  '',\n",
       "  '4',\n",
       "  '',\n",
       "  '']]"
      ]
     },
     "execution_count": 152,
     "metadata": {},
     "output_type": "execute_result"
    }
   ],
   "source": [
    "splited_data"
   ]
  },
  {
   "cell_type": "markdown",
   "metadata": {},
   "source": [
    "---"
   ]
  },
  {
   "cell_type": "markdown",
   "metadata": {},
   "source": [
    "### 23. Remove the \"Timestamp\" column.\n",
    "\n",
    "We aren't interested in the Timestamp column in our data, so remove it from the header and the data list.\n",
    "\n",
    "Removing the Timestamp from the header can be done with list functions or slicing. To remove the header column from the data, use a for-loop.\n",
    "\n",
    "Print out the new data object with the timestamps removed."
   ]
  },
  {
   "cell_type": "code",
   "execution_count": 153,
   "metadata": {},
   "outputs": [
    {
     "data": {
      "text/plain": [
       "['Name',\n",
       " 'Starbucks',\n",
       " 'PhilzCoffee',\n",
       " 'BlueBottleCoffee',\n",
       " 'PeetsTea',\n",
       " 'CaffeTrieste',\n",
       " 'GrandCoffee',\n",
       " 'RitualCoffee',\n",
       " 'FourBarrel',\n",
       " 'WorkshopCafe']"
      ]
     },
     "execution_count": 153,
     "metadata": {},
     "output_type": "execute_result"
    }
   ],
   "source": [
    "# remove Timestamp:\n",
    "header.remove('Timestamp')\n",
    "header"
   ]
  },
  {
   "cell_type": "code",
   "execution_count": 154,
   "metadata": {},
   "outputs": [
    {
     "data": {
      "text/plain": [
       "[['Alison', '3', '5', '4', '3', '', '', '5', '5', ''],\n",
       " ['April', '4', '5', '5', '3', '', '', '3', '', '5'],\n",
       " ['Vijay', '3', '5', '5', '5', '3', '2', '1', '1', '1'],\n",
       " ['Vanessa', '1', '5', '5', '2', '', '', '3', '2', '3'],\n",
       " ['Isabel', '1', '4', '4', '2', '4', '', '4', '4', ''],\n",
       " ['India', '5', '3', '3', '3', '3', '1', '', '', '3'],\n",
       " ['Dave H', '4', '5', '', '5', '', '', '', '', ''],\n",
       " ['Deepthi', '3', '5', '', '2', '', '', '', '', '2'],\n",
       " ['Ramesh', '3', '4', '', '3', '', '', '', '', '4'],\n",
       " ['Hugh Jass', '1', '5', '5', '4', '5', '2', '5', '4', '1'],\n",
       " ['Alex', '4', '5', '', '3', '', '', '', '', ''],\n",
       " ['Ajay Anand', '3', '4', '4', '3', '5', '', '', '', ''],\n",
       " ['David Feng', '2', '3', '4', '2', '2', '', '5', '4', '3'],\n",
       " ['Zach', '3', '4', '4', '3', '', '', '', '', '5'],\n",
       " ['Matt', '3', '5', '4', '3', '2', '2', '4', '3', '2'],\n",
       " ['Markus', '3', '5', '', '3', '', '', '4', '', ''],\n",
       " ['Otto', '4', '2', '2', '5', '', '', '3', '3', '3'],\n",
       " ['Alessandro', '1', '5', '3', '2', '', '', '4', '3', ''],\n",
       " ['Rocky', '3', '5', '4', '3', '3', '3', '4', '4', '3'],\n",
       " ['cheong-tseng eng', '3', '1', '', '', '', '', '4', '', '']]"
      ]
     },
     "execution_count": 154,
     "metadata": {},
     "output_type": "execute_result"
    }
   ],
   "source": [
    "new_data=[]\n",
    "for i in data:\n",
    "    new_data.append(i.split(',')[1:])\n",
    "    #print(i.split(',',maxsplit=1)[1:])\n",
    "new_data"
   ]
  },
  {
   "cell_type": "markdown",
   "metadata": {},
   "source": [
    "---"
   ]
  },
  {
   "cell_type": "markdown",
   "metadata": {},
   "source": [
    "### 24. Convert numeric columns to floats and empty fields to `None`.\n",
    "\n",
    "Iterate through the data and construct a new data list of lists that has the numeric ratings converted from strings to floats, and the empty fields (which are empty strings `''`) replaced with the `None` object.\n",
    "\n",
    "Use a nested for-loop (for-loop within another for-loop) to get the job done. You will likely need to use if/else conditional statements as well.\n",
    "\n",
    "Print out the new data object to make sure it worked."
   ]
  },
  {
   "cell_type": "code",
   "execution_count": 155,
   "metadata": {},
   "outputs": [
    {
     "data": {
      "text/plain": [
       "[['Alison', 3.0, 5.0, 4.0, 3.0, None, None, 5.0, 5.0, None],\n",
       " ['April', 4.0, 5.0, 5.0, 3.0, None, None, 3.0, None, 5.0],\n",
       " ['Vijay', 3.0, 5.0, 5.0, 5.0, 3.0, 2.0, 1.0, 1.0, 1.0],\n",
       " ['Vanessa', 1.0, 5.0, 5.0, 2.0, None, None, 3.0, 2.0, 3.0],\n",
       " ['Isabel', 1.0, 4.0, 4.0, 2.0, 4.0, None, 4.0, 4.0, None],\n",
       " ['India', 5.0, 3.0, 3.0, 3.0, 3.0, 1.0, None, None, 3.0],\n",
       " ['Dave H', 4.0, 5.0, None, 5.0, None, None, None, None, None],\n",
       " ['Deepthi', 3.0, 5.0, None, 2.0, None, None, None, None, 2.0],\n",
       " ['Ramesh', 3.0, 4.0, None, 3.0, None, None, None, None, 4.0],\n",
       " ['Hugh Jass', 1.0, 5.0, 5.0, 4.0, 5.0, 2.0, 5.0, 4.0, 1.0],\n",
       " ['Alex', 4.0, 5.0, None, 3.0, None, None, None, None, None],\n",
       " ['Ajay Anand', 3.0, 4.0, 4.0, 3.0, 5.0, None, None, None, None],\n",
       " ['David Feng', 2.0, 3.0, 4.0, 2.0, 2.0, None, 5.0, 4.0, 3.0],\n",
       " ['Zach', 3.0, 4.0, 4.0, 3.0, None, None, None, None, 5.0],\n",
       " ['Matt', 3.0, 5.0, 4.0, 3.0, 2.0, 2.0, 4.0, 3.0, 2.0],\n",
       " ['Markus', 3.0, 5.0, None, 3.0, None, None, 4.0, None, None],\n",
       " ['Otto', 4.0, 2.0, 2.0, 5.0, None, None, 3.0, 3.0, 3.0],\n",
       " ['Alessandro', 1.0, 5.0, 3.0, 2.0, None, None, 4.0, 3.0, None],\n",
       " ['Rocky', 3.0, 5.0, 4.0, 3.0, 3.0, 3.0, 4.0, 4.0, 3.0],\n",
       " ['cheong-tseng eng', 3.0, 1.0, None, None, None, None, 4.0, None, None]]"
      ]
     },
     "execution_count": 155,
     "metadata": {},
     "output_type": "execute_result"
    }
   ],
   "source": [
    "nn_data=[]\n",
    "for i in new_data:\n",
    "    nnn_data=[]\n",
    "    for n in i:\n",
    "        try:\n",
    "            nnn_data.append(float(n))\n",
    "        except:\n",
    "            if n =='':\n",
    "                nnn_data.append(None)\n",
    "            else:\n",
    "                nnn_data.append(n)\n",
    "    nn_data.append(nnn_data)\n",
    "nn_data"
   ]
  },
  {
   "cell_type": "markdown",
   "metadata": {},
   "source": [
    "---"
   ]
  },
  {
   "cell_type": "markdown",
   "metadata": {},
   "source": [
    "### 25. Count the `None` values per person and put counts in a dictionary.\n",
    "\n",
    "Use a for loop to count the number of `None` values per person. Create a dictionary with the names of the people as keys, and the counts of `None` as values.\n",
    "\n",
    "Who rated the most coffee brands? Who rated the least?"
   ]
  },
  {
   "cell_type": "code",
   "execution_count": 156,
   "metadata": {},
   "outputs": [
    {
     "data": {
      "text/plain": [
       "{'Alison': 3,\n",
       " 'April': 3,\n",
       " 'Vijay': 0,\n",
       " 'Vanessa': 2,\n",
       " 'Isabel': 2,\n",
       " 'India': 2,\n",
       " 'Dave H': 6,\n",
       " 'Deepthi': 5,\n",
       " 'Ramesh': 5,\n",
       " 'Hugh Jass': 0,\n",
       " 'Alex': 6,\n",
       " 'Ajay Anand': 4,\n",
       " 'David Feng': 1,\n",
       " 'Zach': 4,\n",
       " 'Matt': 0,\n",
       " 'Markus': 5,\n",
       " 'Otto': 2,\n",
       " 'Alessandro': 3,\n",
       " 'Rocky': 0,\n",
       " 'cheong-tseng eng': 6}"
      ]
     },
     "execution_count": 156,
     "metadata": {},
     "output_type": "execute_result"
    }
   ],
   "source": [
    "# Least: Alex, Dave H, cheong-tseng eng\n",
    "# Most: Hugh Jass, Matt, Rocky, Vijay\n",
    "none_per_person={}\n",
    "for i in nn_data:\n",
    "    none_per_person[i[0]]=i.count(None)\n",
    "none_per_person"
   ]
  },
  {
   "cell_type": "markdown",
   "metadata": {},
   "source": [
    "---"
   ]
  },
  {
   "cell_type": "markdown",
   "metadata": {},
   "source": [
    "### 26. Calculate average rating per coffee brand.\n",
    "\n",
    "**Excluding `None` values**, calculate the average rating per brand of coffee.\n",
    "\n",
    "The final output should be a dictionary with keys as the coffee brand names, and their average rating as the values.\n",
    "\n",
    "Remember that average can be calculated as the sum of the ratings over the number of ratings:\n",
    "\n",
    "```python\n",
    "average_rating = float(sum(ratings_list))/len(ratings_list)\n",
    "```\n",
    "\n",
    "Print your dictionary to see the average brand ratings."
   ]
  },
  {
   "cell_type": "code",
   "execution_count": 172,
   "metadata": {},
   "outputs": [
    {
     "ename": "TypeError",
     "evalue": "unhashable type: 'list'",
     "output_type": "error",
     "traceback": [
      "\u001b[1;31m---------------------------------------------------------------------------\u001b[0m",
      "\u001b[1;31mTypeError\u001b[0m                                 Traceback (most recent call last)",
      "\u001b[1;32m<ipython-input-172-30bdd3e4509d>\u001b[0m in \u001b[0;36m<module>\u001b[1;34m()\u001b[0m\n\u001b[0;32m      4\u001b[0m     \u001b[1;32mfor\u001b[0m \u001b[0mn\u001b[0m \u001b[1;32min\u001b[0m \u001b[0mi\u001b[0m\u001b[1;33m:\u001b[0m\u001b[1;33m\u001b[0m\u001b[0m\n\u001b[0;32m      5\u001b[0m         \u001b[1;32mif\u001b[0m \u001b[0mn\u001b[0m \u001b[1;33m!=\u001b[0m \u001b[1;32mNone\u001b[0m\u001b[1;33m:\u001b[0m\u001b[1;33m\u001b[0m\u001b[0m\n\u001b[1;32m----> 6\u001b[1;33m             \u001b[0maverage_rating\u001b[0m\u001b[1;33m[\u001b[0m\u001b[0mnew_header\u001b[0m\u001b[1;33m]\u001b[0m\u001b[1;33m=\u001b[0m\u001b[0mn\u001b[0m\u001b[1;33m\u001b[0m\u001b[0m\n\u001b[0m\u001b[0;32m      7\u001b[0m \u001b[0maverage_rating\u001b[0m\u001b[1;33m\u001b[0m\u001b[0m\n",
      "\u001b[1;31mTypeError\u001b[0m: unhashable type: 'list'"
     ]
    }
   ],
   "source": [
    "average_rating={}\n",
    "new_header=header[1:]\n",
    "for i in nn_data:\n",
    "    for n in i:\n",
    "        if n != None:\n",
    "            average_rating[new_header]=n\n",
    "average_rating"
   ]
  },
  {
   "cell_type": "markdown",
   "metadata": {},
   "source": [
    "---"
   ]
  },
  {
   "cell_type": "markdown",
   "metadata": {},
   "source": [
    "### 27. Create a list of just the people's names."
   ]
  },
  {
   "cell_type": "code",
   "execution_count": null,
   "metadata": {},
   "outputs": [],
   "source": []
  },
  {
   "cell_type": "markdown",
   "metadata": {},
   "source": [
    "---"
   ]
  },
  {
   "cell_type": "markdown",
   "metadata": {},
   "source": [
    "### 28. Picking a name at random: odds of choosing the same name 3 times in a row.\n",
    "\n",
    "Now we'll use a while-loop to \"brute force\" the odds of choosing the same name 3 times in a row randomly from the list of names.\n",
    "\n",
    "Below I've imported the **`random`** package, which has the essential function for this code **`random.choice()`**.\n",
    "The function takes a list as an argument, and returns one of the elements of that list at random."
   ]
  },
  {
   "cell_type": "code",
   "execution_count": 157,
   "metadata": {},
   "outputs": [],
   "source": [
    "import random\n",
    "# Choose a random person from the list of people:\n",
    "# random.choice(people)"
   ]
  },
  {
   "cell_type": "markdown",
   "metadata": {},
   "source": [
    "Write a function to choose a person from the list randomly 3 times and check if they are all the same\n",
    "\n",
    "Define a function that has the following properties:\n",
    "\n",
    "1. Takes a list (your list of names) as an argument.\n",
    "2. Selects a name using `random.choice(people)` three separate times.\n",
    "3. Returns `True` if the name was the same all three times. Otherwise returns `False`."
   ]
  },
  {
   "cell_type": "code",
   "execution_count": null,
   "metadata": {},
   "outputs": [],
   "source": []
  },
  {
   "cell_type": "markdown",
   "metadata": {},
   "source": [
    "---"
   ]
  },
  {
   "cell_type": "markdown",
   "metadata": {},
   "source": [
    "### 29. Construct a while loop to run the choosing function until it returns True.\n",
    "\n",
    "Run the function until you draw the same person 3 times using a while-loop. Keep track of how many tries it took and print out the number of tries after it runs."
   ]
  },
  {
   "cell_type": "code",
   "execution_count": null,
   "metadata": {},
   "outputs": [],
   "source": []
  }
 ],
 "metadata": {
  "anaconda-cloud": {},
  "kernelspec": {
   "display_name": "Python 3",
   "language": "python",
   "name": "python3"
  },
  "language_info": {
   "codemirror_mode": {
    "name": "ipython",
    "version": 3
   },
   "file_extension": ".py",
   "mimetype": "text/x-python",
   "name": "python",
   "nbconvert_exporter": "python",
   "pygments_lexer": "ipython3",
   "version": "3.6.5"
  },
  "toc": {
   "nav_menu": {},
   "number_sections": false,
   "sideBar": true,
   "skip_h1_title": true,
   "title_cell": "Table of Contents",
   "title_sidebar": "Contents",
   "toc_cell": true,
   "toc_position": {},
   "toc_section_display": "block",
   "toc_window_display": false
  }
 },
 "nbformat": 4,
 "nbformat_minor": 1
}
