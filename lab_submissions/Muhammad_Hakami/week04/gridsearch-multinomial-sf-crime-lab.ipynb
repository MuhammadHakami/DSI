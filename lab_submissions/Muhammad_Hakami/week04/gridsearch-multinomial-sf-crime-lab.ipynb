{
 "cells": [
  {
   "cell_type": "markdown",
   "metadata": {},
   "source": [
    "<img src=\"http://imgur.com/1ZcRyrc.png\" style=\"float: left; margin: 20px; height: 55px\">\n",
    "\n",
    "# Practice Gridsearch and Multinomial Models with SF Crime Data\n",
    "\n",
    "\n",
    "---\n",
    "\n",
    "### Multinomial logistic regression models\n",
    "\n",
    "So far, we have been using logistic regression for binary problems where there are only two class labels. Logistic regression can be extended to dependent variables with multiple classes.\n",
    "\n",
    "There are two ways sklearn solves multiple-class problems with logistic regression: a multinomial loss or a \"one vs. rest\" (OvR) process where a model is fit for each target class vs. all the other classes. \n",
    "\n",
    "**Multinomial vs. OvR**\n",
    "- (M) 'k-1' models with 1 reference category\n",
    "- (OvR) 'k*(k-1)/2' models\n",
    "\n",
    "You will use the gridsearch in conjunction with multinomial logistic to optimize a model that predicts the category (type) of crime based on various features captured by San Francisco police departments."
   ]
  },
  {
   "cell_type": "markdown",
   "metadata": {},
   "source": [
    "**Necessary lab imports**"
   ]
  },
  {
   "cell_type": "code",
   "execution_count": 137,
   "metadata": {},
   "outputs": [],
   "source": [
    "import numpy as np\n",
    "import pandas as pd\n",
    "import patsy\n",
    "\n",
    "from sklearn.metrics import classification_report, confusion_matrix, accuracy_score\n",
    "from sklearn.model_selection import train_test_split, GridSearchCV, cross_val_score, cross_val_predict\n",
    "from sklearn.linear_model import LogisticRegression, LogisticRegressionCV\n",
    "\n",
    "\n",
    "import seaborn as sns\n",
    "\n",
    "import matplotlib.pyplot as plt\n",
    "plt.style.use('fivethirtyeight')\n",
    "\n",
    "%matplotlib inline\n",
    "%config InlineBackend.figure_format = 'retina'"
   ]
  },
  {
   "cell_type": "markdown",
   "metadata": {},
   "source": [
    "### 1. Read in the data"
   ]
  },
  {
   "cell_type": "code",
   "execution_count": 138,
   "metadata": {},
   "outputs": [],
   "source": [
    "crime_csv = './datasets/sf_crime_train.csv'"
   ]
  },
  {
   "cell_type": "code",
   "execution_count": 139,
   "metadata": {},
   "outputs": [
    {
     "data": {
      "text/html": [
       "<div>\n",
       "<style scoped>\n",
       "    .dataframe tbody tr th:only-of-type {\n",
       "        vertical-align: middle;\n",
       "    }\n",
       "\n",
       "    .dataframe tbody tr th {\n",
       "        vertical-align: top;\n",
       "    }\n",
       "\n",
       "    .dataframe thead th {\n",
       "        text-align: right;\n",
       "    }\n",
       "</style>\n",
       "<table border=\"1\" class=\"dataframe\">\n",
       "  <thead>\n",
       "    <tr style=\"text-align: right;\">\n",
       "      <th></th>\n",
       "      <th>Dates</th>\n",
       "      <th>Category</th>\n",
       "      <th>Descript</th>\n",
       "      <th>PdDistrict</th>\n",
       "      <th>Resolution</th>\n",
       "      <th>Address</th>\n",
       "      <th>X</th>\n",
       "      <th>Y</th>\n",
       "    </tr>\n",
       "  </thead>\n",
       "  <tbody>\n",
       "    <tr>\n",
       "      <th>0</th>\n",
       "      <td>5/13/15 23:53</td>\n",
       "      <td>WARRANTS</td>\n",
       "      <td>WARRANT ARREST</td>\n",
       "      <td>NORTHERN</td>\n",
       "      <td>ARREST, BOOKED</td>\n",
       "      <td>OAK ST / LAGUNA ST</td>\n",
       "      <td>-122.425892</td>\n",
       "      <td>37.774599</td>\n",
       "    </tr>\n",
       "    <tr>\n",
       "      <th>1</th>\n",
       "      <td>5/13/15 23:53</td>\n",
       "      <td>OTHER OFFENSES</td>\n",
       "      <td>TRAFFIC VIOLATION ARREST</td>\n",
       "      <td>NORTHERN</td>\n",
       "      <td>ARREST, BOOKED</td>\n",
       "      <td>OAK ST / LAGUNA ST</td>\n",
       "      <td>-122.425892</td>\n",
       "      <td>37.774599</td>\n",
       "    </tr>\n",
       "    <tr>\n",
       "      <th>2</th>\n",
       "      <td>5/13/15 23:33</td>\n",
       "      <td>OTHER OFFENSES</td>\n",
       "      <td>TRAFFIC VIOLATION ARREST</td>\n",
       "      <td>NORTHERN</td>\n",
       "      <td>ARREST, BOOKED</td>\n",
       "      <td>VANNESS AV / GREENWICH ST</td>\n",
       "      <td>-122.424363</td>\n",
       "      <td>37.800414</td>\n",
       "    </tr>\n",
       "    <tr>\n",
       "      <th>3</th>\n",
       "      <td>5/13/15 23:30</td>\n",
       "      <td>LARCENY/THEFT</td>\n",
       "      <td>GRAND THEFT FROM LOCKED AUTO</td>\n",
       "      <td>NORTHERN</td>\n",
       "      <td>NONE</td>\n",
       "      <td>1500 Block of LOMBARD ST</td>\n",
       "      <td>-122.426995</td>\n",
       "      <td>37.800873</td>\n",
       "    </tr>\n",
       "    <tr>\n",
       "      <th>4</th>\n",
       "      <td>5/13/15 23:30</td>\n",
       "      <td>LARCENY/THEFT</td>\n",
       "      <td>GRAND THEFT FROM LOCKED AUTO</td>\n",
       "      <td>PARK</td>\n",
       "      <td>NONE</td>\n",
       "      <td>100 Block of BRODERICK ST</td>\n",
       "      <td>-122.438738</td>\n",
       "      <td>37.771541</td>\n",
       "    </tr>\n",
       "  </tbody>\n",
       "</table>\n",
       "</div>"
      ],
      "text/plain": [
       "           Dates        Category                      Descript PdDistrict  \\\n",
       "0  5/13/15 23:53        WARRANTS                WARRANT ARREST   NORTHERN   \n",
       "1  5/13/15 23:53  OTHER OFFENSES      TRAFFIC VIOLATION ARREST   NORTHERN   \n",
       "2  5/13/15 23:33  OTHER OFFENSES      TRAFFIC VIOLATION ARREST   NORTHERN   \n",
       "3  5/13/15 23:30   LARCENY/THEFT  GRAND THEFT FROM LOCKED AUTO   NORTHERN   \n",
       "4  5/13/15 23:30   LARCENY/THEFT  GRAND THEFT FROM LOCKED AUTO       PARK   \n",
       "\n",
       "       Resolution                    Address           X          Y  \n",
       "0  ARREST, BOOKED         OAK ST / LAGUNA ST -122.425892  37.774599  \n",
       "1  ARREST, BOOKED         OAK ST / LAGUNA ST -122.425892  37.774599  \n",
       "2  ARREST, BOOKED  VANNESS AV / GREENWICH ST -122.424363  37.800414  \n",
       "3            NONE   1500 Block of LOMBARD ST -122.426995  37.800873  \n",
       "4            NONE  100 Block of BRODERICK ST -122.438738  37.771541  "
      ]
     },
     "execution_count": 139,
     "metadata": {},
     "output_type": "execute_result"
    }
   ],
   "source": [
    "#read in the data using pandas\n",
    "sf_crime = pd.read_csv(crime_csv)\n",
    "sf_crime.drop('DayOfWeek',axis=1,inplace=True)\n",
    "sf_crime.head()"
   ]
  },
  {
   "cell_type": "code",
   "execution_count": 140,
   "metadata": {},
   "outputs": [
    {
     "data": {
      "text/plain": [
       "(18000, 8)"
      ]
     },
     "execution_count": 140,
     "metadata": {},
     "output_type": "execute_result"
    }
   ],
   "source": [
    "# check the shape of your dataframe\n",
    "sf_crime.shape"
   ]
  },
  {
   "cell_type": "code",
   "execution_count": 141,
   "metadata": {},
   "outputs": [
    {
     "data": {
      "text/html": [
       "<div>\n",
       "<style scoped>\n",
       "    .dataframe tbody tr th:only-of-type {\n",
       "        vertical-align: middle;\n",
       "    }\n",
       "\n",
       "    .dataframe tbody tr th {\n",
       "        vertical-align: top;\n",
       "    }\n",
       "\n",
       "    .dataframe thead th {\n",
       "        text-align: right;\n",
       "    }\n",
       "</style>\n",
       "<table border=\"1\" class=\"dataframe\">\n",
       "  <thead>\n",
       "    <tr style=\"text-align: right;\">\n",
       "      <th></th>\n",
       "      <th>Dates</th>\n",
       "      <th>Category</th>\n",
       "      <th>Descript</th>\n",
       "      <th>PdDistrict</th>\n",
       "      <th>Resolution</th>\n",
       "      <th>Address</th>\n",
       "      <th>X</th>\n",
       "      <th>Y</th>\n",
       "    </tr>\n",
       "  </thead>\n",
       "  <tbody>\n",
       "  </tbody>\n",
       "</table>\n",
       "</div>"
      ],
      "text/plain": [
       "Empty DataFrame\n",
       "Columns: [Dates, Category, Descript, PdDistrict, Resolution, Address, X, Y]\n",
       "Index: []"
      ]
     },
     "execution_count": 141,
     "metadata": {},
     "output_type": "execute_result"
    }
   ],
   "source": [
    "#check whether there are any missing values\n",
    "sf_crime.isnull().sum()\n",
    "#do we need to fix anything here?\n",
    "#we have duplicate rows, so we need to remove it.\n",
    "sf_crime=sf_crime[~sf_crime.duplicated()]\n",
    "sf_crime[sf_crime.duplicated()]"
   ]
  },
  {
   "cell_type": "code",
   "execution_count": 142,
   "metadata": {},
   "outputs": [
    {
     "data": {
      "text/plain": [
       "Dates          object\n",
       "Category       object\n",
       "Descript       object\n",
       "PdDistrict     object\n",
       "Resolution     object\n",
       "Address        object\n",
       "X             float64\n",
       "Y             float64\n",
       "dtype: object"
      ]
     },
     "execution_count": 142,
     "metadata": {},
     "output_type": "execute_result"
    }
   ],
   "source": [
    "#check what your datatypes are\n",
    "sf_crime.dtypes\n",
    "#do we need to fix anything here?\n",
    "#yup the dates are registered as object."
   ]
  },
  {
   "cell_type": "markdown",
   "metadata": {},
   "source": [
    "### 2. Create column for year, month, day, hour, time, and date from 'Dates' column.\n",
    "\n",
    "> *`pd.to_datetime` and `Series.dt` may be helpful here!*\n"
   ]
  },
  {
   "cell_type": "code",
   "execution_count": 143,
   "metadata": {},
   "outputs": [
    {
     "data": {
      "text/plain": [
       "Dates         datetime64[ns]\n",
       "Category              object\n",
       "Descript              object\n",
       "PdDistrict            object\n",
       "Resolution            object\n",
       "Address               object\n",
       "X                    float64\n",
       "Y                    float64\n",
       "dtype: object"
      ]
     },
     "execution_count": 143,
     "metadata": {},
     "output_type": "execute_result"
    }
   ],
   "source": [
    "# convert the 'Dates' column to a datetime object\n",
    "sf_crime['Dates'] = pd.to_datetime(sf_crime['Dates'])\n",
    "sf_crime.dtypes"
   ]
  },
  {
   "cell_type": "code",
   "execution_count": 144,
   "metadata": {},
   "outputs": [
    {
     "data": {
      "text/html": [
       "<div>\n",
       "<style scoped>\n",
       "    .dataframe tbody tr th:only-of-type {\n",
       "        vertical-align: middle;\n",
       "    }\n",
       "\n",
       "    .dataframe tbody tr th {\n",
       "        vertical-align: top;\n",
       "    }\n",
       "\n",
       "    .dataframe thead th {\n",
       "        text-align: right;\n",
       "    }\n",
       "</style>\n",
       "<table border=\"1\" class=\"dataframe\">\n",
       "  <thead>\n",
       "    <tr style=\"text-align: right;\">\n",
       "      <th></th>\n",
       "      <th>Dates</th>\n",
       "      <th>Category</th>\n",
       "      <th>Descript</th>\n",
       "      <th>PdDistrict</th>\n",
       "      <th>Resolution</th>\n",
       "      <th>Address</th>\n",
       "      <th>X</th>\n",
       "      <th>Y</th>\n",
       "      <th>Year</th>\n",
       "      <th>Month</th>\n",
       "      <th>Day_of_Week</th>\n",
       "    </tr>\n",
       "  </thead>\n",
       "  <tbody>\n",
       "    <tr>\n",
       "      <th>0</th>\n",
       "      <td>2015-05-13 23:53:00</td>\n",
       "      <td>WARRANTS</td>\n",
       "      <td>WARRANT ARREST</td>\n",
       "      <td>NORTHERN</td>\n",
       "      <td>ARREST, BOOKED</td>\n",
       "      <td>OAK ST / LAGUNA ST</td>\n",
       "      <td>-122.425892</td>\n",
       "      <td>37.774599</td>\n",
       "      <td>2015</td>\n",
       "      <td>5</td>\n",
       "      <td>2</td>\n",
       "    </tr>\n",
       "    <tr>\n",
       "      <th>1</th>\n",
       "      <td>2015-05-13 23:53:00</td>\n",
       "      <td>OTHER OFFENSES</td>\n",
       "      <td>TRAFFIC VIOLATION ARREST</td>\n",
       "      <td>NORTHERN</td>\n",
       "      <td>ARREST, BOOKED</td>\n",
       "      <td>OAK ST / LAGUNA ST</td>\n",
       "      <td>-122.425892</td>\n",
       "      <td>37.774599</td>\n",
       "      <td>2015</td>\n",
       "      <td>5</td>\n",
       "      <td>2</td>\n",
       "    </tr>\n",
       "  </tbody>\n",
       "</table>\n",
       "</div>"
      ],
      "text/plain": [
       "                Dates        Category                  Descript PdDistrict  \\\n",
       "0 2015-05-13 23:53:00        WARRANTS            WARRANT ARREST   NORTHERN   \n",
       "1 2015-05-13 23:53:00  OTHER OFFENSES  TRAFFIC VIOLATION ARREST   NORTHERN   \n",
       "\n",
       "       Resolution             Address           X          Y  Year  Month  \\\n",
       "0  ARREST, BOOKED  OAK ST / LAGUNA ST -122.425892  37.774599  2015      5   \n",
       "1  ARREST, BOOKED  OAK ST / LAGUNA ST -122.425892  37.774599  2015      5   \n",
       "\n",
       "   Day_of_Week  \n",
       "0            2  \n",
       "1            2  "
      ]
     },
     "execution_count": 144,
     "metadata": {},
     "output_type": "execute_result"
    }
   ],
   "source": [
    "# create a new column for 'Year','Month',and 'Day_of_Week'\n",
    "sf_crime['Year'] = sf_crime['Dates'].dt.year\n",
    "sf_crime['Month'] = sf_crime['Dates'].dt.month\n",
    "sf_crime['Day_of_Week'] = sf_crime['Dates'].dt.dayofweek\n",
    "#check the first couple rows to make sure it's what you want\n",
    "sf_crime.head(2)"
   ]
  },
  {
   "cell_type": "code",
   "execution_count": 145,
   "metadata": {},
   "outputs": [],
   "source": [
    "# create a column for the 'Hour','Time', and 'Date'\n",
    "sf_crime['Hour'] = sf_crime['Dates'].dt.hour\n",
    "sf_crime['Time'] = sf_crime['Dates'].dt.time\n",
    "sf_crime['Date'] = sf_crime['Dates'].dt.date"
   ]
  },
  {
   "cell_type": "code",
   "execution_count": 146,
   "metadata": {},
   "outputs": [
    {
     "data": {
      "text/html": [
       "<div>\n",
       "<style scoped>\n",
       "    .dataframe tbody tr th:only-of-type {\n",
       "        vertical-align: middle;\n",
       "    }\n",
       "\n",
       "    .dataframe tbody tr th {\n",
       "        vertical-align: top;\n",
       "    }\n",
       "\n",
       "    .dataframe thead th {\n",
       "        text-align: right;\n",
       "    }\n",
       "</style>\n",
       "<table border=\"1\" class=\"dataframe\">\n",
       "  <thead>\n",
       "    <tr style=\"text-align: right;\">\n",
       "      <th></th>\n",
       "      <th>Category</th>\n",
       "      <th>Descript</th>\n",
       "      <th>PdDistrict</th>\n",
       "      <th>Resolution</th>\n",
       "      <th>Address</th>\n",
       "      <th>X</th>\n",
       "      <th>Y</th>\n",
       "      <th>Year</th>\n",
       "      <th>Month</th>\n",
       "      <th>Day_of_Week</th>\n",
       "      <th>Hour</th>\n",
       "      <th>Time</th>\n",
       "      <th>Date</th>\n",
       "    </tr>\n",
       "  </thead>\n",
       "  <tbody>\n",
       "    <tr>\n",
       "      <th>0</th>\n",
       "      <td>WARRANTS</td>\n",
       "      <td>WARRANT ARREST</td>\n",
       "      <td>NORTHERN</td>\n",
       "      <td>ARREST, BOOKED</td>\n",
       "      <td>OAK ST / LAGUNA ST</td>\n",
       "      <td>-122.425892</td>\n",
       "      <td>37.774599</td>\n",
       "      <td>2015</td>\n",
       "      <td>5</td>\n",
       "      <td>2</td>\n",
       "      <td>23</td>\n",
       "      <td>23:53:00</td>\n",
       "      <td>2015-05-13</td>\n",
       "    </tr>\n",
       "    <tr>\n",
       "      <th>1</th>\n",
       "      <td>OTHER OFFENSES</td>\n",
       "      <td>TRAFFIC VIOLATION ARREST</td>\n",
       "      <td>NORTHERN</td>\n",
       "      <td>ARREST, BOOKED</td>\n",
       "      <td>OAK ST / LAGUNA ST</td>\n",
       "      <td>-122.425892</td>\n",
       "      <td>37.774599</td>\n",
       "      <td>2015</td>\n",
       "      <td>5</td>\n",
       "      <td>2</td>\n",
       "      <td>23</td>\n",
       "      <td>23:53:00</td>\n",
       "      <td>2015-05-13</td>\n",
       "    </tr>\n",
       "    <tr>\n",
       "      <th>2</th>\n",
       "      <td>OTHER OFFENSES</td>\n",
       "      <td>TRAFFIC VIOLATION ARREST</td>\n",
       "      <td>NORTHERN</td>\n",
       "      <td>ARREST, BOOKED</td>\n",
       "      <td>VANNESS AV / GREENWICH ST</td>\n",
       "      <td>-122.424363</td>\n",
       "      <td>37.800414</td>\n",
       "      <td>2015</td>\n",
       "      <td>5</td>\n",
       "      <td>2</td>\n",
       "      <td>23</td>\n",
       "      <td>23:33:00</td>\n",
       "      <td>2015-05-13</td>\n",
       "    </tr>\n",
       "    <tr>\n",
       "      <th>3</th>\n",
       "      <td>LARCENY/THEFT</td>\n",
       "      <td>GRAND THEFT FROM LOCKED AUTO</td>\n",
       "      <td>NORTHERN</td>\n",
       "      <td>NONE</td>\n",
       "      <td>1500 Block of LOMBARD ST</td>\n",
       "      <td>-122.426995</td>\n",
       "      <td>37.800873</td>\n",
       "      <td>2015</td>\n",
       "      <td>5</td>\n",
       "      <td>2</td>\n",
       "      <td>23</td>\n",
       "      <td>23:30:00</td>\n",
       "      <td>2015-05-13</td>\n",
       "    </tr>\n",
       "    <tr>\n",
       "      <th>4</th>\n",
       "      <td>LARCENY/THEFT</td>\n",
       "      <td>GRAND THEFT FROM LOCKED AUTO</td>\n",
       "      <td>PARK</td>\n",
       "      <td>NONE</td>\n",
       "      <td>100 Block of BRODERICK ST</td>\n",
       "      <td>-122.438738</td>\n",
       "      <td>37.771541</td>\n",
       "      <td>2015</td>\n",
       "      <td>5</td>\n",
       "      <td>2</td>\n",
       "      <td>23</td>\n",
       "      <td>23:30:00</td>\n",
       "      <td>2015-05-13</td>\n",
       "    </tr>\n",
       "  </tbody>\n",
       "</table>\n",
       "</div>"
      ],
      "text/plain": [
       "         Category                      Descript PdDistrict      Resolution  \\\n",
       "0        WARRANTS                WARRANT ARREST   NORTHERN  ARREST, BOOKED   \n",
       "1  OTHER OFFENSES      TRAFFIC VIOLATION ARREST   NORTHERN  ARREST, BOOKED   \n",
       "2  OTHER OFFENSES      TRAFFIC VIOLATION ARREST   NORTHERN  ARREST, BOOKED   \n",
       "3   LARCENY/THEFT  GRAND THEFT FROM LOCKED AUTO   NORTHERN            NONE   \n",
       "4   LARCENY/THEFT  GRAND THEFT FROM LOCKED AUTO       PARK            NONE   \n",
       "\n",
       "                     Address           X          Y  Year  Month  Day_of_Week  \\\n",
       "0         OAK ST / LAGUNA ST -122.425892  37.774599  2015      5            2   \n",
       "1         OAK ST / LAGUNA ST -122.425892  37.774599  2015      5            2   \n",
       "2  VANNESS AV / GREENWICH ST -122.424363  37.800414  2015      5            2   \n",
       "3   1500 Block of LOMBARD ST -122.426995  37.800873  2015      5            2   \n",
       "4  100 Block of BRODERICK ST -122.438738  37.771541  2015      5            2   \n",
       "\n",
       "   Hour      Time        Date  \n",
       "0    23  23:53:00  2015-05-13  \n",
       "1    23  23:53:00  2015-05-13  \n",
       "2    23  23:33:00  2015-05-13  \n",
       "3    23  23:30:00  2015-05-13  \n",
       "4    23  23:30:00  2015-05-13  "
      ]
     },
     "execution_count": 146,
     "metadata": {},
     "output_type": "execute_result"
    }
   ],
   "source": [
    "# Drop the 'Dates' column\n",
    "sf_crime.drop('Dates',axis=1,inplace=True)\n",
    "sf_crime.head()"
   ]
  },
  {
   "cell_type": "markdown",
   "metadata": {},
   "source": [
    "### 3. Validate and clean the data."
   ]
  },
  {
   "cell_type": "code",
   "execution_count": 147,
   "metadata": {},
   "outputs": [
    {
     "data": {
      "text/plain": [
       "LARCENY/THEFT                  4869\n",
       "OTHER OFFENSES                 2288\n",
       "NON-CRIMINAL                   2254\n",
       "ASSAULT                        1535\n",
       "VEHICLE THEFT                   965\n",
       "VANDALISM                       870\n",
       "BURGLARY                        730\n",
       "WARRANTS                        728\n",
       "SUSPICIOUS OCC                  592\n",
       "MISSING PERSON                  533\n",
       "DRUG/NARCOTIC                   496\n",
       "ROBBERY                         465\n",
       "FRAUD                           362\n",
       "SECONDARY CODES                 261\n",
       "WEAPON LAWS                     212\n",
       "TRESPASS                        130\n",
       "STOLEN PROPERTY                 111\n",
       "SEX OFFENSES FORCIBLE           103\n",
       "FORGERY/COUNTERFEITING           85\n",
       "DRUNKENNESS                      74\n",
       "KIDNAPPING                       50\n",
       "DRIVING UNDER THE INFLUENCE      42\n",
       "PROSTITUTION                     42\n",
       "DISORDERLY CONDUCT               37\n",
       "ARSON                            35\n",
       "LIQUOR LAWS                      25\n",
       "RUNAWAY                          15\n",
       "BRIBERY                          11\n",
       "EMBEZZLEMENT                     11\n",
       "SUICIDE                           5\n",
       "FAMILY OFFENSES                   5\n",
       "SEX OFFENSES NON FORCIBLE         4\n",
       "GAMBLING                          4\n",
       "EXTORTION                         4\n",
       "LOITERING                         4\n",
       "BAD CHECKS                        2\n",
       "ASSUALT                           2\n",
       "TRESPASSING                       1\n",
       "Name: Category, dtype: int64"
      ]
     },
     "execution_count": 147,
     "metadata": {},
     "output_type": "execute_result"
    }
   ],
   "source": [
    "# check the 'Category' value counts to see what sort of categories there are\n",
    "# and to see if anything might require cleaning (particularly the ones with fewer values)\n",
    "sf_crime.Category.value_counts()"
   ]
  },
  {
   "cell_type": "code",
   "execution_count": 148,
   "metadata": {},
   "outputs": [],
   "source": [
    "# What's going on with 'TRESPASS' and 'TRESPASSING'?\n",
    "# What's going on with 'ASSAULT' and 'ASSUALT'?\n",
    "# fix these with .loc\n",
    "#sf_crime.loc[2750,'Category']='ASSAULT'\n",
    "#sf_crime.loc[4330,'Category']='ASSAULT'\n",
    "#sf_crime.loc[5519,'Category']='TRESPASS'"
   ]
  },
  {
   "cell_type": "code",
   "execution_count": 149,
   "metadata": {},
   "outputs": [
    {
     "data": {
      "text/plain": [
       "2    2924\n",
       "4    2724\n",
       "5    2552\n",
       "3    2475\n",
       "6    2453\n",
       "0    2440\n",
       "1    2394\n",
       "Name: Day_of_Week, dtype: int64"
      ]
     },
     "execution_count": 149,
     "metadata": {},
     "output_type": "execute_result"
    }
   ],
   "source": [
    "# have a look to see whether you have all the days of the week in your data\n",
    "sf_crime.Day_of_Week.value_counts()"
   ]
  },
  {
   "cell_type": "code",
   "execution_count": 150,
   "metadata": {},
   "outputs": [
    {
     "data": {
      "text/plain": [
       "GRAND THEFT FROM LOCKED AUTO                           2118\n",
       "STOLEN AUTOMOBILE                                       623\n",
       "AIDED CASE, MENTAL DISTURBED                            591\n",
       "DRIVERS LICENSE, SUSPENDED OR REVOKED                   588\n",
       "BATTERY                                                 519\n",
       "PETTY THEFT FROM LOCKED AUTO                            495\n",
       "PETTY THEFT OF PROPERTY                                 481\n",
       "LOST PROPERTY                                           468\n",
       "WARRANT ARREST                                          429\n",
       "MALICIOUS MISCHIEF, VANDALISM                           360\n",
       "FOUND PROPERTY                                          353\n",
       "MALICIOUS MISCHIEF, VANDALISM OF VEHICLES               334\n",
       "GRAND THEFT FROM UNLOCKED AUTO                          321\n",
       "SUSPICIOUS OCCURRENCE                                   305\n",
       "INVESTIGATIVE DETENTION                                 246\n",
       "FOUND PERSON                                            233\n",
       "PETTY THEFT FROM A BUILDING                             223\n",
       "PETTY THEFT SHOPLIFTING                                 215\n",
       "THREATS AGAINST LIFE                                    209\n",
       "GRAND THEFT OF PROPERTY                                 202\n",
       "ENROUTE TO OUTSIDE JURISDICTION                         201\n",
       "CREDIT CARD, THEFT BY USE OF                            199\n",
       "STOLEN TRUCK                                            192\n",
       "GRAND THEFT FROM PERSON                                 192\n",
       "TRAFFIC VIOLATION                                       180\n",
       "MISSING ADULT                                           177\n",
       "RESISTING ARREST                                        174\n",
       "TRAFFIC VIOLATION ARREST                                172\n",
       "DOMESTIC VIOLENCE                                       156\n",
       "LOST/STOLEN LICENSE PLATE                               154\n",
       "                                                       ... \n",
       "ATTEMPTED ROBBERY RESIDENCE WITH BODILY FORCE             1\n",
       "INTERFERRING WITH A FIREMAN                               1\n",
       "POSSESSION OF HALLUCINOGENIC                              1\n",
       "CARJACKING WITH A GUN                                     1\n",
       "WILLFUL CRUELTY TO CHILD                                  1\n",
       "MINOR PURCHASING OR RECEIVING TOBACCO PRODUCT             1\n",
       "THEFT, GRAND, BY FIDUCIARY, >$400 IN 12 MONTHS            1\n",
       "PHONE CALLS, OBSCENE                                      1\n",
       "ATTEMPTED ROBBERY CHAIN STORE WITH A KNIFE                1\n",
       "TRUANT, HABITUAL                                          1\n",
       "POSSESSION OF AMPHETAMINE FOR SALES                       1\n",
       "ATTEMPTED KIDNAPPING, JUVENILE VICTIM                     1\n",
       "THREAT TO STATE OFFICIAL OR JUDGE                         1\n",
       "CHECKS, FORGERY (MISDEMEANOR)                             1\n",
       "AGGRAVATED ASSAULT ON POLICE OFFICER WITH A KNIFE         1\n",
       "POSSESSION OF CAUSTIC CHEMICAL                            1\n",
       "MAYHEM WITH A KNIFE                                       1\n",
       "ATTEMPTED ARSON                                           1\n",
       "WEAPON, ASSAULT, REGISTRATION OR TRANSFER VIOLATION       1\n",
       "DESTITUTE MINOR                                           1\n",
       "FIREARMS, SEIZING AT SCENE OF DV                          1\n",
       "FAILURE TO HEED RED LIGHT AND SIREN                       1\n",
       "BURGLARY OF FLAT, ATTEMPTED FORCIBLE ENTRY                1\n",
       "LOITERING ABOUT SCHOOL/PLAYGROUND                         1\n",
       "FIREARM, POSSESSION OF WHILE WEARING MASK                 1\n",
       "OTHER OFFENSES AGAINST PUBLIC JUSTICE                     1\n",
       "TRESPASS WITHIN 30 DAYS OF CREDIBLE THREAT                1\n",
       "FORGERY, DRIVERS LICENSE OR ID-CARD                       1\n",
       "VIOLATION OF RESTRICTIONS ON A FIREARM TRANSFER           1\n",
       "THEFT, BICYCLE, <$50, SERIAL NUMBER KNOWN                 1\n",
       "Name: Descript, Length: 510, dtype: int64"
      ]
     },
     "execution_count": 150,
     "metadata": {},
     "output_type": "execute_result"
    }
   ],
   "source": [
    "# have a look at the value counts for 'Descript', 'PdDistrict', and 'Resolution' to make sure it all checks out\n",
    "sf_crime.Descript.value_counts()"
   ]
  },
  {
   "cell_type": "code",
   "execution_count": 151,
   "metadata": {},
   "outputs": [
    {
     "data": {
      "text/plain": [
       "SOUTHERN      3274\n",
       "NORTHERN      2247\n",
       "CENTRAL       2202\n",
       "MISSION       2117\n",
       "BAYVIEW       1675\n",
       "INGLESIDE     1628\n",
       "TARAVAL       1424\n",
       "TENDERLOIN    1326\n",
       "RICHMOND      1097\n",
       "PARK           972\n",
       "Name: PdDistrict, dtype: int64"
      ]
     },
     "execution_count": 151,
     "metadata": {},
     "output_type": "execute_result"
    }
   ],
   "source": [
    "sf_crime.PdDistrict.value_counts()"
   ]
  },
  {
   "cell_type": "code",
   "execution_count": 152,
   "metadata": {},
   "outputs": [
    {
     "data": {
      "text/plain": [
       "NONE                                      12829\n",
       "ARREST, BOOKED                             4450\n",
       "UNFOUNDED                                   367\n",
       "ARREST, CITED                               100\n",
       "JUVENILE BOOKED                              94\n",
       "EXCEPTIONAL CLEARANCE                        58\n",
       "PSYCHOPATHIC CASE                            28\n",
       "LOCATED                                      25\n",
       "CLEARED-CONTACT JUVENILE FOR MORE INFO       10\n",
       "NOT PROSECUTED                                1\n",
       "Name: Resolution, dtype: int64"
      ]
     },
     "execution_count": 152,
     "metadata": {},
     "output_type": "execute_result"
    }
   ],
   "source": [
    "sf_crime.Resolution.value_counts()"
   ]
  },
  {
   "cell_type": "code",
   "execution_count": 153,
   "metadata": {},
   "outputs": [
    {
     "data": {
      "text/html": [
       "<div>\n",
       "<style scoped>\n",
       "    .dataframe tbody tr th:only-of-type {\n",
       "        vertical-align: middle;\n",
       "    }\n",
       "\n",
       "    .dataframe tbody tr th {\n",
       "        vertical-align: top;\n",
       "    }\n",
       "\n",
       "    .dataframe thead th {\n",
       "        text-align: right;\n",
       "    }\n",
       "</style>\n",
       "<table border=\"1\" class=\"dataframe\">\n",
       "  <thead>\n",
       "    <tr style=\"text-align: right;\">\n",
       "      <th></th>\n",
       "      <th>X</th>\n",
       "      <th>Y</th>\n",
       "      <th>Year</th>\n",
       "      <th>Month</th>\n",
       "      <th>Day_of_Week</th>\n",
       "      <th>Hour</th>\n",
       "    </tr>\n",
       "  </thead>\n",
       "  <tbody>\n",
       "    <tr>\n",
       "      <th>count</th>\n",
       "      <td>17962.000000</td>\n",
       "      <td>17962.000000</td>\n",
       "      <td>17962.0</td>\n",
       "      <td>17962.000000</td>\n",
       "      <td>17962.000000</td>\n",
       "      <td>17962.000000</td>\n",
       "    </tr>\n",
       "    <tr>\n",
       "      <th>mean</th>\n",
       "      <td>-122.423637</td>\n",
       "      <td>37.768447</td>\n",
       "      <td>2015.0</td>\n",
       "      <td>3.489756</td>\n",
       "      <td>3.008629</td>\n",
       "      <td>13.640797</td>\n",
       "    </tr>\n",
       "    <tr>\n",
       "      <th>std</th>\n",
       "      <td>0.026522</td>\n",
       "      <td>0.024400</td>\n",
       "      <td>0.0</td>\n",
       "      <td>0.868845</td>\n",
       "      <td>1.966646</td>\n",
       "      <td>6.540842</td>\n",
       "    </tr>\n",
       "    <tr>\n",
       "      <th>min</th>\n",
       "      <td>-122.513642</td>\n",
       "      <td>37.708154</td>\n",
       "      <td>2015.0</td>\n",
       "      <td>2.000000</td>\n",
       "      <td>0.000000</td>\n",
       "      <td>0.000000</td>\n",
       "    </tr>\n",
       "    <tr>\n",
       "      <th>25%</th>\n",
       "      <td>-122.434156</td>\n",
       "      <td>37.753810</td>\n",
       "      <td>2015.0</td>\n",
       "      <td>3.000000</td>\n",
       "      <td>1.000000</td>\n",
       "      <td>10.000000</td>\n",
       "    </tr>\n",
       "    <tr>\n",
       "      <th>50%</th>\n",
       "      <td>-122.416949</td>\n",
       "      <td>37.775603</td>\n",
       "      <td>2015.0</td>\n",
       "      <td>3.000000</td>\n",
       "      <td>3.000000</td>\n",
       "      <td>15.000000</td>\n",
       "    </tr>\n",
       "    <tr>\n",
       "      <th>75%</th>\n",
       "      <td>-122.406539</td>\n",
       "      <td>37.785390</td>\n",
       "      <td>2015.0</td>\n",
       "      <td>4.000000</td>\n",
       "      <td>5.000000</td>\n",
       "      <td>19.000000</td>\n",
       "    </tr>\n",
       "    <tr>\n",
       "      <th>max</th>\n",
       "      <td>-122.365565</td>\n",
       "      <td>37.819923</td>\n",
       "      <td>2015.0</td>\n",
       "      <td>5.000000</td>\n",
       "      <td>6.000000</td>\n",
       "      <td>23.000000</td>\n",
       "    </tr>\n",
       "  </tbody>\n",
       "</table>\n",
       "</div>"
      ],
      "text/plain": [
       "                  X             Y     Year         Month   Day_of_Week  \\\n",
       "count  17962.000000  17962.000000  17962.0  17962.000000  17962.000000   \n",
       "mean    -122.423637     37.768447   2015.0      3.489756      3.008629   \n",
       "std        0.026522      0.024400      0.0      0.868845      1.966646   \n",
       "min     -122.513642     37.708154   2015.0      2.000000      0.000000   \n",
       "25%     -122.434156     37.753810   2015.0      3.000000      1.000000   \n",
       "50%     -122.416949     37.775603   2015.0      3.000000      3.000000   \n",
       "75%     -122.406539     37.785390   2015.0      4.000000      5.000000   \n",
       "max     -122.365565     37.819923   2015.0      5.000000      6.000000   \n",
       "\n",
       "               Hour  \n",
       "count  17962.000000  \n",
       "mean      13.640797  \n",
       "std        6.540842  \n",
       "min        0.000000  \n",
       "25%       10.000000  \n",
       "50%       15.000000  \n",
       "75%       19.000000  \n",
       "max       23.000000  "
      ]
     },
     "execution_count": 153,
     "metadata": {},
     "output_type": "execute_result"
    }
   ],
   "source": [
    "# use .describe() to see whether the location coordinates seem appropriate\n",
    "sf_crime.describe()"
   ]
  },
  {
   "cell_type": "markdown",
   "metadata": {
    "collapsed": true
   },
   "source": [
    "### 4. Set up a target and predictor matrix for predicting violent crime vs. non-violent crime vs. non-crimes.\n",
    "\n",
    "**Non-Violent Crimes:**\n",
    "- bad checks\n",
    "- bribery\n",
    "- drug/narcotic\n",
    "- drunkenness\n",
    "- embezzlement\n",
    "- forgery/counterfeiting\n",
    "- fraud\n",
    "- gambling\n",
    "- liquor\n",
    "- loitering \n",
    "- trespass\n",
    "\n",
    "**Non-Crimes:**\n",
    "- non-criminal\n",
    "- runaway\n",
    "- secondary codes\n",
    "- suspicious occ\n",
    "- warrants\n",
    "\n",
    "**Violent Crimes:**\n",
    "- everything else\n",
    "\n",
    "\n",
    "\n",
    "**What type of model do you need here? What is your baseline accuracy?**"
   ]
  },
  {
   "cell_type": "code",
   "execution_count": 154,
   "metadata": {},
   "outputs": [
    {
     "data": {
      "text/plain": [
       "['LARCENY/THEFT',\n",
       " 'VEHICLE THEFT',\n",
       " 'VANDALISM',\n",
       " 'ROBBERY',\n",
       " 'ASSAULT',\n",
       " 'WEAPON LAWS',\n",
       " 'BURGLARY',\n",
       " 'STOLEN PROPERTY',\n",
       " 'MISSING PERSON',\n",
       " 'KIDNAPPING',\n",
       " 'DRIVING UNDER THE INFLUENCE',\n",
       " 'SEX OFFENSES FORCIBLE',\n",
       " 'PROSTITUTION',\n",
       " 'DISORDERLY CONDUCT',\n",
       " 'ARSON',\n",
       " 'FAMILY OFFENSES',\n",
       " 'LIQUOR LAWS',\n",
       " 'ASSUALT',\n",
       " 'SUICIDE',\n",
       " 'TRESPASSING',\n",
       " 'SEX OFFENSES NON FORCIBLE',\n",
       " 'EXTORTION']"
      ]
     },
     "execution_count": 154,
     "metadata": {},
     "output_type": "execute_result"
    }
   ],
   "source": [
    "NVC = ['BAD CHECKS','BRIBERY','DRUG/NARCOTIC','DRUNKENNESS',\n",
    "     'EMBEZZLEMENT','FORGERY/COUNTERFEITING','FRAUD',\n",
    "     'GAMBLING','LIQUOR','LOITERING','TRESPASS','OTHER OFFENSES']\n",
    "\n",
    "NOT_C = ['NON-CRIMINAL','RUNAWAY','SECONDARY CODES','SUSPICIOUS OCC','WARRANTS']\n",
    "\n",
    "#use a list comprehension to get all the categories in sf_crime['Category'].unique() that are NOT in the lists above\n",
    "\n",
    "VC = [i for i in sf_crime.Category.unique() if (i not in NVC) and (i not in NOT_C)]\n",
    "VC"
   ]
  },
  {
   "cell_type": "code",
   "execution_count": 155,
   "metadata": {},
   "outputs": [],
   "source": [
    "#add a column called 'Type' into your dataframe that stores whether the observation was:\n",
    "#Non-Violent, Violent, or Non-Crime\n",
    "#use .map()!\n",
    "def typecrime(x):\n",
    "    if x in NOT_C: return 'NOT_CRIMINAL'\n",
    "    if x in NVC: return 'NON-VIOLENT'\n",
    "    if x in VC: return 'VIOLENT_CRIME'\n",
    "\n",
    "sf_crime['Type']=sf_crime.Category.map(typecrime)"
   ]
  },
  {
   "cell_type": "code",
   "execution_count": 156,
   "metadata": {},
   "outputs": [
    {
     "data": {
      "text/plain": [
       "0.592640017815388"
      ]
     },
     "execution_count": 156,
     "metadata": {},
     "output_type": "execute_result"
    }
   ],
   "source": [
    "#find the baseline accuracy:\n",
    "baseline=(sf_crime.Type.value_counts()/len(sf_crime))[0]\n",
    "baseline"
   ]
  },
  {
   "cell_type": "code",
   "execution_count": 157,
   "metadata": {},
   "outputs": [],
   "source": [
    "#create a target array with 'Type'\n",
    "#create a predictor matrix with 'Day_of_Week','Month','Year','PdDistrict','Hour', and 'Resolution'\n",
    "y = sf_crime.Type\n",
    "X = sf_crime[['Day_of_Week','Month','Year','PdDistrict','Hour','Resolution']]"
   ]
  },
  {
   "cell_type": "code",
   "execution_count": 158,
   "metadata": {},
   "outputs": [],
   "source": [
    "#use pd.get_dummies() to dummify your categorical variables\n",
    "#remember to drop a column!\n",
    "X = pd.get_dummies(X,drop_first=True)"
   ]
  },
  {
   "cell_type": "markdown",
   "metadata": {},
   "source": [
    "### 5. Create a train/test/split and standardize the predictor matrices"
   ]
  },
  {
   "cell_type": "code",
   "execution_count": 166,
   "metadata": {},
   "outputs": [
    {
     "data": {
      "text/plain": [
       "(8981, 22)"
      ]
     },
     "execution_count": 166,
     "metadata": {},
     "output_type": "execute_result"
    }
   ],
   "source": [
    "#create a 50/50 train test split; \n",
    "#stratify based on your target variable\n",
    "#use a random state of 2018\n",
    "from sklearn.model_selection import train_test_split\n",
    "X_train,X_test,y_train,y_test=train_test_split(X,y,test_size=0.5,random_state=2018,shuffle=True,stratify=y)\n",
    "X_train.shape"
   ]
  },
  {
   "cell_type": "code",
   "execution_count": 167,
   "metadata": {},
   "outputs": [],
   "source": [
    "#standardise your predictor matrices\n",
    "from sklearn.preprocessing import StandardScaler\n",
    "ss=StandardScaler()\n",
    "X_train=ss.fit_transform(X_train)\n",
    "X_test=ss.transform(X_test)"
   ]
  },
  {
   "cell_type": "markdown",
   "metadata": {},
   "source": [
    "### 6. Create a basic Logistic Regression model and use cross_val_score to assess its performance on your training data"
   ]
  },
  {
   "cell_type": "code",
   "execution_count": 171,
   "metadata": {},
   "outputs": [
    {
     "data": {
      "text/plain": [
       "0.6343363978652132"
      ]
     },
     "execution_count": 171,
     "metadata": {},
     "output_type": "execute_result"
    }
   ],
   "source": [
    "#create a default Logistic Regression model and find its mean cross-validated accuracy with your training data\n",
    "#use 5 cross-validation folds\n",
    "from sklearn.model_selection import cross_val_score\n",
    "from sklearn.linear_model import LogisticRegression\n",
    "lm=LogisticRegression()\n",
    "cross_val_score(lm,X_train,y_train,cv=5).mean()"
   ]
  },
  {
   "cell_type": "code",
   "execution_count": 177,
   "metadata": {},
   "outputs": [
    {
     "data": {
      "text/html": [
       "<div>\n",
       "<style scoped>\n",
       "    .dataframe tbody tr th:only-of-type {\n",
       "        vertical-align: middle;\n",
       "    }\n",
       "\n",
       "    .dataframe tbody tr th {\n",
       "        vertical-align: top;\n",
       "    }\n",
       "\n",
       "    .dataframe thead th {\n",
       "        text-align: right;\n",
       "    }\n",
       "</style>\n",
       "<table border=\"1\" class=\"dataframe\">\n",
       "  <thead>\n",
       "    <tr style=\"text-align: right;\">\n",
       "      <th></th>\n",
       "      <th>NON-VIOLENT</th>\n",
       "      <th>NOT_CRIMINAL</th>\n",
       "      <th>VIOLENT_CRIME</th>\n",
       "    </tr>\n",
       "  </thead>\n",
       "  <tbody>\n",
       "    <tr>\n",
       "      <th>NON-VIOLENT</th>\n",
       "      <td>813</td>\n",
       "      <td>35</td>\n",
       "      <td>886</td>\n",
       "    </tr>\n",
       "    <tr>\n",
       "      <th>NOT_CRIMINAL</th>\n",
       "      <td>360</td>\n",
       "      <td>137</td>\n",
       "      <td>1428</td>\n",
       "    </tr>\n",
       "    <tr>\n",
       "      <th>VIOLENT_CRIME</th>\n",
       "      <td>595</td>\n",
       "      <td>46</td>\n",
       "      <td>4681</td>\n",
       "    </tr>\n",
       "  </tbody>\n",
       "</table>\n",
       "</div>"
      ],
      "text/plain": [
       "               NON-VIOLENT  NOT_CRIMINAL  VIOLENT_CRIME\n",
       "NON-VIOLENT            813            35            886\n",
       "NOT_CRIMINAL           360           137           1428\n",
       "VIOLENT_CRIME          595            46           4681"
      ]
     },
     "execution_count": 177,
     "metadata": {},
     "output_type": "execute_result"
    }
   ],
   "source": [
    "#create a confusion matrix with cross_val_predict\n",
    "predictions = cross_val_predict(lm,X_test,y_test)\n",
    "confusion = confusion_matrix(y_test,predictions)\n",
    "pd.DataFrame(confusion,\n",
    "             columns=sorted(y_train.unique()),\n",
    "             index=sorted(y_train.unique()))"
   ]
  },
  {
   "cell_type": "markdown",
   "metadata": {},
   "source": [
    "### 7. Find the optimal hyperparameters (optimal regularization) to predict your crime categories using GridSearchCV.\n",
    "\n",
    "> **Note:** Gridsearching can be done with `GridSearchCV` or `LogisticRegressionCV`. They operate differently - the gridsearch object is more general and can be applied to any model. The `LogisticRegressionCV` is specific to tuning the logistic regression hyperparameters. I recommend the logistic regression one, but the downside is that lasso and ridge must be searched separately. To start with, use `GridSearchCV`.\n",
    "\n",
    "**Reference for logistic regression regularization hyperparameters:**\n",
    "- `solver`: algorithm used for optimization (relevant for multiclass)\n",
    "    - Newton-cg - Handles Multinomial Loss, L2 only\n",
    "    - Sag - Handles Multinomial Loss, Large Datasets, L2 Only, Works best on scaled data\n",
    "    - lbfgs - Handles Multinomial Loss, L2 Only\n",
    "    - liblinear - Small Datasets, no Warm Starts\n",
    "- `C`: Regularization strengths (smaller values are stronger penalties)\n",
    "- `penalty`: `'l1'` - Lasso, `'l2'` - Ridge "
   ]
  },
  {
   "cell_type": "code",
   "execution_count": 199,
   "metadata": {},
   "outputs": [],
   "source": [
    "#create a hyperparameter dictionary for a logistic regression\n",
    "LogisticRegression()\n",
    "params={\n",
    "    'C': np.logspace(-3,3,10),\n",
    "    'penalty': ['l1','l2'],\n",
    "    'fit_intercept': [True]\n",
    "}"
   ]
  },
  {
   "cell_type": "code",
   "execution_count": 200,
   "metadata": {},
   "outputs": [],
   "source": [
    "#create a gridsearch object using LogisticRegression() and the dictionary you created above\n",
    "grid=GridSearchCV(lm,params,scoring='accuracy',cv=5)"
   ]
  },
  {
   "cell_type": "code",
   "execution_count": 201,
   "metadata": {},
   "outputs": [
    {
     "data": {
      "text/plain": [
       "GridSearchCV(cv=5, error_score='raise',\n",
       "       estimator=LogisticRegression(C=1.0, class_weight=None, dual=False, fit_intercept=True,\n",
       "          intercept_scaling=1, max_iter=100, multi_class='ovr', n_jobs=1,\n",
       "          penalty='l2', random_state=None, solver='liblinear', tol=0.0001,\n",
       "          verbose=0, warm_start=False),\n",
       "       fit_params=None, iid=True, n_jobs=1,\n",
       "       param_grid={'C': array([1.00000e-03, 4.64159e-03, 2.15443e-02, 1.00000e-01, 4.64159e-01,\n",
       "       2.15443e+00, 1.00000e+01, 4.64159e+01, 2.15443e+02, 1.00000e+03]), 'penalty': ['l1', 'l2'], 'fit_intercept': [True]},\n",
       "       pre_dispatch='2*n_jobs', refit=True, return_train_score='warn',\n",
       "       scoring='accuracy', verbose=0)"
      ]
     },
     "execution_count": 201,
     "metadata": {},
     "output_type": "execute_result"
    }
   ],
   "source": [
    "#fit the gridsearch object on your training data\n",
    "grid.fit(X_train,y_train)"
   ]
  },
  {
   "cell_type": "code",
   "execution_count": 202,
   "metadata": {},
   "outputs": [
    {
     "data": {
      "text/plain": [
       "{'C': 0.021544346900318832, 'fit_intercept': True, 'penalty': 'l1'}"
      ]
     },
     "execution_count": 202,
     "metadata": {},
     "output_type": "execute_result"
    }
   ],
   "source": [
    "#print out the best parameters\n",
    "grid.best_params_"
   ]
  },
  {
   "cell_type": "code",
   "execution_count": 203,
   "metadata": {},
   "outputs": [
    {
     "data": {
      "text/plain": [
       "0.6358980069034629"
      ]
     },
     "execution_count": 203,
     "metadata": {},
     "output_type": "execute_result"
    }
   ],
   "source": [
    "#print out the best mean cross-validated score\n",
    "grid.best_score_"
   ]
  },
  {
   "cell_type": "code",
   "execution_count": 204,
   "metadata": {},
   "outputs": [],
   "source": [
    "#assign your best estimator to the variable 'best_logreg'\n",
    "best_logreg=grid.best_estimator_"
   ]
  },
  {
   "cell_type": "code",
   "execution_count": 205,
   "metadata": {},
   "outputs": [
    {
     "data": {
      "text/plain": [
       "0.6285491593363768"
      ]
     },
     "execution_count": 205,
     "metadata": {},
     "output_type": "execute_result"
    }
   ],
   "source": [
    "#score your model on your testing data\n",
    "best_logreg.score(X_test,y_test)"
   ]
  },
  {
   "cell_type": "markdown",
   "metadata": {},
   "source": [
    "### 8. Print out a classification report for your best_logreg model"
   ]
  },
  {
   "cell_type": "code",
   "execution_count": 206,
   "metadata": {},
   "outputs": [
    {
     "name": "stdout",
     "output_type": "stream",
     "text": [
      "               precision    recall  f1-score   support\n",
      "\n",
      "  NON-VIOLENT       0.45      0.54      0.49      1734\n",
      " NOT_CRIMINAL       0.64      0.07      0.13      1925\n",
      "VIOLENT_CRIME       0.68      0.86      0.76      5322\n",
      "\n",
      "  avg / total       0.63      0.63      0.57      8981\n",
      "\n"
     ]
    }
   ],
   "source": [
    "#use your test data to create your classification report\n",
    "predictions = best_logreg.predict(X_test)\n",
    "print(classification_report(y_test,predictions))"
   ]
  },
  {
   "cell_type": "markdown",
   "metadata": {},
   "source": [
    "### 9. Explore LogisticRegressionCV.  \n",
    "\n",
    "With LogisticRegressionCV, you can access the best regularization strength for predicting each class! Read the documentation and see if you can implement a model with LogisticRegressionCV."
   ]
  },
  {
   "cell_type": "code",
   "execution_count": 208,
   "metadata": {},
   "outputs": [
    {
     "data": {
      "text/plain": [
       "LogisticRegressionCV(Cs=11, class_weight=None, cv=None, dual=False,\n",
       "           fit_intercept=True, intercept_scaling=1.0, max_iter=100,\n",
       "           multi_class='ovr', n_jobs=1, penalty='l2', random_state=None,\n",
       "           refit=True, scoring=None, solver='lbfgs', tol=0.0001, verbose=0)"
      ]
     },
     "execution_count": 208,
     "metadata": {},
     "output_type": "execute_result"
    }
   ],
   "source": [
    "# A:\n",
    "lmcv=LogisticRegressionCV(Cs=11)\n",
    "lmcv.fit(X_train,y_test)"
   ]
  },
  {
   "cell_type": "code",
   "execution_count": 216,
   "metadata": {},
   "outputs": [
    {
     "data": {
      "text/plain": [
       "{'NON-VIOLENT': array([[0.80694723, 0.80694723, 0.80694723, 0.80694723, 0.80694723,\n",
       "         0.80694723, 0.80694723, 0.80694723, 0.80694723, 0.80694723,\n",
       "         0.80694723],\n",
       "        [0.80694723, 0.80694723, 0.80694723, 0.80694723, 0.80694723,\n",
       "         0.80694723, 0.80694723, 0.80694723, 0.80694723, 0.80694723,\n",
       "         0.80694723],\n",
       "        [0.80688273, 0.80688273, 0.80688273, 0.80688273, 0.80688273,\n",
       "         0.80688273, 0.80688273, 0.80688273, 0.80688273, 0.80688273,\n",
       "         0.80688273]]),\n",
       " 'NOT_CRIMINAL': array([[0.78557114, 0.78557114, 0.78557114, 0.78557114, 0.78557114,\n",
       "         0.78557114, 0.78557114, 0.78557114, 0.78557114, 0.78557114,\n",
       "         0.78557114],\n",
       "        [0.78557114, 0.78557114, 0.78557114, 0.78557114, 0.78557114,\n",
       "         0.78557114, 0.78557114, 0.78557114, 0.78557114, 0.78557114,\n",
       "         0.78557114],\n",
       "        [0.78583361, 0.78583361, 0.78583361, 0.78583361, 0.78583361,\n",
       "         0.78583361, 0.78583361, 0.78583361, 0.78583361, 0.78583361,\n",
       "         0.78583361]]),\n",
       " 'VIOLENT_CRIME': array([[0.59251837, 0.59151637, 0.59151637, 0.59151637, 0.59151637,\n",
       "         0.59151637, 0.59151637, 0.59151637, 0.59151637, 0.59151637,\n",
       "         0.59151637],\n",
       "        [0.59251837, 0.59251837, 0.59352037, 0.59352037, 0.59352037,\n",
       "         0.59352037, 0.59352037, 0.59352037, 0.59352037, 0.59352037,\n",
       "         0.59352037],\n",
       "        [0.59271634, 0.59271634, 0.59505513, 0.59505513, 0.59505513,\n",
       "         0.59505513, 0.59505513, 0.59505513, 0.59505513, 0.59505513,\n",
       "         0.59505513]])}"
      ]
     },
     "execution_count": 216,
     "metadata": {},
     "output_type": "execute_result"
    }
   ],
   "source": [
    "lmcv.scores_"
   ]
  },
  {
   "cell_type": "code",
   "execution_count": null,
   "metadata": {},
   "outputs": [],
   "source": []
  }
 ],
 "metadata": {
  "anaconda-cloud": {},
  "kernelspec": {
   "display_name": "Python 3",
   "language": "python",
   "name": "python3"
  },
  "language_info": {
   "codemirror_mode": {
    "name": "ipython",
    "version": 3
   },
   "file_extension": ".py",
   "mimetype": "text/x-python",
   "name": "python",
   "nbconvert_exporter": "python",
   "pygments_lexer": "ipython3",
   "version": "3.7.0"
  },
  "toc": {
   "nav_menu": {},
   "number_sections": false,
   "sideBar": true,
   "skip_h1_title": false,
   "title_cell": "Table of Contents",
   "title_sidebar": "Contents",
   "toc_cell": false,
   "toc_position": {},
   "toc_section_display": "block",
   "toc_window_display": false
  },
  "varInspector": {
   "cols": {
    "lenName": 16,
    "lenType": 16,
    "lenVar": 40
   },
   "kernels_config": {
    "python": {
     "delete_cmd_postfix": "",
     "delete_cmd_prefix": "del ",
     "library": "var_list.py",
     "varRefreshCmd": "print(var_dic_list())"
    },
    "r": {
     "delete_cmd_postfix": ") ",
     "delete_cmd_prefix": "rm(",
     "library": "var_list.r",
     "varRefreshCmd": "cat(var_dic_list()) "
    }
   },
   "types_to_exclude": [
    "module",
    "function",
    "builtin_function_or_method",
    "instance",
    "_Feature"
   ],
   "window_display": false
  }
 },
 "nbformat": 4,
 "nbformat_minor": 1
}
