{
 "cells": [
  {
   "cell_type": "markdown",
   "metadata": {},
   "source": [
    "<img src=\"http://imgur.com/1ZcRyrc.png\" style=\"float: left; margin: 20px; height: 55px\">\n",
    "\n",
    "# Sentiment Analysis and Naive Bayes\n",
    "\n",
    "_Instructor: Aymeric Flaisler_\n",
    "\n",
    "---\n",
    "\n",
    "In the sentiment analysis lesson we used a predefined dictionary of positive and negative valences for words. This  lab has invert the process: you'll find which words are most likely to appear in positive or negative reviews by using the rotten vs. fresh binary label.\n",
    "\n",
    "### Naive Bayes\n",
    "\n",
    "A practical and common way to do this is with the Naive Bayes algorithm. For this lab you'll  be leveraging the sklearn implementation.\n",
    "\n",
    "Given a feature $x_i$ and target $y_i$, Naive Bayes classifiers solve for $P(x_i \\;|\\; y_i)$. In other words, the probability of a feature/predictor _given_ that the target is 1.\n",
    "\n",
    "We'll use this to figure out which words are more likely to appear when the target is 1 (\"fresh\") vs when the target is 0 (\"rotten\")."
   ]
  },
  {
   "cell_type": "markdown",
   "metadata": {},
   "source": [
    "---\n",
    "\n",
    "### 1. Load packages and movie data\n",
    "\n",
    "Do any cleaning you deem necessary."
   ]
  },
  {
   "cell_type": "code",
   "execution_count": 99,
   "metadata": {},
   "outputs": [],
   "source": [
    "import pandas as pd\n",
    "import numpy as np\n",
    "\n",
    "# We are using the BernoulliNB version of Naive Bayes, which assumes predictors are binary encoded.\n",
    "from sklearn.naive_bayes import BernoulliNB,MultinomialNB\n",
    "from sklearn.model_selection import cross_val_score, train_test_split\n",
    "\n",
    "from sklearn.feature_extraction.text import CountVectorizer"
   ]
  },
  {
   "cell_type": "code",
   "execution_count": 100,
   "metadata": {},
   "outputs": [],
   "source": [
    "rt = pd.read_csv('./datasets/rt_critics.csv')"
   ]
  },
  {
   "cell_type": "code",
   "execution_count": 101,
   "metadata": {},
   "outputs": [],
   "source": [
    "rt = rt[rt.fresh.isin(['fresh','rotten'])]\n",
    "rt.fresh = rt.fresh.map(lambda x: 1 if x == 'fresh' else 0)"
   ]
  },
  {
   "cell_type": "code",
   "execution_count": 102,
   "metadata": {},
   "outputs": [
    {
     "data": {
      "text/html": [
       "<div>\n",
       "<style scoped>\n",
       "    .dataframe tbody tr th:only-of-type {\n",
       "        vertical-align: middle;\n",
       "    }\n",
       "\n",
       "    .dataframe tbody tr th {\n",
       "        vertical-align: top;\n",
       "    }\n",
       "\n",
       "    .dataframe thead th {\n",
       "        text-align: right;\n",
       "    }\n",
       "</style>\n",
       "<table border=\"1\" class=\"dataframe\">\n",
       "  <thead>\n",
       "    <tr style=\"text-align: right;\">\n",
       "      <th></th>\n",
       "      <th>critic</th>\n",
       "      <th>fresh</th>\n",
       "      <th>imdb</th>\n",
       "      <th>publication</th>\n",
       "      <th>quote</th>\n",
       "      <th>review_date</th>\n",
       "      <th>rtid</th>\n",
       "      <th>title</th>\n",
       "    </tr>\n",
       "  </thead>\n",
       "  <tbody>\n",
       "    <tr>\n",
       "      <th>0</th>\n",
       "      <td>Derek Adams</td>\n",
       "      <td>1</td>\n",
       "      <td>114709.0</td>\n",
       "      <td>Time Out</td>\n",
       "      <td>So ingenious in concept, design and execution ...</td>\n",
       "      <td>2009-10-04</td>\n",
       "      <td>9559.0</td>\n",
       "      <td>Toy story</td>\n",
       "    </tr>\n",
       "    <tr>\n",
       "      <th>1</th>\n",
       "      <td>Richard Corliss</td>\n",
       "      <td>1</td>\n",
       "      <td>114709.0</td>\n",
       "      <td>TIME Magazine</td>\n",
       "      <td>The year's most inventive comedy.</td>\n",
       "      <td>2008-08-31</td>\n",
       "      <td>9559.0</td>\n",
       "      <td>Toy story</td>\n",
       "    </tr>\n",
       "  </tbody>\n",
       "</table>\n",
       "</div>"
      ],
      "text/plain": [
       "            critic  fresh      imdb    publication  \\\n",
       "0      Derek Adams      1  114709.0       Time Out   \n",
       "1  Richard Corliss      1  114709.0  TIME Magazine   \n",
       "\n",
       "                                               quote review_date    rtid  \\\n",
       "0  So ingenious in concept, design and execution ...  2009-10-04  9559.0   \n",
       "1                  The year's most inventive comedy.  2008-08-31  9559.0   \n",
       "\n",
       "       title  \n",
       "0  Toy story  \n",
       "1  Toy story  "
      ]
     },
     "execution_count": 102,
     "metadata": {},
     "output_type": "execute_result"
    }
   ],
   "source": [
    "rt.head(2)"
   ]
  },
  {
   "cell_type": "markdown",
   "metadata": {},
   "source": [
    "---\n",
    "\n",
    "### 2. We need to create a predictor matrix of words from the quotes with CountVectorizer\n",
    "\n",
    "It is up to you what ngram range you want to select. **Make sure that `binary=True`**"
   ]
  },
  {
   "cell_type": "code",
   "execution_count": 103,
   "metadata": {},
   "outputs": [],
   "source": [
    "cv = CountVectorizer(ngram_range=(1,2), max_features=2500, binary=True, stop_words='english')\n",
    "words = cv.fit_transform(rt.quote)"
   ]
  },
  {
   "cell_type": "code",
   "execution_count": 104,
   "metadata": {},
   "outputs": [
    {
     "data": {
      "text/plain": [
       "(14049, 2500)"
      ]
     },
     "execution_count": 104,
     "metadata": {},
     "output_type": "execute_result"
    }
   ],
   "source": [
    "words.shape"
   ]
  },
  {
   "cell_type": "code",
   "execution_count": 105,
   "metadata": {},
   "outputs": [],
   "source": [
    "words = pd.DataFrame(words.todense(), columns=cv.get_feature_names())"
   ]
  },
  {
   "cell_type": "code",
   "execution_count": 106,
   "metadata": {
    "scrolled": true
   },
   "outputs": [
    {
     "data": {
      "text/html": [
       "<div>\n",
       "<style scoped>\n",
       "    .dataframe tbody tr th:only-of-type {\n",
       "        vertical-align: middle;\n",
       "    }\n",
       "\n",
       "    .dataframe tbody tr th {\n",
       "        vertical-align: top;\n",
       "    }\n",
       "\n",
       "    .dataframe thead th {\n",
       "        text-align: right;\n",
       "    }\n",
       "</style>\n",
       "<table border=\"1\" class=\"dataframe\">\n",
       "  <thead>\n",
       "    <tr style=\"text-align: right;\">\n",
       "      <th></th>\n",
       "      <th>10</th>\n",
       "      <th>100</th>\n",
       "      <th>13</th>\n",
       "      <th>1961</th>\n",
       "      <th>1998</th>\n",
       "      <th>20</th>\n",
       "      <th>2001</th>\n",
       "      <th>30</th>\n",
       "      <th>40</th>\n",
       "      <th>50s</th>\n",
       "      <th>...</th>\n",
       "      <th>year</th>\n",
       "      <th>year old</th>\n",
       "      <th>years</th>\n",
       "      <th>years ago</th>\n",
       "      <th>yes</th>\n",
       "      <th>york</th>\n",
       "      <th>young</th>\n",
       "      <th>younger</th>\n",
       "      <th>youth</th>\n",
       "      <th>zone</th>\n",
       "    </tr>\n",
       "  </thead>\n",
       "  <tbody>\n",
       "    <tr>\n",
       "      <th>0</th>\n",
       "      <td>0</td>\n",
       "      <td>0</td>\n",
       "      <td>0</td>\n",
       "      <td>0</td>\n",
       "      <td>0</td>\n",
       "      <td>0</td>\n",
       "      <td>0</td>\n",
       "      <td>0</td>\n",
       "      <td>0</td>\n",
       "      <td>0</td>\n",
       "      <td>...</td>\n",
       "      <td>0</td>\n",
       "      <td>0</td>\n",
       "      <td>0</td>\n",
       "      <td>0</td>\n",
       "      <td>0</td>\n",
       "      <td>0</td>\n",
       "      <td>0</td>\n",
       "      <td>0</td>\n",
       "      <td>0</td>\n",
       "      <td>0</td>\n",
       "    </tr>\n",
       "    <tr>\n",
       "      <th>1</th>\n",
       "      <td>0</td>\n",
       "      <td>0</td>\n",
       "      <td>0</td>\n",
       "      <td>0</td>\n",
       "      <td>0</td>\n",
       "      <td>0</td>\n",
       "      <td>0</td>\n",
       "      <td>0</td>\n",
       "      <td>0</td>\n",
       "      <td>0</td>\n",
       "      <td>...</td>\n",
       "      <td>1</td>\n",
       "      <td>0</td>\n",
       "      <td>0</td>\n",
       "      <td>0</td>\n",
       "      <td>0</td>\n",
       "      <td>0</td>\n",
       "      <td>0</td>\n",
       "      <td>0</td>\n",
       "      <td>0</td>\n",
       "      <td>0</td>\n",
       "    </tr>\n",
       "    <tr>\n",
       "      <th>2</th>\n",
       "      <td>0</td>\n",
       "      <td>0</td>\n",
       "      <td>0</td>\n",
       "      <td>0</td>\n",
       "      <td>0</td>\n",
       "      <td>0</td>\n",
       "      <td>0</td>\n",
       "      <td>0</td>\n",
       "      <td>0</td>\n",
       "      <td>0</td>\n",
       "      <td>...</td>\n",
       "      <td>0</td>\n",
       "      <td>0</td>\n",
       "      <td>0</td>\n",
       "      <td>0</td>\n",
       "      <td>0</td>\n",
       "      <td>0</td>\n",
       "      <td>0</td>\n",
       "      <td>0</td>\n",
       "      <td>0</td>\n",
       "      <td>0</td>\n",
       "    </tr>\n",
       "    <tr>\n",
       "      <th>3</th>\n",
       "      <td>0</td>\n",
       "      <td>0</td>\n",
       "      <td>0</td>\n",
       "      <td>0</td>\n",
       "      <td>0</td>\n",
       "      <td>0</td>\n",
       "      <td>0</td>\n",
       "      <td>0</td>\n",
       "      <td>0</td>\n",
       "      <td>0</td>\n",
       "      <td>...</td>\n",
       "      <td>0</td>\n",
       "      <td>0</td>\n",
       "      <td>0</td>\n",
       "      <td>0</td>\n",
       "      <td>0</td>\n",
       "      <td>0</td>\n",
       "      <td>0</td>\n",
       "      <td>0</td>\n",
       "      <td>0</td>\n",
       "      <td>0</td>\n",
       "    </tr>\n",
       "    <tr>\n",
       "      <th>4</th>\n",
       "      <td>0</td>\n",
       "      <td>0</td>\n",
       "      <td>0</td>\n",
       "      <td>0</td>\n",
       "      <td>0</td>\n",
       "      <td>0</td>\n",
       "      <td>0</td>\n",
       "      <td>0</td>\n",
       "      <td>0</td>\n",
       "      <td>0</td>\n",
       "      <td>...</td>\n",
       "      <td>0</td>\n",
       "      <td>0</td>\n",
       "      <td>0</td>\n",
       "      <td>0</td>\n",
       "      <td>0</td>\n",
       "      <td>0</td>\n",
       "      <td>0</td>\n",
       "      <td>0</td>\n",
       "      <td>0</td>\n",
       "      <td>0</td>\n",
       "    </tr>\n",
       "  </tbody>\n",
       "</table>\n",
       "<p>5 rows × 2500 columns</p>\n",
       "</div>"
      ],
      "text/plain": [
       "   10  100  13  1961  1998  20  2001  30  40  50s  ...   year  year old  \\\n",
       "0   0    0   0     0     0   0     0   0   0    0  ...      0         0   \n",
       "1   0    0   0     0     0   0     0   0   0    0  ...      1         0   \n",
       "2   0    0   0     0     0   0     0   0   0    0  ...      0         0   \n",
       "3   0    0   0     0     0   0     0   0   0    0  ...      0         0   \n",
       "4   0    0   0     0     0   0     0   0   0    0  ...      0         0   \n",
       "\n",
       "   years  years ago  yes  york  young  younger  youth  zone  \n",
       "0      0          0    0     0      0        0      0     0  \n",
       "1      0          0    0     0      0        0      0     0  \n",
       "2      0          0    0     0      0        0      0     0  \n",
       "3      0          0    0     0      0        0      0     0  \n",
       "4      0          0    0     0      0        0      0     0  \n",
       "\n",
       "[5 rows x 2500 columns]"
      ]
     },
     "execution_count": 106,
     "metadata": {},
     "output_type": "execute_result"
    }
   ],
   "source": [
    "words.head()"
   ]
  },
  {
   "cell_type": "code",
   "execution_count": 107,
   "metadata": {},
   "outputs": [
    {
     "name": "stdout",
     "output_type": "stream",
     "text": [
      "(14049, 2500)\n"
     ]
    }
   ],
   "source": [
    "print(words.shape)"
   ]
  },
  {
   "cell_type": "markdown",
   "metadata": {},
   "source": [
    "---\n",
    "\n",
    "### 3. Let's split data into training and testing splits\n",
    "\n",
    "You should keep 25% of the data in the test set."
   ]
  },
  {
   "cell_type": "code",
   "execution_count": 108,
   "metadata": {},
   "outputs": [
    {
     "name": "stdout",
     "output_type": "stream",
     "text": [
      "(10536, 2500) (3513, 2500)\n"
     ]
    }
   ],
   "source": [
    "Xtrain, Xtest, ytrain, ytest = train_test_split(words.values, rt.fresh.values, test_size=0.25)\n",
    "print(Xtrain.shape, Xtest.shape)"
   ]
  },
  {
   "cell_type": "markdown",
   "metadata": {},
   "source": [
    "---\n",
    "\n",
    "### 4. Build a `BernoulliNB` model predicting fresh vs. rotten from the word appearances\n",
    "\n",
    "The model should only be built (and cross-validated) on the training data.\n",
    "\n",
    "Cross-validate the score and compare it to baseline."
   ]
  },
  {
   "cell_type": "code",
   "execution_count": 109,
   "metadata": {},
   "outputs": [
    {
     "name": "stdout",
     "output_type": "stream",
     "text": [
      "cross-validation: 0.734336340914456\n",
      "baseline        : 0.6105732725892179\n"
     ]
    }
   ],
   "source": [
    "# A:\n",
    "bernd=BernoulliNB()\n",
    "print('cross-validation:',cross_val_score(bernd,Xtrain,ytrain,cv=5).mean())\n",
    "print('baseline        :',ytrain.mean())"
   ]
  },
  {
   "cell_type": "markdown",
   "metadata": {},
   "source": [
    "---\n",
    "\n",
    "### 5. Pull out the probability of words given \"fresh\"\n",
    "\n",
    "The `.feature_log_prob_` attribute of the naive bayes model contains the log probabilities of a feature appearing given a target class.\n",
    "\n",
    "The rows correspond to the class of the target, and the columns correspond to the features. The first row is the 0 \"rotten\" class, and the second is the 1 \"fresh\" class.\n",
    "\n",
    "#### 5.1 Pull out the log probabilities and convert them to probabilities (for fresh and for rotten)."
   ]
  },
  {
   "cell_type": "code",
   "execution_count": 110,
   "metadata": {},
   "outputs": [
    {
     "data": {
      "text/plain": [
       "array([[0.00365408, 0.00097442, 0.00048721, ..., 0.00121803, 0.00073082,\n",
       "        0.00146163],\n",
       "       [0.0020202 , 0.0013986 , 0.0010878 , ..., 0.0009324 , 0.0010878 ,\n",
       "        0.0004662 ]])"
      ]
     },
     "execution_count": 110,
     "metadata": {},
     "output_type": "execute_result"
    }
   ],
   "source": [
    "# A:\n",
    "bernd.fit(Xtrain,ytrain)\n",
    "np.exp(bernd.feature_log_prob_)"
   ]
  },
  {
   "cell_type": "markdown",
   "metadata": {},
   "source": [
    "#### 5.2 Make a dataframe with the probabilities and features"
   ]
  },
  {
   "cell_type": "code",
   "execution_count": 111,
   "metadata": {},
   "outputs": [
    {
     "data": {
      "text/html": [
       "<div>\n",
       "<style scoped>\n",
       "    .dataframe tbody tr th:only-of-type {\n",
       "        vertical-align: middle;\n",
       "    }\n",
       "\n",
       "    .dataframe tbody tr th {\n",
       "        vertical-align: top;\n",
       "    }\n",
       "\n",
       "    .dataframe thead th {\n",
       "        text-align: right;\n",
       "    }\n",
       "</style>\n",
       "<table border=\"1\" class=\"dataframe\">\n",
       "  <thead>\n",
       "    <tr style=\"text-align: right;\">\n",
       "      <th></th>\n",
       "      <th>10</th>\n",
       "      <th>100</th>\n",
       "      <th>13</th>\n",
       "      <th>1961</th>\n",
       "      <th>1998</th>\n",
       "      <th>20</th>\n",
       "      <th>2001</th>\n",
       "      <th>30</th>\n",
       "      <th>40</th>\n",
       "      <th>50s</th>\n",
       "      <th>...</th>\n",
       "      <th>year</th>\n",
       "      <th>year old</th>\n",
       "      <th>years</th>\n",
       "      <th>years ago</th>\n",
       "      <th>yes</th>\n",
       "      <th>york</th>\n",
       "      <th>young</th>\n",
       "      <th>younger</th>\n",
       "      <th>youth</th>\n",
       "      <th>zone</th>\n",
       "    </tr>\n",
       "  </thead>\n",
       "  <tbody>\n",
       "    <tr>\n",
       "      <th>0</th>\n",
       "      <td>0.003654</td>\n",
       "      <td>0.000974</td>\n",
       "      <td>0.000487</td>\n",
       "      <td>0.000244</td>\n",
       "      <td>0.000731</td>\n",
       "      <td>0.001462</td>\n",
       "      <td>0.000244</td>\n",
       "      <td>0.000974</td>\n",
       "      <td>0.001705</td>\n",
       "      <td>0.001705</td>\n",
       "      <td>...</td>\n",
       "      <td>0.008283</td>\n",
       "      <td>0.001462</td>\n",
       "      <td>0.004141</td>\n",
       "      <td>0.000974</td>\n",
       "      <td>0.001218</td>\n",
       "      <td>0.002680</td>\n",
       "      <td>0.005847</td>\n",
       "      <td>0.001218</td>\n",
       "      <td>0.000731</td>\n",
       "      <td>0.001462</td>\n",
       "    </tr>\n",
       "    <tr>\n",
       "      <th>1</th>\n",
       "      <td>0.002020</td>\n",
       "      <td>0.001399</td>\n",
       "      <td>0.001088</td>\n",
       "      <td>0.001399</td>\n",
       "      <td>0.001088</td>\n",
       "      <td>0.002331</td>\n",
       "      <td>0.001088</td>\n",
       "      <td>0.001709</td>\n",
       "      <td>0.000777</td>\n",
       "      <td>0.001554</td>\n",
       "      <td>...</td>\n",
       "      <td>0.014763</td>\n",
       "      <td>0.002176</td>\n",
       "      <td>0.013675</td>\n",
       "      <td>0.001399</td>\n",
       "      <td>0.002331</td>\n",
       "      <td>0.001709</td>\n",
       "      <td>0.011189</td>\n",
       "      <td>0.000932</td>\n",
       "      <td>0.001088</td>\n",
       "      <td>0.000466</td>\n",
       "    </tr>\n",
       "  </tbody>\n",
       "</table>\n",
       "<p>2 rows × 2500 columns</p>\n",
       "</div>"
      ],
      "text/plain": [
       "         10       100        13      1961      1998        20      2001  \\\n",
       "0  0.003654  0.000974  0.000487  0.000244  0.000731  0.001462  0.000244   \n",
       "1  0.002020  0.001399  0.001088  0.001399  0.001088  0.002331  0.001088   \n",
       "\n",
       "         30        40       50s    ...         year  year old     years  \\\n",
       "0  0.000974  0.001705  0.001705    ...     0.008283  0.001462  0.004141   \n",
       "1  0.001709  0.000777  0.001554    ...     0.014763  0.002176  0.013675   \n",
       "\n",
       "   years ago       yes      york     young   younger     youth      zone  \n",
       "0   0.000974  0.001218  0.002680  0.005847  0.001218  0.000731  0.001462  \n",
       "1   0.001399  0.002331  0.001709  0.011189  0.000932  0.001088  0.000466  \n",
       "\n",
       "[2 rows x 2500 columns]"
      ]
     },
     "execution_count": 111,
     "metadata": {},
     "output_type": "execute_result"
    }
   ],
   "source": [
    "# A:\n",
    "prop_df=pd.DataFrame(np.exp(bernd.feature_log_prob_),columns=cv.get_feature_names())\n",
    "prop_df"
   ]
  },
  {
   "cell_type": "markdown",
   "metadata": {},
   "source": [
    "#### 5.3 Create a column that is the difference between fresh probability of appearance and rotten"
   ]
  },
  {
   "cell_type": "code",
   "execution_count": 112,
   "metadata": {},
   "outputs": [],
   "source": [
    "# A:\n",
    "prop_df['prop_of_fresh_rotten']=np.exp(bernd.feature_log_prob_).sum(axis=1)"
   ]
  },
  {
   "cell_type": "markdown",
   "metadata": {},
   "source": [
    "#### 5.4 Look at the most likely words for fresh and rotten reviews"
   ]
  },
  {
   "cell_type": "code",
   "execution_count": 135,
   "metadata": {},
   "outputs": [
    {
     "name": "stdout",
     "output_type": "stream",
     "text": [
      "Rotten: \n",
      " movie       0.139586\n",
      "film        0.111084\n",
      "like        0.067722\n",
      "story       0.041900\n",
      "comedy      0.039464\n",
      "just        0.038002\n",
      "good        0.032643\n",
      "director    0.030451\n",
      "little      0.030207\n",
      "Name: 0, dtype: float64\n"
     ]
    }
   ],
   "source": [
    "# A:\n",
    "print('Rotten:','\\n',prop_df.iloc[0,:].nlargest(10)[1:])"
   ]
  },
  {
   "cell_type": "code",
   "execution_count": 136,
   "metadata": {},
   "outputs": [
    {
     "name": "stdout",
     "output_type": "stream",
     "text": [
      "Fresh: \n",
      " film        0.159596\n",
      "movie       0.130536\n",
      "good        0.043357\n",
      "best        0.043201\n",
      "story       0.041492\n",
      "like        0.039782\n",
      "time        0.036208\n",
      "director    0.036053\n",
      "comedy      0.035742\n",
      "Name: 1, dtype: float64\n"
     ]
    }
   ],
   "source": [
    "# A:\n",
    "print('Fresh:','\\n',prop_df.iloc[1,:].nlargest(10)[1:])"
   ]
  },
  {
   "cell_type": "markdown",
   "metadata": {},
   "source": [
    "---\n",
    "\n",
    "### 6. Examine how your model performs on the test set"
   ]
  },
  {
   "cell_type": "code",
   "execution_count": 139,
   "metadata": {},
   "outputs": [
    {
     "name": "stdout",
     "output_type": "stream",
     "text": [
      "Model   : 0.7455166524338173\n",
      "Baseline: 0.6105732725892179\n"
     ]
    }
   ],
   "source": [
    "# A:\n",
    "print('Model   :',bernd.score(Xtest,ytest))\n",
    "print('Baseline:',ytrain.mean())"
   ]
  },
  {
   "cell_type": "markdown",
   "metadata": {},
   "source": [
    "---\n",
    "\n",
    "### 7. Look at the top 10 movies and reviews likely to be fresh and top 10 likely to be rotten\n",
    "\n",
    "You can fit the model on the full set of data for this.\n",
    "\n",
    "> **Note:** Naive Bayes, while good at classifying, is known to be somewhat bad at giving accurate predicted probabilities (beyond getting it on the correct side of 50%). It is a good classifier but a bad estimator. "
   ]
  },
  {
   "cell_type": "code",
   "execution_count": 248,
   "metadata": {},
   "outputs": [
    {
     "data": {
      "text/html": [
       "<div>\n",
       "<style scoped>\n",
       "    .dataframe tbody tr th:only-of-type {\n",
       "        vertical-align: middle;\n",
       "    }\n",
       "\n",
       "    .dataframe tbody tr th {\n",
       "        vertical-align: top;\n",
       "    }\n",
       "\n",
       "    .dataframe thead th {\n",
       "        text-align: right;\n",
       "    }\n",
       "</style>\n",
       "<table border=\"1\" class=\"dataframe\">\n",
       "  <thead>\n",
       "    <tr style=\"text-align: right;\">\n",
       "      <th></th>\n",
       "      <th>0</th>\n",
       "      <th>title</th>\n",
       "      <th>quote</th>\n",
       "    </tr>\n",
       "  </thead>\n",
       "  <tbody>\n",
       "    <tr>\n",
       "      <th>12548</th>\n",
       "      <td>0.999988</td>\n",
       "      <td>Dogma</td>\n",
       "      <td>Dogma is a raucous, profane but surprisingly e...</td>\n",
       "    </tr>\n",
       "    <tr>\n",
       "      <th>3542</th>\n",
       "      <td>0.999987</td>\n",
       "      <td>The Adventures of Pinocchio</td>\n",
       "      <td>It's the woodsy children's movie Walt Disney d...</td>\n",
       "    </tr>\n",
       "    <tr>\n",
       "      <th>3517</th>\n",
       "      <td>0.999959</td>\n",
       "      <td>Kazaam</td>\n",
       "      <td>Are you bored yet?</td>\n",
       "    </tr>\n",
       "    <tr>\n",
       "      <th>9893</th>\n",
       "      <td>0.999950</td>\n",
       "      <td>Desperately Seeking Susan</td>\n",
       "      <td>All of this is cause for consistent smiling an...</td>\n",
       "    </tr>\n",
       "    <tr>\n",
       "      <th>2108</th>\n",
       "      <td>0.999938</td>\n",
       "      <td>The Beverly Hillbillies</td>\n",
       "      <td>It's thin stuff, but the ingratiating naivete ...</td>\n",
       "    </tr>\n",
       "    <tr>\n",
       "      <th>13772</th>\n",
       "      <td>0.999936</td>\n",
       "      <td>The Beach</td>\n",
       "      <td>All the beauty in the world can't camouflage t...</td>\n",
       "    </tr>\n",
       "    <tr>\n",
       "      <th>1576</th>\n",
       "      <td>0.999932</td>\n",
       "      <td>The Quick and the Dead</td>\n",
       "      <td>Although Stone may be pleasing to some eyes, s...</td>\n",
       "    </tr>\n",
       "    <tr>\n",
       "      <th>896</th>\n",
       "      <td>0.999932</td>\n",
       "      <td>Basic Instinct 2</td>\n",
       "      <td>Like many sequels this is actually a remake, a...</td>\n",
       "    </tr>\n",
       "    <tr>\n",
       "      <th>5674</th>\n",
       "      <td>0.999877</td>\n",
       "      <td>Down by Law</td>\n",
       "      <td>After the initial establishment of character a...</td>\n",
       "    </tr>\n",
       "    <tr>\n",
       "      <th>6828</th>\n",
       "      <td>0.999863</td>\n",
       "      <td>Batman &amp; Robin</td>\n",
       "      <td>[Schumacher's] storytelling is limp, and the c...</td>\n",
       "    </tr>\n",
       "  </tbody>\n",
       "</table>\n",
       "</div>"
      ],
      "text/plain": [
       "              0                        title  \\\n",
       "12548  0.999988                        Dogma   \n",
       "3542   0.999987  The Adventures of Pinocchio   \n",
       "3517   0.999959                       Kazaam   \n",
       "9893   0.999950    Desperately Seeking Susan   \n",
       "2108   0.999938      The Beverly Hillbillies   \n",
       "13772  0.999936                    The Beach   \n",
       "1576   0.999932       The Quick and the Dead   \n",
       "896    0.999932             Basic Instinct 2   \n",
       "5674   0.999877                  Down by Law   \n",
       "6828   0.999863               Batman & Robin   \n",
       "\n",
       "                                                   quote  \n",
       "12548  Dogma is a raucous, profane but surprisingly e...  \n",
       "3542   It's the woodsy children's movie Walt Disney d...  \n",
       "3517                                  Are you bored yet?  \n",
       "9893   All of this is cause for consistent smiling an...  \n",
       "2108   It's thin stuff, but the ingratiating naivete ...  \n",
       "13772  All the beauty in the world can't camouflage t...  \n",
       "1576   Although Stone may be pleasing to some eyes, s...  \n",
       "896    Like many sequels this is actually a remake, a...  \n",
       "5674   After the initial establishment of character a...  \n",
       "6828   [Schumacher's] storytelling is limp, and the c...  "
      ]
     },
     "execution_count": 248,
     "metadata": {},
     "output_type": "execute_result"
    }
   ],
   "source": [
    "# A:\n",
    "# top 10 likely to be rotten.\n",
    "bernd.fit(words,rt.fresh)\n",
    "final_df=pd.DataFrame(bernd.predict_proba(words))\n",
    "final_df['title']=rt.title\n",
    "final_df['quote']=rt.quote\n",
    "final_df.nlargest(10,0).drop(1,axis=1)"
   ]
  },
  {
   "cell_type": "code",
   "execution_count": 249,
   "metadata": {},
   "outputs": [
    {
     "data": {
      "text/html": [
       "<div>\n",
       "<style scoped>\n",
       "    .dataframe tbody tr th:only-of-type {\n",
       "        vertical-align: middle;\n",
       "    }\n",
       "\n",
       "    .dataframe tbody tr th {\n",
       "        vertical-align: top;\n",
       "    }\n",
       "\n",
       "    .dataframe thead th {\n",
       "        text-align: right;\n",
       "    }\n",
       "</style>\n",
       "<table border=\"1\" class=\"dataframe\">\n",
       "  <thead>\n",
       "    <tr style=\"text-align: right;\">\n",
       "      <th></th>\n",
       "      <th>1</th>\n",
       "      <th>title</th>\n",
       "      <th>quote</th>\n",
       "    </tr>\n",
       "  </thead>\n",
       "  <tbody>\n",
       "    <tr>\n",
       "      <th>7539</th>\n",
       "      <td>0.999996</td>\n",
       "      <td>Jackie Brown</td>\n",
       "      <td>[A] surprisingly sluggish Tarantino piece.</td>\n",
       "    </tr>\n",
       "    <tr>\n",
       "      <th>2914</th>\n",
       "      <td>0.999992</td>\n",
       "      <td>The Wild Bunch</td>\n",
       "      <td>In an era when body-count films mirror the mou...</td>\n",
       "    </tr>\n",
       "    <tr>\n",
       "      <th>7342</th>\n",
       "      <td>0.999989</td>\n",
       "      <td>Boogie Nights</td>\n",
       "      <td>The film is bemused and entertained, as we are...</td>\n",
       "    </tr>\n",
       "    <tr>\n",
       "      <th>5064</th>\n",
       "      <td>0.999988</td>\n",
       "      <td>The English Patient</td>\n",
       "      <td>Torrid, witty, passionate and intelligent.</td>\n",
       "    </tr>\n",
       "    <tr>\n",
       "      <th>12844</th>\n",
       "      <td>0.999987</td>\n",
       "      <td>North Country</td>\n",
       "      <td>You cannot help being stirred by the reach and...</td>\n",
       "    </tr>\n",
       "    <tr>\n",
       "      <th>7178</th>\n",
       "      <td>0.999986</td>\n",
       "      <td>Chasing Amy</td>\n",
       "      <td>The script moves beyond Smith's customary cata...</td>\n",
       "    </tr>\n",
       "    <tr>\n",
       "      <th>7653</th>\n",
       "      <td>0.999984</td>\n",
       "      <td>Where the Wild Things Are</td>\n",
       "      <td>Intellectually interesting, visually arresting...</td>\n",
       "    </tr>\n",
       "    <tr>\n",
       "      <th>5604</th>\n",
       "      <td>0.999978</td>\n",
       "      <td>Diva</td>\n",
       "      <td>Made with wit and humor, this French stunner a...</td>\n",
       "    </tr>\n",
       "    <tr>\n",
       "      <th>3937</th>\n",
       "      <td>0.999977</td>\n",
       "      <td>Sunset Blvd.</td>\n",
       "      <td>Remains the best drama ever made about the mov...</td>\n",
       "    </tr>\n",
       "    <tr>\n",
       "      <th>1610</th>\n",
       "      <td>0.999977</td>\n",
       "      <td>The Secret of Roan Inish</td>\n",
       "      <td>The rhythms are placid and the camerawork (by ...</td>\n",
       "    </tr>\n",
       "  </tbody>\n",
       "</table>\n",
       "</div>"
      ],
      "text/plain": [
       "              1                      title  \\\n",
       "7539   0.999996               Jackie Brown   \n",
       "2914   0.999992             The Wild Bunch   \n",
       "7342   0.999989              Boogie Nights   \n",
       "5064   0.999988        The English Patient   \n",
       "12844  0.999987              North Country   \n",
       "7178   0.999986                Chasing Amy   \n",
       "7653   0.999984  Where the Wild Things Are   \n",
       "5604   0.999978                       Diva   \n",
       "3937   0.999977               Sunset Blvd.   \n",
       "1610   0.999977   The Secret of Roan Inish   \n",
       "\n",
       "                                                   quote  \n",
       "7539          [A] surprisingly sluggish Tarantino piece.  \n",
       "2914   In an era when body-count films mirror the mou...  \n",
       "7342   The film is bemused and entertained, as we are...  \n",
       "5064          Torrid, witty, passionate and intelligent.  \n",
       "12844  You cannot help being stirred by the reach and...  \n",
       "7178   The script moves beyond Smith's customary cata...  \n",
       "7653   Intellectually interesting, visually arresting...  \n",
       "5604   Made with wit and humor, this French stunner a...  \n",
       "3937   Remains the best drama ever made about the mov...  \n",
       "1610   The rhythms are placid and the camerawork (by ...  "
      ]
     },
     "execution_count": 249,
     "metadata": {},
     "output_type": "execute_result"
    }
   ],
   "source": [
    "# top ten likely to be fresh.\n",
    "final_df.nlargest(10,1).drop(0,axis=1)"
   ]
  },
  {
   "cell_type": "markdown",
   "metadata": {},
   "source": [
    "---\n",
    "\n",
    "### 8. Find the most likely to be fresh and rotten for movies with at least 10 reviews."
   ]
  },
  {
   "cell_type": "code",
   "execution_count": 268,
   "metadata": {},
   "outputs": [
    {
     "data": {
      "text/html": [
       "<div>\n",
       "<style scoped>\n",
       "    .dataframe tbody tr th:only-of-type {\n",
       "        vertical-align: middle;\n",
       "    }\n",
       "\n",
       "    .dataframe tbody tr th {\n",
       "        vertical-align: top;\n",
       "    }\n",
       "\n",
       "    .dataframe thead th {\n",
       "        text-align: right;\n",
       "    }\n",
       "</style>\n",
       "<table border=\"1\" class=\"dataframe\">\n",
       "  <thead>\n",
       "    <tr style=\"text-align: right;\">\n",
       "      <th></th>\n",
       "      <th>0</th>\n",
       "      <th>title</th>\n",
       "      <th>quote</th>\n",
       "    </tr>\n",
       "  </thead>\n",
       "  <tbody>\n",
       "    <tr>\n",
       "      <th>12548</th>\n",
       "      <td>0.999988</td>\n",
       "      <td>Dogma</td>\n",
       "      <td>Dogma is a raucous, profane but surprisingly e...</td>\n",
       "    </tr>\n",
       "    <tr>\n",
       "      <th>3517</th>\n",
       "      <td>0.999959</td>\n",
       "      <td>Kazaam</td>\n",
       "      <td>Are you bored yet?</td>\n",
       "    </tr>\n",
       "    <tr>\n",
       "      <th>13772</th>\n",
       "      <td>0.999936</td>\n",
       "      <td>The Beach</td>\n",
       "      <td>All the beauty in the world can't camouflage t...</td>\n",
       "    </tr>\n",
       "    <tr>\n",
       "      <th>896</th>\n",
       "      <td>0.999932</td>\n",
       "      <td>Basic Instinct 2</td>\n",
       "      <td>Like many sequels this is actually a remake, a...</td>\n",
       "    </tr>\n",
       "    <tr>\n",
       "      <th>6828</th>\n",
       "      <td>0.999863</td>\n",
       "      <td>Batman &amp; Robin</td>\n",
       "      <td>[Schumacher's] storytelling is limp, and the c...</td>\n",
       "    </tr>\n",
       "    <tr>\n",
       "      <th>215</th>\n",
       "      <td>0.999858</td>\n",
       "      <td>Ninja Assassin</td>\n",
       "      <td>Ninja Assassin lives in the moment, a visceral...</td>\n",
       "    </tr>\n",
       "    <tr>\n",
       "      <th>1659</th>\n",
       "      <td>0.999809</td>\n",
       "      <td>Tank Girl</td>\n",
       "      <td>Lori Petty does a nice job in the title role o...</td>\n",
       "    </tr>\n",
       "    <tr>\n",
       "      <th>10658</th>\n",
       "      <td>0.999767</td>\n",
       "      <td>Hideous Kinky</td>\n",
       "      <td>Thanks in part to Kate Winslet's adventurous p...</td>\n",
       "    </tr>\n",
       "    <tr>\n",
       "      <th>1440</th>\n",
       "      <td>0.999680</td>\n",
       "      <td>Man of the House</td>\n",
       "      <td>Straight-to- video-quality mess.</td>\n",
       "    </tr>\n",
       "    <tr>\n",
       "      <th>796</th>\n",
       "      <td>0.999674</td>\n",
       "      <td>Man of the Year</td>\n",
       "      <td>It's a comedy, a political thriller, a love st...</td>\n",
       "    </tr>\n",
       "  </tbody>\n",
       "</table>\n",
       "</div>"
      ],
      "text/plain": [
       "              0             title  \\\n",
       "12548  0.999988             Dogma   \n",
       "3517   0.999959            Kazaam   \n",
       "13772  0.999936         The Beach   \n",
       "896    0.999932  Basic Instinct 2   \n",
       "6828   0.999863    Batman & Robin   \n",
       "215    0.999858    Ninja Assassin   \n",
       "1659   0.999809         Tank Girl   \n",
       "10658  0.999767     Hideous Kinky   \n",
       "1440   0.999680  Man of the House   \n",
       "796    0.999674   Man of the Year   \n",
       "\n",
       "                                                   quote  \n",
       "12548  Dogma is a raucous, profane but surprisingly e...  \n",
       "3517                                  Are you bored yet?  \n",
       "13772  All the beauty in the world can't camouflage t...  \n",
       "896    Like many sequels this is actually a remake, a...  \n",
       "6828   [Schumacher's] storytelling is limp, and the c...  \n",
       "215    Ninja Assassin lives in the moment, a visceral...  \n",
       "1659   Lori Petty does a nice job in the title role o...  \n",
       "10658  Thanks in part to Kate Winslet's adventurous p...  \n",
       "1440                    Straight-to- video-quality mess.  \n",
       "796    It's a comedy, a political thriller, a love st...  "
      ]
     },
     "execution_count": 268,
     "metadata": {},
     "output_type": "execute_result"
    }
   ],
   "source": [
    "# rotten\n",
    "wanted_columns=list(rt.groupby('title').count()['rtid'][rt.groupby('title').count()['rtid']>=10].index)\n",
    "final_df[final_df['title'].isin(wanted_columns)].nlargest(10,0).drop(1,axis=1)"
   ]
  },
  {
   "cell_type": "code",
   "execution_count": 269,
   "metadata": {},
   "outputs": [
    {
     "data": {
      "text/html": [
       "<div>\n",
       "<style scoped>\n",
       "    .dataframe tbody tr th:only-of-type {\n",
       "        vertical-align: middle;\n",
       "    }\n",
       "\n",
       "    .dataframe tbody tr th {\n",
       "        vertical-align: top;\n",
       "    }\n",
       "\n",
       "    .dataframe thead th {\n",
       "        text-align: right;\n",
       "    }\n",
       "</style>\n",
       "<table border=\"1\" class=\"dataframe\">\n",
       "  <thead>\n",
       "    <tr style=\"text-align: right;\">\n",
       "      <th></th>\n",
       "      <th>1</th>\n",
       "      <th>title</th>\n",
       "      <th>quote</th>\n",
       "    </tr>\n",
       "  </thead>\n",
       "  <tbody>\n",
       "    <tr>\n",
       "      <th>7539</th>\n",
       "      <td>0.999996</td>\n",
       "      <td>Jackie Brown</td>\n",
       "      <td>[A] surprisingly sluggish Tarantino piece.</td>\n",
       "    </tr>\n",
       "    <tr>\n",
       "      <th>2914</th>\n",
       "      <td>0.999992</td>\n",
       "      <td>The Wild Bunch</td>\n",
       "      <td>In an era when body-count films mirror the mou...</td>\n",
       "    </tr>\n",
       "    <tr>\n",
       "      <th>7342</th>\n",
       "      <td>0.999989</td>\n",
       "      <td>Boogie Nights</td>\n",
       "      <td>The film is bemused and entertained, as we are...</td>\n",
       "    </tr>\n",
       "    <tr>\n",
       "      <th>5064</th>\n",
       "      <td>0.999988</td>\n",
       "      <td>The English Patient</td>\n",
       "      <td>Torrid, witty, passionate and intelligent.</td>\n",
       "    </tr>\n",
       "    <tr>\n",
       "      <th>12844</th>\n",
       "      <td>0.999987</td>\n",
       "      <td>North Country</td>\n",
       "      <td>You cannot help being stirred by the reach and...</td>\n",
       "    </tr>\n",
       "    <tr>\n",
       "      <th>7178</th>\n",
       "      <td>0.999986</td>\n",
       "      <td>Chasing Amy</td>\n",
       "      <td>The script moves beyond Smith's customary cata...</td>\n",
       "    </tr>\n",
       "    <tr>\n",
       "      <th>7653</th>\n",
       "      <td>0.999984</td>\n",
       "      <td>Where the Wild Things Are</td>\n",
       "      <td>Intellectually interesting, visually arresting...</td>\n",
       "    </tr>\n",
       "    <tr>\n",
       "      <th>5604</th>\n",
       "      <td>0.999978</td>\n",
       "      <td>Diva</td>\n",
       "      <td>Made with wit and humor, this French stunner a...</td>\n",
       "    </tr>\n",
       "    <tr>\n",
       "      <th>1610</th>\n",
       "      <td>0.999977</td>\n",
       "      <td>The Secret of Roan Inish</td>\n",
       "      <td>The rhythms are placid and the camerawork (by ...</td>\n",
       "    </tr>\n",
       "    <tr>\n",
       "      <th>260</th>\n",
       "      <td>0.999977</td>\n",
       "      <td>La cité des enfants perdus</td>\n",
       "      <td>Watching the film is like leafing through a gi...</td>\n",
       "    </tr>\n",
       "  </tbody>\n",
       "</table>\n",
       "</div>"
      ],
      "text/plain": [
       "              1                       title  \\\n",
       "7539   0.999996                Jackie Brown   \n",
       "2914   0.999992              The Wild Bunch   \n",
       "7342   0.999989               Boogie Nights   \n",
       "5064   0.999988         The English Patient   \n",
       "12844  0.999987               North Country   \n",
       "7178   0.999986                 Chasing Amy   \n",
       "7653   0.999984   Where the Wild Things Are   \n",
       "5604   0.999978                        Diva   \n",
       "1610   0.999977    The Secret of Roan Inish   \n",
       "260    0.999977  La cité des enfants perdus   \n",
       "\n",
       "                                                   quote  \n",
       "7539          [A] surprisingly sluggish Tarantino piece.  \n",
       "2914   In an era when body-count films mirror the mou...  \n",
       "7342   The film is bemused and entertained, as we are...  \n",
       "5064          Torrid, witty, passionate and intelligent.  \n",
       "12844  You cannot help being stirred by the reach and...  \n",
       "7178   The script moves beyond Smith's customary cata...  \n",
       "7653   Intellectually interesting, visually arresting...  \n",
       "5604   Made with wit and humor, this French stunner a...  \n",
       "1610   The rhythms are placid and the camerawork (by ...  \n",
       "260    Watching the film is like leafing through a gi...  "
      ]
     },
     "execution_count": 269,
     "metadata": {},
     "output_type": "execute_result"
    }
   ],
   "source": [
    "# fresh\n",
    "final_df[final_df['title'].isin(wanted_columns)].nlargest(10,1).drop(0,axis=1)"
   ]
  },
  {
   "cell_type": "code",
   "execution_count": null,
   "metadata": {},
   "outputs": [],
   "source": []
  }
 ],
 "metadata": {
  "kernelspec": {
   "display_name": "Python 3",
   "language": "python",
   "name": "python3"
  },
  "language_info": {
   "codemirror_mode": {
    "name": "ipython",
    "version": 3
   },
   "file_extension": ".py",
   "mimetype": "text/x-python",
   "name": "python",
   "nbconvert_exporter": "python",
   "pygments_lexer": "ipython3",
   "version": "3.7.2"
  },
  "toc": {
   "nav_menu": {},
   "number_sections": false,
   "sideBar": true,
   "skip_h1_title": false,
   "title_cell": "Table of Contents",
   "title_sidebar": "Contents",
   "toc_cell": false,
   "toc_position": {},
   "toc_section_display": true,
   "toc_window_display": false
  },
  "varInspector": {
   "cols": {
    "lenName": 16,
    "lenType": 16,
    "lenVar": 40
   },
   "kernels_config": {
    "python": {
     "delete_cmd_postfix": "",
     "delete_cmd_prefix": "del ",
     "library": "var_list.py",
     "varRefreshCmd": "print(var_dic_list())"
    },
    "r": {
     "delete_cmd_postfix": ") ",
     "delete_cmd_prefix": "rm(",
     "library": "var_list.r",
     "varRefreshCmd": "cat(var_dic_list()) "
    }
   },
   "types_to_exclude": [
    "module",
    "function",
    "builtin_function_or_method",
    "instance",
    "_Feature"
   ],
   "window_display": false
  }
 },
 "nbformat": 4,
 "nbformat_minor": 1
}
