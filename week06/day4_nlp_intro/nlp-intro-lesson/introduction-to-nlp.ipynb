{
 "cells": [
  {
   "cell_type": "markdown",
   "metadata": {
    "slideshow": {
     "slide_type": "slide"
    }
   },
   "source": [
    "\n",
    "<img src=\"http://imgur.com/1ZcRyrc.png\" style=\"float: left; margin: 20px; height: 55px\">\n",
    "\n",
    "# Introduction to Natural Language Processing (NLP)\n",
    "\n",
    "\n",
    "---\n",
    "\n",
    "\n",
    "![](https://snag.gy/uvESGH.jpg)"
   ]
  },
  {
   "cell_type": "markdown",
   "metadata": {
    "slideshow": {
     "slide_type": "slide"
    }
   },
   "source": [
    "## Learning Objectives\n",
    "\n",
    "\n",
    "### Core\n",
    "- Extract features from unstructured text using Scikit Learn\n",
    "    - Count vectorizer\n",
    "    - TFIDF vectorizer\n",
    "    - Hashing vectorizer\n",
    "- Describe downsides of bag-of-word approaches\n",
    "- Remove stop words\n",
    "\n",
    "\n",
    "### Target\n",
    "- Identify parts of ppeech using NLTK\n",
    "    - Stemming \n",
    "    - Segmentation\n",
    "    - Parts of speech tagging\n",
    "\n",
    "\n",
    "### Stretch\n",
    "\n",
    "- Describe how TFIDF works and calculate scores by hand\n",
    "- Describe the advantages and disadvantages of using the hashing vectorizer\n"
   ]
  },
  {
   "cell_type": "markdown",
   "metadata": {
    "slideshow": {
     "slide_type": "slide"
    }
   },
   "source": [
    "### Lesson Guide\n",
    "- [Introduction to text feature extraction](#intro)\n",
    "- [An NLP project: rapstats.io](#rapstats)\n",
    "- [Common NLP problems](#common)\n",
    "- [Common NLP models](#models)\n",
    "- [A simple example](#simple)\n",
    "- [Bag-of-words / word counting](#bow)\n",
    "    - [Sklearn `CountVectorizer`](#countvectorizer)\n",
    "- [Hashing](#hash)\n",
    "    - [Sklearn `HashingVectorizer`](#hashingvectorizer)\n",
    "- [Term frequency - inverse document frequency](#tfidf)\n",
    "    - [Sklearn `TfidfVectorizer`](#tfidf-vec)\n",
    "- [Downsides to bag-of-words](#downsides-bow)\n",
    "- [Segmentation](#segmentation)\n",
    "    - [NLTK sentencer](#nltk-sentencer)\n",
    "- [Stemming with NLTK](#stem-nltk)\n",
    "    - [Stemming approaches](#group)\n",
    "- [Stop words](#stopwords)\n",
    "- [Part of speech tagging](#pos)\n",
    "- [Unicode: a common pitfall](#unicode)\n",
    "- [Conclusion](#conclusion)\n",
    "- [Additional resources](#resources)"
   ]
  },
  {
   "cell_type": "markdown",
   "metadata": {
    "slideshow": {
     "slide_type": "slide"
    }
   },
   "source": [
    "<a name=\"intro\"></a>\n",
    "## Introduction to text feature extraction\n",
    "\n",
    "---\n",
    "\n",
    "The models we have been using so far accept a 2D matrix of real numbers as input `X` and a target vector of classes or numbers `y`. What if our starting point data is not given in the form of a table of numbers, but rather is unstructured? This is the case when working with text documents.\n",
    "\n",
    "We need a way to go from unstructured data to our numeric `X` matrix in order to use the same models. This is called _feature extraction_ and this lesson is dedicated to it.\n",
    "\n",
    "The applications of using text data in statistical modeling are practically infinite. Some examples include:\n",
    "- Sentiment analysis of Yelp reviews\n",
    "- Identifying topics of news articles\n",
    "- Classification of political authors"
   ]
  },
  {
   "cell_type": "markdown",
   "metadata": {
    "slideshow": {
     "slide_type": "slide"
    }
   },
   "source": [
    "<a id='common'></a>\n",
    "## Common NLP problems\n",
    "\n",
    "---\n",
    "\n",
    "The table below details some of the most common problems and tasks in the vast field of natural language processing (NLP).\n",
    "\n",
    "| | |\n",
    "|-|-|\n",
    "| **Sentiment Analysis** | Is what is written positive or negative? | \n",
    "| **Named Entity Recognition** | Classify names of persons, organizations, locations, expressions of times, quantities, monetary values, percentages, etc. |\n",
    "| **Summarization** | Boiling down large bodies of text to paraphrased versions |\n",
    "| **Topic Modeling** | What topics does a body of text belong to? (ie: Auto tagging of news articles) |\n",
    "| **Question answering** | Given a human-language question, determine its answer. |\n",
    "| **Word disambiguation** | Many words have more than one meaning; we have to select the meaning which makes the most sense in context. For this problem, we are typically given a list of words and associated word senses, e.g. from a dictionary or from an online resource such as WordNet. |\n",
    "| **Machine dialog systems** | Building response systems that react contextually to human input (ie: me: Siri, cook me some bacon.  Siri:  How do you like your bacon? ) | \n",
    "\n",
    "\n",
    "See Also:\n",
    "\n",
    "- [News Headline Anlaysis](http://nbviewer.jupyter.org/github/AYLIEN/headline_analysis/blob/06f1223012d285412a650c201a19a1c95859dca1/main-chunks.ipynb?utm_content=buffer5d40c&utm_medium=social&utm_source=twitter.com&utm_campaign=buffer)\n",
    "- [Sentiment + Robot Classification in Movies](http://nbviewer.jupyter.org/github/cojette/ClusteringRobotsinMovie/blob/master/Classification%20of%20Robots%20in%20Movies.ipynb)\n",
    "- [Text Summarization / Gensim](http://nbviewer.jupyter.org/github/piskvorky/gensim/blob/develop/docs/notebooks/summarization_tutorial.ipynb)\n",
    "- [Sentiment Analysis Intro](http://nbviewer.jupyter.org/github/sgsinclair/alta/blob/master/ipynb/SentimentAnalysis.ipynb)"
   ]
  },
  {
   "cell_type": "markdown",
   "metadata": {
    "slideshow": {
     "slide_type": "slide"
    }
   },
   "source": [
    "<a id='models'></a>\n",
    "## Common NLP models and terms\n",
    "\n",
    "---\n",
    "\n",
    "- LSI (Latent Semantic Indexing)\n",
    "- LDA (Latent Dirichlet Allocation)\n",
    "- HDP (Hierarchical Dirichlet Process)\n",
    "- Word2Vec\n",
    "- LogisticRegression\n",
    "- Naive Bayes\n",
    "- SVM\n",
    "- CountVectorizer\n",
    "- TfIdF (term frequency inverse document frequency)\n",
    "- DTM (document term matrix)\n",
    "\n",
    "> **Note:** This is not an exhaustive list, nor will we be covering all of these models in class. NLP is a very deep and very broad area of data science that could warrant it's own immersive entirely!"
   ]
  },
  {
   "cell_type": "markdown",
   "metadata": {},
   "source": [
    "<a id='simple'></a>\n",
    "## A Simple Example\n",
    "---\n",
    "\n",
    "Suppose we are building a spam classifier. Inputs are emails and the output is a binary label.\n",
    "\n",
    "Here's an example of an input email from each class:"
   ]
  },
  {
   "cell_type": "code",
   "execution_count": 1,
   "metadata": {
    "slideshow": {
     "slide_type": "slide"
    }
   },
   "outputs": [
    {
     "name": "stdout",
     "output_type": "stream",
     "text": [
      "\n",
      "Hello,\n",
      "I saw your contact information on LinkedIn. I have carefully read through your profile and you seem to have an outstanding personality. This is one major reason why I am in contact with you. My name is Mr. Valery Grayfer Chairman of the Board of Directors of PJSC \"LUKOIL\". I am 86 years old and I was diagnosed with cancer 2 years ago. I will be going in for an operation later this week. I decided to WILL/Donate the sum of 8,750,000.00 Euros(Eight Million Seven Hundred And Fifty Thousand Euros Only etc. etc.\n",
      "\n",
      "\n",
      "\n",
      "Hello, \n",
      "I am writing in regards to your application to the position of Data Scientist at Hooli X. We are pleased to inform you that you passed the first round of interviews and we would like to invite you for an on-site interview with our Senior Data Scientist Mr. John Smith. You will find attached to this message further information on date, time and location of the interview. Please let me know if I can be of any further assistance. Best Regards.\n",
      "\n"
     ]
    }
   ],
   "source": [
    "spam = \"\"\"\n",
    "Hello,\\nI saw your contact information on LinkedIn. I have carefully read through your profile and you seem to have an outstanding personality. This is one major reason why I am in contact with you. My name is Mr. Valery Grayfer Chairman of the Board of Directors of PJSC \"LUKOIL\". I am 86 years old and I was diagnosed with cancer 2 years ago. I will be going in for an operation later this week. I decided to WILL/Donate the sum of 8,750,000.00 Euros(Eight Million Seven Hundred And Fifty Thousand Euros Only etc. etc.\n",
    "\"\"\"\n",
    "\n",
    "ham = \"\"\"\n",
    "Hello, \\nI am writing in regards to your application to the position of Data Scientist at Hooli X. We are pleased to inform you that you passed the first round of interviews and we would like to invite you for an on-site interview with our Senior Data Scientist Mr. John Smith. You will find attached to this message further information on date, time and location of the interview. Please let me know if I can be of any further assistance. Best Regards.\n",
    "\"\"\"\n",
    "print(spam)\n",
    "print()\n",
    "print(ham)"
   ]
  },
  {
   "cell_type": "markdown",
   "metadata": {
    "slideshow": {
     "slide_type": "slide"
    }
   },
   "source": [
    "- Can you think of a simple heuristic rule to catch email like this?"
   ]
  },
  {
   "cell_type": "markdown",
   "metadata": {},
   "source": [
    "## Tokenizing\n",
    "---\n",
    "\n",
    "When we \"tokenize\" data, we take it and split it up into pieces, usually words."
   ]
  },
  {
   "cell_type": "code",
   "execution_count": 2,
   "metadata": {},
   "outputs": [
    {
     "data": {
      "text/plain": [
       "['hello,',\n",
       " 'i',\n",
       " 'saw',\n",
       " 'your',\n",
       " 'contact',\n",
       " 'information',\n",
       " 'on',\n",
       " 'linkedin.',\n",
       " 'i',\n",
       " 'have',\n",
       " 'carefully',\n",
       " 'read',\n",
       " 'through',\n",
       " 'your',\n",
       " 'profile',\n",
       " 'and',\n",
       " 'you',\n",
       " 'seem',\n",
       " 'to',\n",
       " 'have',\n",
       " 'an',\n",
       " 'outstanding',\n",
       " 'personality.',\n",
       " 'this',\n",
       " 'is',\n",
       " 'one',\n",
       " 'major',\n",
       " 'reason',\n",
       " 'why',\n",
       " 'i',\n",
       " 'am',\n",
       " 'in',\n",
       " 'contact',\n",
       " 'with',\n",
       " 'you.',\n",
       " 'my',\n",
       " 'name',\n",
       " 'is',\n",
       " 'mr.',\n",
       " 'valery',\n",
       " 'grayfer',\n",
       " 'chairman',\n",
       " 'of',\n",
       " 'the',\n",
       " 'board',\n",
       " 'of',\n",
       " 'directors',\n",
       " 'of',\n",
       " 'pjsc',\n",
       " '\"lukoil\".',\n",
       " 'i',\n",
       " 'am',\n",
       " '86',\n",
       " 'years',\n",
       " 'old',\n",
       " 'and',\n",
       " 'i',\n",
       " 'was',\n",
       " 'diagnosed',\n",
       " 'with',\n",
       " 'cancer',\n",
       " '2',\n",
       " 'years',\n",
       " 'ago.',\n",
       " 'i',\n",
       " 'will',\n",
       " 'be',\n",
       " 'going',\n",
       " 'in',\n",
       " 'for',\n",
       " 'an',\n",
       " 'operation',\n",
       " 'later',\n",
       " 'this',\n",
       " 'week.',\n",
       " 'i',\n",
       " 'decided',\n",
       " 'to',\n",
       " 'will/donate',\n",
       " 'the',\n",
       " 'sum',\n",
       " 'of',\n",
       " '8,750,000.00',\n",
       " 'euros(eight',\n",
       " 'million',\n",
       " 'seven',\n",
       " 'hundred',\n",
       " 'and',\n",
       " 'fifty',\n",
       " 'thousand',\n",
       " 'euros',\n",
       " 'only',\n",
       " 'etc.',\n",
       " 'etc.']"
      ]
     },
     "execution_count": 2,
     "metadata": {},
     "output_type": "execute_result"
    }
   ],
   "source": [
    "# Step1 : Tokenization\n",
    "# spam\n",
    "spam_list=spam.lower().split()\n",
    "spam_list"
   ]
  },
  {
   "cell_type": "code",
   "execution_count": 3,
   "metadata": {},
   "outputs": [
    {
     "data": {
      "text/plain": [
       "['hello,',\n",
       " 'i',\n",
       " 'am',\n",
       " 'writing',\n",
       " 'in',\n",
       " 'regards',\n",
       " 'to',\n",
       " 'your',\n",
       " 'application',\n",
       " 'to',\n",
       " 'the',\n",
       " 'position',\n",
       " 'of',\n",
       " 'data',\n",
       " 'scientist',\n",
       " 'at',\n",
       " 'hooli',\n",
       " 'x.',\n",
       " 'we',\n",
       " 'are',\n",
       " 'pleased',\n",
       " 'to',\n",
       " 'inform',\n",
       " 'you',\n",
       " 'that',\n",
       " 'you',\n",
       " 'passed',\n",
       " 'the',\n",
       " 'first',\n",
       " 'round',\n",
       " 'of',\n",
       " 'interviews',\n",
       " 'and',\n",
       " 'we',\n",
       " 'would',\n",
       " 'like',\n",
       " 'to',\n",
       " 'invite',\n",
       " 'you',\n",
       " 'for',\n",
       " 'an',\n",
       " 'on-site',\n",
       " 'interview',\n",
       " 'with',\n",
       " 'our',\n",
       " 'senior',\n",
       " 'data',\n",
       " 'scientist',\n",
       " 'mr.',\n",
       " 'john',\n",
       " 'smith.',\n",
       " 'you',\n",
       " 'will',\n",
       " 'find',\n",
       " 'attached',\n",
       " 'to',\n",
       " 'this',\n",
       " 'message',\n",
       " 'further',\n",
       " 'information',\n",
       " 'on',\n",
       " 'date,',\n",
       " 'time',\n",
       " 'and',\n",
       " 'location',\n",
       " 'of',\n",
       " 'the',\n",
       " 'interview.',\n",
       " 'please',\n",
       " 'let',\n",
       " 'me',\n",
       " 'know',\n",
       " 'if',\n",
       " 'i',\n",
       " 'can',\n",
       " 'be',\n",
       " 'of',\n",
       " 'any',\n",
       " 'further',\n",
       " 'assistance.',\n",
       " 'best',\n",
       " 'regards.']"
      ]
     },
     "execution_count": 3,
     "metadata": {},
     "output_type": "execute_result"
    }
   ],
   "source": [
    "# Step1 : Tokenization\n",
    "# ham\n",
    "ham_list=ham.lower().split()\n",
    "ham_list"
   ]
  },
  {
   "cell_type": "markdown",
   "metadata": {
    "slideshow": {
     "slide_type": "slide"
    }
   },
   "source": [
    "<a id='bow'></a>\n",
    "## Bag-of-words (BOF) / word counting\n",
    "---\n",
    "\n",
    "The bag-of-words model is a simplified representation of the raw data. In this model, a text (such as a sentence or a document) is represented as the bag (multiset) of its words.\n",
    "\n",
    "Bag-of-words representations discard grammar, order, and structure in the text, but track occurances."
   ]
  },
  {
   "cell_type": "code",
   "execution_count": 4,
   "metadata": {},
   "outputs": [],
   "source": [
    "# BOF from scratch \n",
    "from collections import Counter"
   ]
  },
  {
   "cell_type": "code",
   "execution_count": 5,
   "metadata": {},
   "outputs": [
    {
     "data": {
      "text/plain": [
       "Counter({'hello,': 1,\n",
       "         'i': 7,\n",
       "         'saw': 1,\n",
       "         'your': 2,\n",
       "         'contact': 2,\n",
       "         'information': 1,\n",
       "         'on': 1,\n",
       "         'linkedin.': 1,\n",
       "         'have': 2,\n",
       "         'carefully': 1,\n",
       "         'read': 1,\n",
       "         'through': 1,\n",
       "         'profile': 1,\n",
       "         'and': 3,\n",
       "         'you': 1,\n",
       "         'seem': 1,\n",
       "         'to': 2,\n",
       "         'an': 2,\n",
       "         'outstanding': 1,\n",
       "         'personality.': 1,\n",
       "         'this': 2,\n",
       "         'is': 2,\n",
       "         'one': 1,\n",
       "         'major': 1,\n",
       "         'reason': 1,\n",
       "         'why': 1,\n",
       "         'am': 2,\n",
       "         'in': 2,\n",
       "         'with': 2,\n",
       "         'you.': 1,\n",
       "         'my': 1,\n",
       "         'name': 1,\n",
       "         'mr.': 1,\n",
       "         'valery': 1,\n",
       "         'grayfer': 1,\n",
       "         'chairman': 1,\n",
       "         'of': 4,\n",
       "         'the': 2,\n",
       "         'board': 1,\n",
       "         'directors': 1,\n",
       "         'pjsc': 1,\n",
       "         '\"lukoil\".': 1,\n",
       "         '86': 1,\n",
       "         'years': 2,\n",
       "         'old': 1,\n",
       "         'was': 1,\n",
       "         'diagnosed': 1,\n",
       "         'cancer': 1,\n",
       "         '2': 1,\n",
       "         'ago.': 1,\n",
       "         'will': 1,\n",
       "         'be': 1,\n",
       "         'going': 1,\n",
       "         'for': 1,\n",
       "         'operation': 1,\n",
       "         'later': 1,\n",
       "         'week.': 1,\n",
       "         'decided': 1,\n",
       "         'will/donate': 1,\n",
       "         'sum': 1,\n",
       "         '8,750,000.00': 1,\n",
       "         'euros(eight': 1,\n",
       "         'million': 1,\n",
       "         'seven': 1,\n",
       "         'hundred': 1,\n",
       "         'fifty': 1,\n",
       "         'thousand': 1,\n",
       "         'euros': 1,\n",
       "         'only': 1,\n",
       "         'etc.': 2})"
      ]
     },
     "execution_count": 5,
     "metadata": {},
     "output_type": "execute_result"
    }
   ],
   "source": [
    "# spam\n",
    "spam_count=Counter(spam_list)\n",
    "spam_count"
   ]
  },
  {
   "cell_type": "code",
   "execution_count": 6,
   "metadata": {},
   "outputs": [
    {
     "data": {
      "text/plain": [
       "Counter({'hello,': 1,\n",
       "         'i': 2,\n",
       "         'am': 1,\n",
       "         'writing': 1,\n",
       "         'in': 1,\n",
       "         'regards': 1,\n",
       "         'to': 5,\n",
       "         'your': 1,\n",
       "         'application': 1,\n",
       "         'the': 3,\n",
       "         'position': 1,\n",
       "         'of': 4,\n",
       "         'data': 2,\n",
       "         'scientist': 2,\n",
       "         'at': 1,\n",
       "         'hooli': 1,\n",
       "         'x.': 1,\n",
       "         'we': 2,\n",
       "         'are': 1,\n",
       "         'pleased': 1,\n",
       "         'inform': 1,\n",
       "         'you': 4,\n",
       "         'that': 1,\n",
       "         'passed': 1,\n",
       "         'first': 1,\n",
       "         'round': 1,\n",
       "         'interviews': 1,\n",
       "         'and': 2,\n",
       "         'would': 1,\n",
       "         'like': 1,\n",
       "         'invite': 1,\n",
       "         'for': 1,\n",
       "         'an': 1,\n",
       "         'on-site': 1,\n",
       "         'interview': 1,\n",
       "         'with': 1,\n",
       "         'our': 1,\n",
       "         'senior': 1,\n",
       "         'mr.': 1,\n",
       "         'john': 1,\n",
       "         'smith.': 1,\n",
       "         'will': 1,\n",
       "         'find': 1,\n",
       "         'attached': 1,\n",
       "         'this': 1,\n",
       "         'message': 1,\n",
       "         'further': 2,\n",
       "         'information': 1,\n",
       "         'on': 1,\n",
       "         'date,': 1,\n",
       "         'time': 1,\n",
       "         'location': 1,\n",
       "         'interview.': 1,\n",
       "         'please': 1,\n",
       "         'let': 1,\n",
       "         'me': 1,\n",
       "         'know': 1,\n",
       "         'if': 1,\n",
       "         'can': 1,\n",
       "         'be': 1,\n",
       "         'any': 1,\n",
       "         'assistance.': 1,\n",
       "         'best': 1,\n",
       "         'regards.': 1})"
      ]
     },
     "execution_count": 6,
     "metadata": {},
     "output_type": "execute_result"
    }
   ],
   "source": [
    "# ham\n",
    "ham_count=Counter(ham_list)\n",
    "ham_count"
   ]
  },
  {
   "cell_type": "markdown",
   "metadata": {
    "slideshow": {
     "slide_type": "slide"
    }
   },
   "source": [
    "> In the above example we counted the number of times each word appeared in the text. Note that since we included all the words in the text, we created a dictionary that contains many words with only one appearance."
   ]
  },
  {
   "cell_type": "markdown",
   "metadata": {},
   "source": [
    "<a name=\"countvectorizer\"></a>\n",
    "## Sklearn `CountVectorizer`\n",
    "---\n",
    "\n",
    "Sklearn offers a `CountVectorizer` class which basically does the same, but which has many configurable options:"
   ]
  },
  {
   "cell_type": "code",
   "execution_count": 7,
   "metadata": {},
   "outputs": [],
   "source": [
    "from sklearn.feature_extraction.text import CountVectorizer"
   ]
  },
  {
   "cell_type": "code",
   "execution_count": 8,
   "metadata": {},
   "outputs": [],
   "source": [
    "# 1- initialize vectorizer \n",
    "cv=CountVectorizer(token_pattern='\\w+') # character +\n",
    "spam_ham=spam_list+ham_list"
   ]
  },
  {
   "cell_type": "code",
   "execution_count": 9,
   "metadata": {},
   "outputs": [
    {
     "data": {
      "text/plain": [
       "CountVectorizer(analyzer='word', binary=False, decode_error='strict',\n",
       "        dtype=<class 'numpy.int64'>, encoding='utf-8', input='content',\n",
       "        lowercase=True, max_df=1.0, max_features=None, min_df=1,\n",
       "        ngram_range=(1, 1), preprocessor=None, stop_words=None,\n",
       "        strip_accents=None, token_pattern='\\\\w+', tokenizer=None,\n",
       "        vocabulary=None)"
      ]
     },
     "execution_count": 9,
     "metadata": {},
     "output_type": "execute_result"
    }
   ],
   "source": [
    "# 2- fit vectorizer (build Vocabulary)\n",
    "cv.fit((spam,ham))"
   ]
  },
  {
   "cell_type": "markdown",
   "metadata": {},
   "source": [
    "### The count vectorizer returns a sparse matrix (see [scipy](https://docs.scipy.org/doc/scipy/reference/sparse.html))\n",
    "\n",
    "In a sparse matrix, only those entries are stored which are different from zero. \n",
    "They are stored through triples of numbers, the occupied row and column index combination together with the value.\n",
    "\n",
    "This is particularly useful for NLP where each document will only contain a small amount of all the possible words.\n"
   ]
  },
  {
   "cell_type": "code",
   "execution_count": 10,
   "metadata": {},
   "outputs": [],
   "source": [
    "# 3- trnsform (calculate weights)\n",
    "document_matrix =cv.transform((spam,ham)) "
   ]
  },
  {
   "cell_type": "markdown",
   "metadata": {},
   "source": [
    "#### Handling sparse matrices"
   ]
  },
  {
   "cell_type": "code",
   "execution_count": 11,
   "metadata": {},
   "outputs": [
    {
     "name": "stdout",
     "output_type": "stream",
     "text": [
      "Vocabulary Words:\n"
     ]
    },
    {
     "data": {
      "text/plain": [
       "['00',\n",
       " '000',\n",
       " '2',\n",
       " '750',\n",
       " '8',\n",
       " '86',\n",
       " 'ago',\n",
       " 'am',\n",
       " 'an',\n",
       " 'and',\n",
       " 'any',\n",
       " 'application',\n",
       " 'are',\n",
       " 'assistance',\n",
       " 'at',\n",
       " 'attached',\n",
       " 'be',\n",
       " 'best',\n",
       " 'board',\n",
       " 'can',\n",
       " 'cancer',\n",
       " 'carefully',\n",
       " 'chairman',\n",
       " 'contact',\n",
       " 'data',\n",
       " 'date',\n",
       " 'decided',\n",
       " 'diagnosed',\n",
       " 'directors',\n",
       " 'donate',\n",
       " 'eight',\n",
       " 'etc',\n",
       " 'euros',\n",
       " 'fifty',\n",
       " 'find',\n",
       " 'first',\n",
       " 'for',\n",
       " 'further',\n",
       " 'going',\n",
       " 'grayfer',\n",
       " 'have',\n",
       " 'hello',\n",
       " 'hooli',\n",
       " 'hundred',\n",
       " 'i',\n",
       " 'if',\n",
       " 'in',\n",
       " 'inform',\n",
       " 'information',\n",
       " 'interview',\n",
       " 'interviews',\n",
       " 'invite',\n",
       " 'is',\n",
       " 'john',\n",
       " 'know',\n",
       " 'later',\n",
       " 'let',\n",
       " 'like',\n",
       " 'linkedin',\n",
       " 'location',\n",
       " 'lukoil',\n",
       " 'major',\n",
       " 'me',\n",
       " 'message',\n",
       " 'million',\n",
       " 'mr',\n",
       " 'my',\n",
       " 'name',\n",
       " 'of',\n",
       " 'old',\n",
       " 'on',\n",
       " 'one',\n",
       " 'only',\n",
       " 'operation',\n",
       " 'our',\n",
       " 'outstanding',\n",
       " 'passed',\n",
       " 'personality',\n",
       " 'pjsc',\n",
       " 'please',\n",
       " 'pleased',\n",
       " 'position',\n",
       " 'profile',\n",
       " 'read',\n",
       " 'reason',\n",
       " 'regards',\n",
       " 'round',\n",
       " 'saw',\n",
       " 'scientist',\n",
       " 'seem',\n",
       " 'senior',\n",
       " 'seven',\n",
       " 'site',\n",
       " 'smith',\n",
       " 'sum',\n",
       " 'that',\n",
       " 'the',\n",
       " 'this',\n",
       " 'thousand',\n",
       " 'through',\n",
       " 'time',\n",
       " 'to',\n",
       " 'valery',\n",
       " 'was',\n",
       " 'we',\n",
       " 'week',\n",
       " 'why',\n",
       " 'will',\n",
       " 'with',\n",
       " 'would',\n",
       " 'writing',\n",
       " 'x',\n",
       " 'years',\n",
       " 'you',\n",
       " 'your']"
      ]
     },
     "execution_count": 11,
     "metadata": {},
     "output_type": "execute_result"
    }
   ],
   "source": [
    "print('Vocabulary Words:')\n",
    "cv.get_feature_names()"
   ]
  },
  {
   "cell_type": "code",
   "execution_count": 12,
   "metadata": {
    "scrolled": true
   },
   "outputs": [
    {
     "name": "stdout",
     "output_type": "stream",
     "text": [
      "Transform to numpy array format:\n"
     ]
    },
    {
     "data": {
      "text/plain": [
       "array([[1, 1, 1, 1, 1, 1, 1, 2, 2, 3, 0, 0, 0, 0, 0, 0, 1, 0, 1, 0, 1, 1,\n",
       "        1, 2, 0, 0, 1, 1, 1, 1, 1, 2, 2, 1, 0, 0, 1, 0, 1, 1, 2, 1, 0, 1,\n",
       "        7, 0, 2, 0, 1, 0, 0, 0, 2, 0, 0, 1, 0, 0, 1, 0, 1, 1, 0, 0, 1, 1,\n",
       "        1, 1, 4, 1, 1, 1, 1, 1, 0, 1, 0, 1, 1, 0, 0, 0, 1, 1, 1, 0, 0, 1,\n",
       "        0, 1, 0, 1, 0, 0, 1, 0, 2, 2, 1, 1, 0, 2, 1, 1, 0, 1, 1, 2, 2, 0,\n",
       "        0, 0, 2, 2, 2],\n",
       "       [0, 0, 0, 0, 0, 0, 0, 1, 1, 2, 1, 1, 1, 1, 1, 1, 1, 1, 0, 1, 0, 0,\n",
       "        0, 0, 2, 1, 0, 0, 0, 0, 0, 0, 0, 0, 1, 1, 1, 2, 0, 0, 0, 1, 1, 0,\n",
       "        2, 1, 1, 1, 1, 2, 1, 1, 0, 1, 1, 0, 1, 1, 0, 1, 0, 0, 1, 1, 0, 1,\n",
       "        0, 0, 4, 0, 2, 0, 0, 0, 1, 0, 1, 0, 0, 1, 1, 1, 0, 0, 0, 2, 1, 0,\n",
       "        2, 0, 1, 0, 1, 1, 0, 1, 3, 1, 0, 0, 1, 5, 0, 0, 2, 0, 0, 1, 1, 1,\n",
       "        1, 1, 0, 4, 1]])"
      ]
     },
     "execution_count": 12,
     "metadata": {},
     "output_type": "execute_result"
    }
   ],
   "source": [
    "print(\"Transform to numpy array format:\")\n",
    "document_matrix.toarray()"
   ]
  },
  {
   "cell_type": "code",
   "execution_count": 13,
   "metadata": {},
   "outputs": [
    {
     "name": "stdout",
     "output_type": "stream",
     "text": [
      "Number of nonzero entries:\n"
     ]
    },
    {
     "data": {
      "text/plain": [
       "2"
      ]
     },
     "execution_count": 13,
     "metadata": {},
     "output_type": "execute_result"
    }
   ],
   "source": [
    "print(\"Number of nonzero entries:\")\n",
    "len(document_matrix.nonzero())"
   ]
  },
  {
   "cell_type": "code",
   "execution_count": 14,
   "metadata": {},
   "outputs": [
    {
     "name": "stdout",
     "output_type": "stream",
     "text": [
      "Highest count:\n"
     ]
    },
    {
     "data": {
      "text/plain": [
       "7"
      ]
     },
     "execution_count": 14,
     "metadata": {},
     "output_type": "execute_result"
    }
   ],
   "source": [
    "print(\"Highest count:\")\n",
    "document_matrix.max()"
   ]
  },
  {
   "cell_type": "markdown",
   "metadata": {},
   "source": [
    "#### Inserting the result into a dataframe\n",
    "\n",
    "> **Note:** For huge text bodies continue working with the sparse matrix format. Many sklearn models can digest sparse matrices."
   ]
  },
  {
   "cell_type": "code",
   "execution_count": 15,
   "metadata": {
    "scrolled": true
   },
   "outputs": [
    {
     "data": {
      "text/html": [
       "<div>\n",
       "<style scoped>\n",
       "    .dataframe tbody tr th:only-of-type {\n",
       "        vertical-align: middle;\n",
       "    }\n",
       "\n",
       "    .dataframe tbody tr th {\n",
       "        vertical-align: top;\n",
       "    }\n",
       "\n",
       "    .dataframe thead th {\n",
       "        text-align: right;\n",
       "    }\n",
       "</style>\n",
       "<table border=\"1\" class=\"dataframe\">\n",
       "  <thead>\n",
       "    <tr style=\"text-align: right;\">\n",
       "      <th></th>\n",
       "      <th>00</th>\n",
       "      <th>000</th>\n",
       "      <th>2</th>\n",
       "      <th>750</th>\n",
       "      <th>8</th>\n",
       "      <th>86</th>\n",
       "      <th>ago</th>\n",
       "      <th>am</th>\n",
       "      <th>an</th>\n",
       "      <th>and</th>\n",
       "      <th>...</th>\n",
       "      <th>week</th>\n",
       "      <th>why</th>\n",
       "      <th>will</th>\n",
       "      <th>with</th>\n",
       "      <th>would</th>\n",
       "      <th>writing</th>\n",
       "      <th>x</th>\n",
       "      <th>years</th>\n",
       "      <th>you</th>\n",
       "      <th>your</th>\n",
       "    </tr>\n",
       "  </thead>\n",
       "  <tbody>\n",
       "    <tr>\n",
       "      <th>spam</th>\n",
       "      <td>1</td>\n",
       "      <td>1</td>\n",
       "      <td>1</td>\n",
       "      <td>1</td>\n",
       "      <td>1</td>\n",
       "      <td>1</td>\n",
       "      <td>1</td>\n",
       "      <td>2</td>\n",
       "      <td>2</td>\n",
       "      <td>3</td>\n",
       "      <td>...</td>\n",
       "      <td>1</td>\n",
       "      <td>1</td>\n",
       "      <td>2</td>\n",
       "      <td>2</td>\n",
       "      <td>0</td>\n",
       "      <td>0</td>\n",
       "      <td>0</td>\n",
       "      <td>2</td>\n",
       "      <td>2</td>\n",
       "      <td>2</td>\n",
       "    </tr>\n",
       "    <tr>\n",
       "      <th>ham</th>\n",
       "      <td>0</td>\n",
       "      <td>0</td>\n",
       "      <td>0</td>\n",
       "      <td>0</td>\n",
       "      <td>0</td>\n",
       "      <td>0</td>\n",
       "      <td>0</td>\n",
       "      <td>1</td>\n",
       "      <td>1</td>\n",
       "      <td>2</td>\n",
       "      <td>...</td>\n",
       "      <td>0</td>\n",
       "      <td>0</td>\n",
       "      <td>1</td>\n",
       "      <td>1</td>\n",
       "      <td>1</td>\n",
       "      <td>1</td>\n",
       "      <td>1</td>\n",
       "      <td>0</td>\n",
       "      <td>4</td>\n",
       "      <td>1</td>\n",
       "    </tr>\n",
       "  </tbody>\n",
       "</table>\n",
       "<p>2 rows × 115 columns</p>\n",
       "</div>"
      ],
      "text/plain": [
       "      00  000  2  750  8  86  ago  am  an  and  ...   week  why  will  with  \\\n",
       "spam   1    1  1    1  1   1    1   2   2    3  ...      1    1     2     2   \n",
       "ham    0    0  0    0  0   0    0   1   1    2  ...      0    0     1     1   \n",
       "\n",
       "      would  writing  x  years  you  your  \n",
       "spam      0        0  0      2    2     2  \n",
       "ham       1        1  1      0    4     1  \n",
       "\n",
       "[2 rows x 115 columns]"
      ]
     },
     "execution_count": 15,
     "metadata": {},
     "output_type": "execute_result"
    }
   ],
   "source": [
    "# create dataframe\n",
    "import pandas as pd\n",
    "df=pd.DataFrame(data=document_matrix.toarray(),columns=cv.get_feature_names(),index=['spam','ham'])\n",
    "df"
   ]
  },
  {
   "cell_type": "code",
   "execution_count": 16,
   "metadata": {},
   "outputs": [],
   "source": [
    "# sort columns "
   ]
  },
  {
   "cell_type": "markdown",
   "metadata": {
    "slideshow": {
     "slide_type": "slide"
    }
   },
   "source": [
    "- ### Spend a couple of minutes scanning the documentation to figure out what those parameters do. \n",
    "\n",
    "Share a few takeaways from the documentation. What arguments and capabilities stand out to you? How do the arguments affect the parsing behavior?\n",
    "\n",
    "[Count Vectorizer Documentation](http://scikit-learn.org/stable/modules/generated/sklearn.feature_extraction.text.CountVectorizer.html)"
   ]
  },
  {
   "cell_type": "markdown",
   "metadata": {
    "slideshow": {
     "slide_type": "slide"
    }
   },
   "source": [
    "<a id='hash'></a>\n",
    "## Hashing\n",
    "\n",
    "---\n",
    "![](https://i.ytimg.com/vi/bs7Wq0Z1uYk/maxresdefault.jpg)"
   ]
  },
  {
   "cell_type": "markdown",
   "metadata": {
    "slideshow": {
     "slide_type": "slide"
    }
   },
   "source": [
    "A hash value (or simply hash), also called a message digest, is a number generated from a string of text. \n",
    "\n",
    "The hash is substantially smaller than the text itself, and is generated by a formula in such a way that it is extremely unlikely that some other text will produce the same hash value.\n",
    "\n",
    "Think of the hash as a code that represents the original text in a more condensed format."
   ]
  },
  {
   "cell_type": "markdown",
   "metadata": {
    "slideshow": {
     "slide_type": "slide"
    }
   },
   "source": [
    "<a name=\"hashingvectorizer\"></a>\n",
    "## Sklearn `HashingVectorizer`\n",
    "\n",
    "---\n",
    "\n",
    "As you have seen we can set the `CountVectorizer` dictionary to have a fixed size, only keeping words of certain frequencies, however, we still have to compute a dictionary and hold the dictionary in memory. This could be a problem when we have a large corpus or in streaming applications where we don't know which words we will encounter in the future.\n",
    "\n",
    "Both problems can be solved using the `HashingVectorizer`, which converts a collection of text documents to a matrix of occurrences calculated with the [hashing trick](https://en.wikipedia.org/wiki/Feature_hashing). Each word is mapped to a feature with the use of a [hash function](https://en.wikipedia.org/wiki/Hash_function) that converts it to a hash. If we encounter that word again in the text, it will be converted to the same hash, allowing us to count word occurence without retaining a dictionary in memory. This is very convenient!\n",
    "\n",
    "The main drawback of this trick is that it's *not possible to compute the inverse transform*, and thus we lose information on what words the important features correspond to. The hash function employed is the signed 32-bit version of Murmurhash3."
   ]
  },
  {
   "cell_type": "markdown",
   "metadata": {
    "slideshow": {
     "slide_type": "slide"
    }
   },
   "source": [
    "- ### What characteristics should text feature extraction from text satisfy?"
   ]
  },
  {
   "cell_type": "markdown",
   "metadata": {
    "slideshow": {
     "slide_type": "fragment"
    }
   },
   "source": [
    "> It should return a vector of fixed size, regardless of the length of a text."
   ]
  },
  {
   "cell_type": "markdown",
   "metadata": {
    "slideshow": {
     "slide_type": "slide"
    }
   },
   "source": [
    "- ### Using the code above as example, let's repeat the vectorization using a `HashingVectorizer`.\n",
    "\n",
    "> Look up how to do this and then try it.\n"
   ]
  },
  {
   "cell_type": "code",
   "execution_count": 17,
   "metadata": {},
   "outputs": [],
   "source": [
    "from sklearn.feature_extraction.text import HashingVectorizer"
   ]
  },
  {
   "cell_type": "code",
   "execution_count": 18,
   "metadata": {
    "scrolled": true,
    "slideshow": {
     "slide_type": "fragment"
    }
   },
   "outputs": [],
   "source": [
    "# 1- initialize vectorizer \n",
    "has=HashingVectorizer()"
   ]
  },
  {
   "cell_type": "code",
   "execution_count": 19,
   "metadata": {
    "scrolled": true
   },
   "outputs": [
    {
     "data": {
      "text/plain": [
       "HashingVectorizer(alternate_sign=True, analyzer='word', binary=False,\n",
       "         decode_error='strict', dtype=<class 'numpy.float64'>,\n",
       "         encoding='utf-8', input='content', lowercase=True,\n",
       "         n_features=1048576, ngram_range=(1, 1), non_negative=False,\n",
       "         norm='l2', preprocessor=None, stop_words=None, strip_accents=None,\n",
       "         token_pattern='(?u)\\\\b\\\\w\\\\w+\\\\b', tokenizer=None)"
      ]
     },
     "execution_count": 19,
     "metadata": {},
     "output_type": "execute_result"
    }
   ],
   "source": [
    "# 2- fit vectorizer\n",
    "has.fit(spam_ham)"
   ]
  },
  {
   "cell_type": "code",
   "execution_count": 20,
   "metadata": {},
   "outputs": [
    {
     "ename": "SyntaxError",
     "evalue": "invalid syntax (<ipython-input-20-715c4ee35b80>, line 2)",
     "output_type": "error",
     "traceback": [
      "\u001b[0;36m  File \u001b[0;32m\"<ipython-input-20-715c4ee35b80>\"\u001b[0;36m, line \u001b[0;32m2\u001b[0m\n\u001b[0;31m    document_matrix =\u001b[0m\n\u001b[0m                     ^\u001b[0m\n\u001b[0;31mSyntaxError\u001b[0m\u001b[0;31m:\u001b[0m invalid syntax\n"
     ]
    }
   ],
   "source": [
    "# 3- trnsform (calculate weights)\n",
    "document_matrix ="
   ]
  },
  {
   "cell_type": "code",
   "execution_count": null,
   "metadata": {
    "scrolled": true
   },
   "outputs": [],
   "source": [
    "# create dataframe"
   ]
  },
  {
   "cell_type": "code",
   "execution_count": null,
   "metadata": {},
   "outputs": [],
   "source": [
    "# sort columns"
   ]
  },
  {
   "cell_type": "markdown",
   "metadata": {
    "slideshow": {
     "slide_type": "slide"
    }
   },
   "source": [
    "- ### What new parameters does this vectorizer offer?\n",
    "\n",
    "> Go to the documentation and compare to the `CountVectorizer`.\n",
    "\n",
    "[Hashing Vectorizer documentation](http://scikit-learn.org/stable/modules/generated/sklearn.feature_extraction.text.HashingVectorizer.html)"
   ]
  },
  {
   "cell_type": "markdown",
   "metadata": {},
   "source": [
    "<a name=\"tfidf\"></a>\n",
    "## Term frequency - inverse document frequency (tf-idf)\n",
    "\n",
    "---\n",
    "\n",
    "A tf-idf score tells us which words are most discriminating between documents. Words that occur a lot in one document but don't occur in many documents contain a great deal of discriminating power.\n",
    "\n",
    "- This weight is a statistical measure used to evaluate how important a word is to a document in a collection (aka corpus).\n",
    "- The importance increases proportionally to the number of times a word appears in the document but is offset by the frequency of the word in the corpus.\n",
    "\n",
    "Variations of the tf-idf weighting scheme are often used by search engines as a central tool in scoring and ranking a document's relevance given a user query.\n",
    "\n",
    "The inverse document frequency is a measure of how much information the word provides, that is, whether the term is common or rare across all documents. It is the logarithmically scaled inverse fraction of the documents that contain the word plus one, obtained by dividing the total number of documents by the number of documents containing the term plus one, and then taking the logarithm of that quotient.\n",
    "\n",
    "This enhances terms that are highly specific of a particular document, while suppressing terms that are common to most documents."
   ]
  },
  {
   "cell_type": "markdown",
   "metadata": {},
   "source": [
    "#### Let's see how it is calculated:\n",
    " * $t$ stands for the term of interest\n",
    " * $d$ represents a particular document, in a corpus $D$\n",
    " * $N$ represents the number of documents in corpus $D$\n",
    "\n",
    "Then term frequency (tf) is:\n",
    " \n",
    "### $$ tf(t,d) = \\frac{count(t)}{length(d)} $$\n",
    "\n",
    "And inverse document frequency (idf) is:\n",
    "$$ \\mathrm{idf}(t, D) = \\log\\left(\\frac{N_\\text{Documents}}{N_\\text{Documents that contain term}}\\right) $$\n",
    "\n",
    "* The denominator translates as \"for all documents in the corpus where term _t_ appears\"\n",
    "\n",
    "Then term frequency inverse document frequency (tf-idf) is:\n",
    "\n",
    "### $$ tfidf(t,d,D) = tf(t,d) * idf(t,D) $$"
   ]
  },
  {
   "cell_type": "markdown",
   "metadata": {},
   "source": [
    "#### An example\n",
    "\n",
    "Consider the three sentences:\n",
    "\n",
    "    a) I have a cat.\n",
    "\n",
    "    b) I have a puppy.\n",
    "    \n",
    "    c) I have a dog, I have a kitten, and I have a pen.\n",
    "    \n",
    "- Calculate the tf-idf of the words `cat`, `have` and `puppy`.\n",
    "- On paper, sketch the values obtained in a 3-dimensional coordinate system.\n",
    "- Follow the default sklearn settings which will discard single letter words."
   ]
  },
  {
   "cell_type": "markdown",
   "metadata": {},
   "source": [
    "#### Tf-idf calculation"
   ]
  },
  {
   "cell_type": "code",
   "execution_count": 21,
   "metadata": {},
   "outputs": [],
   "source": [
    "import numpy as np"
   ]
  },
  {
   "cell_type": "code",
   "execution_count": 22,
   "metadata": {
    "scrolled": true
   },
   "outputs": [
    {
     "data": {
      "text/plain": [
       "['I have a cat',\n",
       " 'I have a puppy',\n",
       " 'I have a dog, I have a kitten, and I have a pen']"
      ]
     },
     "execution_count": 22,
     "metadata": {},
     "output_type": "execute_result"
    }
   ],
   "source": [
    "# corpus \n",
    "corpus = ['I have a cat',\n",
    "          'I have a puppy',\n",
    "          'I have a dog, I have a kitten, and I have a pen']\n",
    "corpus"
   ]
  },
  {
   "cell_type": "code",
   "execution_count": 23,
   "metadata": {},
   "outputs": [],
   "source": [
    "# Tf-idf from scratch\n",
    "word = 'cat'"
   ]
  },
  {
   "cell_type": "code",
   "execution_count": 24,
   "metadata": {
    "scrolled": false
   },
   "outputs": [
    {
     "data": {
      "text/plain": [
       "0.25"
      ]
     },
     "execution_count": 24,
     "metadata": {},
     "output_type": "execute_result"
    }
   ],
   "source": [
    "# calculate TF\n",
    "tf=corpus[0].count(word)/len(corpus[0].split())\n",
    "tf"
   ]
  },
  {
   "cell_type": "code",
   "execution_count": 25,
   "metadata": {},
   "outputs": [
    {
     "data": {
      "text/plain": [
       "1.0986122886681098"
      ]
     },
     "execution_count": 25,
     "metadata": {},
     "output_type": "execute_result"
    }
   ],
   "source": [
    "# calculate IDF\n",
    "idf=np.log(len(corpus)/sum([1 for i in corpus if word in i]))\n",
    "idf"
   ]
  },
  {
   "cell_type": "code",
   "execution_count": 26,
   "metadata": {},
   "outputs": [
    {
     "data": {
      "text/plain": [
       "0.27465307216702745"
      ]
     },
     "execution_count": 26,
     "metadata": {},
     "output_type": "execute_result"
    }
   ],
   "source": [
    "# calculate TF-IDF\n",
    "tf*idf"
   ]
  },
  {
   "cell_type": "markdown",
   "metadata": {},
   "source": [
    "<a id='tfidf-vec'></a>\n",
    "## Sklearn `TfidfVectorizer`\n",
    "\n",
    "---\n",
    "\n",
    "### Why Use TFIDF?\n",
    "\n",
    "- Common words are penalized\n",
    "- Rare words have more influence\n",
    "\n",
    "Sklearn provides a tf-idf vectorizer that works similarly to the other vectorizers we've covered. Notice that we can also eliminate stop words to improve our analysis."
   ]
  },
  {
   "cell_type": "markdown",
   "metadata": {},
   "source": [
    "#### Use the `TfidfVectorizer` to fit the spam and ham data."
   ]
  },
  {
   "cell_type": "code",
   "execution_count": 27,
   "metadata": {},
   "outputs": [],
   "source": [
    "from sklearn.feature_extraction.text import TfidfVectorizer"
   ]
  },
  {
   "cell_type": "code",
   "execution_count": 28,
   "metadata": {},
   "outputs": [],
   "source": [
    "# 1- initialize vectorizer\n",
    "vect=TfidfVectorizer(stop_words='english')"
   ]
  },
  {
   "cell_type": "markdown",
   "metadata": {},
   "source": [
    "These are the stopwords used by sklearn:"
   ]
  },
  {
   "cell_type": "code",
   "execution_count": 29,
   "metadata": {},
   "outputs": [
    {
     "data": {
      "text/plain": [
       "'english'"
      ]
     },
     "execution_count": 29,
     "metadata": {},
     "output_type": "execute_result"
    }
   ],
   "source": [
    "stopwords = vect.stop_words\n",
    "stopwords"
   ]
  },
  {
   "cell_type": "code",
   "execution_count": 30,
   "metadata": {},
   "outputs": [
    {
     "data": {
      "text/plain": [
       "TfidfVectorizer(analyzer='word', binary=False, decode_error='strict',\n",
       "        dtype=<class 'numpy.int64'>, encoding='utf-8', input='content',\n",
       "        lowercase=True, max_df=1.0, max_features=None, min_df=1,\n",
       "        ngram_range=(1, 1), norm='l2', preprocessor=None, smooth_idf=True,\n",
       "        stop_words='english', strip_accents=None, sublinear_tf=False,\n",
       "        token_pattern='(?u)\\\\b\\\\w\\\\w+\\\\b', tokenizer=None, use_idf=True,\n",
       "        vocabulary=None)"
      ]
     },
     "execution_count": 30,
     "metadata": {},
     "output_type": "execute_result"
    }
   ],
   "source": [
    "# 2- fit vectorizer\n",
    "vect.fit((spam,ham))"
   ]
  },
  {
   "cell_type": "code",
   "execution_count": 31,
   "metadata": {},
   "outputs": [],
   "source": [
    "# 3- trnsform (calculate weights)\n",
    "document_matrix = vect.transform((spam,ham))"
   ]
  },
  {
   "cell_type": "code",
   "execution_count": 32,
   "metadata": {},
   "outputs": [
    {
     "data": {
      "text/html": [
       "<div>\n",
       "<style scoped>\n",
       "    .dataframe tbody tr th:only-of-type {\n",
       "        vertical-align: middle;\n",
       "    }\n",
       "\n",
       "    .dataframe tbody tr th {\n",
       "        vertical-align: top;\n",
       "    }\n",
       "\n",
       "    .dataframe thead th {\n",
       "        text-align: right;\n",
       "    }\n",
       "</style>\n",
       "<table border=\"1\" class=\"dataframe\">\n",
       "  <thead>\n",
       "    <tr style=\"text-align: right;\">\n",
       "      <th></th>\n",
       "      <th>0</th>\n",
       "      <th>1</th>\n",
       "      <th>2</th>\n",
       "      <th>3</th>\n",
       "      <th>4</th>\n",
       "      <th>5</th>\n",
       "      <th>6</th>\n",
       "      <th>7</th>\n",
       "      <th>8</th>\n",
       "      <th>9</th>\n",
       "      <th>...</th>\n",
       "      <th>58</th>\n",
       "      <th>59</th>\n",
       "      <th>60</th>\n",
       "      <th>61</th>\n",
       "      <th>62</th>\n",
       "      <th>63</th>\n",
       "      <th>64</th>\n",
       "      <th>65</th>\n",
       "      <th>66</th>\n",
       "      <th>67</th>\n",
       "    </tr>\n",
       "  </thead>\n",
       "  <tbody>\n",
       "    <tr>\n",
       "      <th>0</th>\n",
       "      <td>0.145067</td>\n",
       "      <td>0.145067</td>\n",
       "      <td>0.145067</td>\n",
       "      <td>0.145067</td>\n",
       "      <td>0.145067</td>\n",
       "      <td>0.000000</td>\n",
       "      <td>0.000000</td>\n",
       "      <td>0.000000</td>\n",
       "      <td>0.000000</td>\n",
       "      <td>0.145067</td>\n",
       "      <td>...</td>\n",
       "      <td>0.145067</td>\n",
       "      <td>0.000000</td>\n",
       "      <td>0.000000</td>\n",
       "      <td>0.145067</td>\n",
       "      <td>0.145067</td>\n",
       "      <td>0.000000</td>\n",
       "      <td>0.145067</td>\n",
       "      <td>0.145067</td>\n",
       "      <td>0.000000</td>\n",
       "      <td>0.290133</td>\n",
       "    </tr>\n",
       "    <tr>\n",
       "      <th>1</th>\n",
       "      <td>0.000000</td>\n",
       "      <td>0.000000</td>\n",
       "      <td>0.000000</td>\n",
       "      <td>0.000000</td>\n",
       "      <td>0.000000</td>\n",
       "      <td>0.155195</td>\n",
       "      <td>0.155195</td>\n",
       "      <td>0.155195</td>\n",
       "      <td>0.155195</td>\n",
       "      <td>0.000000</td>\n",
       "      <td>...</td>\n",
       "      <td>0.000000</td>\n",
       "      <td>0.155195</td>\n",
       "      <td>0.155195</td>\n",
       "      <td>0.000000</td>\n",
       "      <td>0.000000</td>\n",
       "      <td>0.155195</td>\n",
       "      <td>0.000000</td>\n",
       "      <td>0.000000</td>\n",
       "      <td>0.155195</td>\n",
       "      <td>0.000000</td>\n",
       "    </tr>\n",
       "  </tbody>\n",
       "</table>\n",
       "<p>2 rows × 68 columns</p>\n",
       "</div>"
      ],
      "text/plain": [
       "         0         1         2         3         4         5         6   \\\n",
       "0  0.145067  0.145067  0.145067  0.145067  0.145067  0.000000  0.000000   \n",
       "1  0.000000  0.000000  0.000000  0.000000  0.000000  0.155195  0.155195   \n",
       "\n",
       "         7         8         9     ...           58        59        60  \\\n",
       "0  0.000000  0.000000  0.145067    ...     0.145067  0.000000  0.000000   \n",
       "1  0.155195  0.155195  0.000000    ...     0.000000  0.155195  0.155195   \n",
       "\n",
       "         61        62        63        64        65        66        67  \n",
       "0  0.145067  0.145067  0.000000  0.145067  0.145067  0.000000  0.290133  \n",
       "1  0.000000  0.000000  0.155195  0.000000  0.000000  0.155195  0.000000  \n",
       "\n",
       "[2 rows x 68 columns]"
      ]
     },
     "execution_count": 32,
     "metadata": {},
     "output_type": "execute_result"
    }
   ],
   "source": [
    "# create dataframe\n",
    "pd.DataFrame(document_matrix.toarray())"
   ]
  },
  {
   "cell_type": "code",
   "execution_count": 33,
   "metadata": {},
   "outputs": [],
   "source": [
    "# sort columns"
   ]
  },
  {
   "cell_type": "markdown",
   "metadata": {
    "slideshow": {
     "slide_type": "slide"
    }
   },
   "source": [
    "<a name=\"downsides-bow\"></a>\n",
    "## Downsides to bag-of-words\n",
    "\n",
    "---\n",
    "\n",
    "Bag-of-word approaches like the one outlined above completely ignore the structure of a sentence. Bag-of-word approaches merely assess presence of specific words or word combinations.\n",
    "\n",
    "The same word can have multiple meanings in different contexts. Consider for example the following two sentences:\n",
    "\n",
    "- There's wood floating in the **sea**.\n",
    "- Mike's in a **sea** of trouble with the move.\n",
    "\n",
    "How do we teach a computer to disambiguate? Later we will cover some other techniques that may help.\n"
   ]
  },
  {
   "cell_type": "markdown",
   "metadata": {
    "slideshow": {
     "slide_type": "slide"
    }
   },
   "source": [
    "<a id='segmentation'></a>\n",
    "## Segmentation\n",
    "\n",
    "---\n",
    "\n",
    "_Segmentation_ is a technique to **identify sentences** within a body of text. Language is not a continuous uninterrupted stream of words: punctuation serves as a guide to group together words that convey meaning when contiguous.\n"
   ]
  },
  {
   "cell_type": "code",
   "execution_count": 34,
   "metadata": {},
   "outputs": [],
   "source": [
    "easy_text = \"I went to the zoo today. What do you think of that? I bet you hate it, Or maybe you don't.\""
   ]
  },
  {
   "cell_type": "code",
   "execution_count": 35,
   "metadata": {},
   "outputs": [],
   "source": [
    "# Segmentation from scratch \n",
    "\n",
    "easy_text_list = []\n",
    "start = 0\n",
    "for i, c in enumerate(easy_text):\n",
    "    if c in ('.', ',', '?'):\n",
    "        easy_text_list.append(easy_text[start:i+1])\n",
    "        start = i+1"
   ]
  },
  {
   "cell_type": "code",
   "execution_count": 36,
   "metadata": {},
   "outputs": [
    {
     "data": {
      "text/plain": [
       "['I went to the zoo today.',\n",
       " ' What do you think of that?',\n",
       " ' I bet you hate it,',\n",
       " \" Or maybe you don't.\"]"
      ]
     },
     "execution_count": 36,
     "metadata": {},
     "output_type": "execute_result"
    }
   ],
   "source": [
    "easy_text_list"
   ]
  },
  {
   "cell_type": "markdown",
   "metadata": {},
   "source": [
    "<a id='nltk-sentencer'></a>\n",
    "- ### There's an easier way to do the same thing!"
   ]
  },
  {
   "cell_type": "markdown",
   "metadata": {},
   "source": [
    "<a name=\"install\"></a>\n",
    "### Install (Natural Language Tool Kit) NLTK packages\n",
    "\n",
    "First, in your terminal, run \n",
    "\n",
    "```bash\n",
    "pip install nltk\n",
    "```\n",
    "\n",
    "Then within python, run the following:\n",
    "\n",
    "```python\n",
    "import nltk\n",
    "nltk.download('averaged_perceptron_tagger')\n",
    "nltk.download('stopwords')\n",
    "```"
   ]
  },
  {
   "cell_type": "markdown",
   "metadata": {
    "slideshow": {
     "slide_type": "slide"
    }
   },
   "source": [
    "- ### Use `nltk.download()` to explore the available packages."
   ]
  },
  {
   "cell_type": "code",
   "execution_count": 65,
   "metadata": {
    "slideshow": {
     "slide_type": "-"
    }
   },
   "outputs": [
    {
     "name": "stdout",
     "output_type": "stream",
     "text": [
      "[nltk_data] Downloading package stopwords to\n",
      "[nltk_data]     /Users/shadow/nltk_data...\n",
      "[nltk_data]   Unzipping corpora/stopwords.zip.\n"
     ]
    },
    {
     "data": {
      "text/plain": [
       "True"
      ]
     },
     "execution_count": 65,
     "metadata": {},
     "output_type": "execute_result"
    }
   ],
   "source": [
    "import nltk\n",
    "#nltk.download('stopwords')"
   ]
  },
  {
   "cell_type": "code",
   "execution_count": 38,
   "metadata": {},
   "outputs": [],
   "source": [
    "#!pip install nltk"
   ]
  },
  {
   "cell_type": "code",
   "execution_count": 39,
   "metadata": {},
   "outputs": [],
   "source": [
    "from nltk.tokenize import PunktSentenceTokenizer"
   ]
  },
  {
   "cell_type": "code",
   "execution_count": 40,
   "metadata": {},
   "outputs": [
    {
     "data": {
      "text/plain": [
       "['I went to the zoo today.',\n",
       " 'What do you think of that?',\n",
       " \"I bet you hate it, Or maybe you don't.\"]"
      ]
     },
     "execution_count": 40,
     "metadata": {},
     "output_type": "execute_result"
    }
   ],
   "source": [
    "seg=PunktSentenceTokenizer()\n",
    "seg.sentences_from_text(easy_text)"
   ]
  },
  {
   "cell_type": "markdown",
   "metadata": {
    "slideshow": {
     "slide_type": "slide"
    }
   },
   "source": [
    "<a name=\"stem-nltk\"></a>\n",
    "## Stemming with NLTK\n",
    "\n",
    "---\n",
    "\n",
    "**Text normalization** is the process of converting slightly different versions of words with essentially equivalent meaning into the same features.\n",
    "\n",
    "For example: LinkedIn sees 6000+ variations of the title \"Software Engineer\" and 8000+ variations of the word \"IBM\".\n",
    "\n",
    "- ### What are other common cases of text that could need normalization?\n"
   ]
  },
  {
   "cell_type": "markdown",
   "metadata": {
    "slideshow": {
     "slide_type": "fragment"
    }
   },
   "source": [
    "    - Person titles (Mr, MR, Dr etc.)\n",
    "    - Dates (10/03, March 10 etc.)\n",
    "    - Numbers\n",
    "    - Plurals\n",
    "    - Verb conjugations\n",
    "    - Slang\n",
    "    - SMS abbreviations"
   ]
  },
  {
   "cell_type": "markdown",
   "metadata": {
    "slideshow": {
     "slide_type": "slide"
    }
   },
   "source": [
    "It would be wrong to consider the words \"MR.\" and \"mr\" to be different features, thus we need a technique to normalize words to a common root. This technique is called _stemming_.\n",
    "\n",
    "- Science, Scientist => Scien\n",
    "- Swimming, Swimmer, Swim => Swim"
   ]
  },
  {
   "cell_type": "markdown",
   "metadata": {},
   "source": [
    "As we did above we could define a Stemmer based on rules:"
   ]
  },
  {
   "cell_type": "code",
   "execution_count": 41,
   "metadata": {},
   "outputs": [],
   "source": [
    "# Stemming from scratch \n",
    "\n",
    "def stem(tokens):\n",
    "    '''rule-based stemming of a bunch of tokens'''\n",
    "\n",
    "    new_bag = []\n",
    "    for token in tokens:\n",
    "        # define rules here\n",
    "        if token.endswith('s'):\n",
    "            new_bag.append(token[:-1])\n",
    "        elif token.endswith('er'):\n",
    "            new_bag.append(token[:-2])\n",
    "        elif token.endswith('ce'):\n",
    "            new_bag.append(token[:-2])\n",
    "        elif token.endswith('tion'):\n",
    "            new_bag.append(token[:-4])\n",
    "        elif token.endswith('tist'):\n",
    "            new_bag.append(token[:-4])\n",
    "        elif token.endswith('ing'):\n",
    "            new_bag.append(token[:-3])\n",
    "        else:\n",
    "            new_bag.append(token)\n",
    "\n",
    "    return new_bag"
   ]
  },
  {
   "cell_type": "code",
   "execution_count": 42,
   "metadata": {},
   "outputs": [
    {
     "name": "stdout",
     "output_type": "stream",
     "text": [
      "['Science', 'Scientist', 'Scientists']\n"
     ]
    }
   ],
   "source": [
    "list_science = ['Science', 'Scientist', 'Scientists']\n",
    "print(list_science)"
   ]
  },
  {
   "cell_type": "code",
   "execution_count": 43,
   "metadata": {},
   "outputs": [
    {
     "name": "stdout",
     "output_type": "stream",
     "text": [
      "['player', 'plays', 'playing']\n"
     ]
    }
   ],
   "source": [
    "list_play = ['player', 'plays', 'playing']\n",
    "print(list_play)"
   ]
  },
  {
   "cell_type": "markdown",
   "metadata": {},
   "source": [
    "Luckily for us, NLTK contains several robust stemmers."
   ]
  },
  {
   "cell_type": "code",
   "execution_count": 44,
   "metadata": {
    "slideshow": {
     "slide_type": "slide"
    }
   },
   "outputs": [],
   "source": [
    "from nltk.stem import PorterStemmer"
   ]
  },
  {
   "cell_type": "code",
   "execution_count": 54,
   "metadata": {},
   "outputs": [
    {
     "name": "stdout",
     "output_type": "stream",
     "text": [
      "walk\n",
      "walk\n",
      "walk\n"
     ]
    }
   ],
   "source": [
    "#'walks' - 'walked' - 'Walking'\n",
    "stem=PorterStemmer()\n",
    "print(stem.stem('walk'))\n",
    "print(stem.stem('walking'))\n",
    "print(stem.stem('walked'))"
   ]
  },
  {
   "cell_type": "markdown",
   "metadata": {
    "slideshow": {
     "slide_type": "slide"
    }
   },
   "source": [
    "<a id='group'></a>\n",
    "### Stemming approaches\n",
    "\n",
    "\n",
    "> There are other stemmers available in NLTK. Look at [this article](https://www.elastic.co/guide/en/elasticsearch/guide/current/choosing-a-stemmer.html) to find out about different stemmers. Have a look how it works in different languages."
   ]
  },
  {
   "cell_type": "markdown",
   "metadata": {},
   "source": [
    "<a id='stopwords'></a>\n",
    "## Stop words\n",
    "\n",
    "---\n",
    "\n",
    "Some words are very common and provide no legitimate information about the content of the text.\n",
    "\n",
    "- ### Can you give some examples?\n",
    "\n",
    "> We should remove these _stop words_. Note that each language has different stop words."
   ]
  },
  {
   "cell_type": "code",
   "execution_count": 66,
   "metadata": {},
   "outputs": [],
   "source": [
    "from nltk.corpus import stopwords"
   ]
  },
  {
   "cell_type": "code",
   "execution_count": 67,
   "metadata": {},
   "outputs": [],
   "source": [
    "sentence = \"this is a foo bar sentence\""
   ]
  },
  {
   "cell_type": "code",
   "execution_count": 71,
   "metadata": {},
   "outputs": [
    {
     "data": {
      "text/plain": [
       "['i', 'me', 'my', 'myself', 'we', 'our', 'ours', 'ourselves', 'you', \"you're\"]"
      ]
     },
     "execution_count": 71,
     "metadata": {},
     "output_type": "execute_result"
    }
   ],
   "source": [
    "# print sentence without stopwords\n",
    "stop=stopwords.words('english')\n",
    "stop[:10]"
   ]
  },
  {
   "cell_type": "code",
   "execution_count": 49,
   "metadata": {},
   "outputs": [],
   "source": [
    "#How many stop words"
   ]
  },
  {
   "cell_type": "markdown",
   "metadata": {},
   "source": [
    "<a id='pos'></a>\n",
    "## Part of speech tagging\n",
    "\n",
    "---\n",
    "\n",
    "Each word has a specific role in a sentence (Verb, Noun, etc.). Parts-of-speech tagging (POS) is a feature extraction technique that attaches a tag to each word in the sentence in order to provide a more precise context for further analysis. This is often a resource intensive process, but it can sometimes improve the accuracy of our models to have the grammatical features."
   ]
  },
  {
   "cell_type": "code",
   "execution_count": 72,
   "metadata": {},
   "outputs": [],
   "source": [
    "from nltk.tag import pos_tag\n",
    "from nltk.tokenize import WordPunctTokenizer"
   ]
  },
  {
   "cell_type": "code",
   "execution_count": 73,
   "metadata": {},
   "outputs": [],
   "source": [
    "sentance = \"today is a great day to learn nlp\""
   ]
  },
  {
   "cell_type": "code",
   "execution_count": 74,
   "metadata": {},
   "outputs": [
    {
     "data": {
      "text/plain": [
       "['today', 'is', 'a', 'great', 'day', 'to', 'learn', 'nlp']"
      ]
     },
     "execution_count": 74,
     "metadata": {},
     "output_type": "execute_result"
    }
   ],
   "source": [
    "# tokenization\n",
    "tok = WordPunctTokenizer()\n",
    "sentance = tok.tokenize(sentance)\n",
    "sentance "
   ]
  },
  {
   "cell_type": "code",
   "execution_count": 77,
   "metadata": {},
   "outputs": [
    {
     "data": {
      "text/plain": [
       "{'today': 'NN',\n",
       " 'is': 'VBZ',\n",
       " 'a': 'DT',\n",
       " 'great': 'JJ',\n",
       " 'day': 'NN',\n",
       " 'to': 'TO',\n",
       " 'learn': 'VB',\n",
       " 'nlp': 'NN'}"
      ]
     },
     "execution_count": 77,
     "metadata": {},
     "output_type": "execute_result"
    }
   ],
   "source": [
    "#nltk.download('averaged_perceptron_tagger')\n",
    "tags = dict(pos_tag(sentance))\n",
    "tags"
   ]
  },
  {
   "cell_type": "markdown",
   "metadata": {},
   "source": [
    "Here is the explanation for the abbreviations:"
   ]
  },
  {
   "cell_type": "markdown",
   "metadata": {},
   "source": [
    "<a id='unicode'></a>\n",
    "## Unicode: a common pitfall\n",
    "\n",
    "What happens when we get a character that is referenced outside of the character space, for instance a German umlaut **&ouml;** or a Japanese Katakana character  **片仮名 / カタカナ**?\n",
    "\n",
    "\n",
    "- Python doesn't know how to handle these characters if it has to process it in any way\n",
    "- Characters outside the Latin character space will get converted to ordinal 0\n",
    "- This problem can be very frustrating to deal with\n",
    "\n",
    "Luckily, sklearn has robust classes for text feature extraction. Use sklearn's built-in text preprocessing method when possible.  Always save/encode your text as UTF8 when there are options available to do so."
   ]
  },
  {
   "cell_type": "markdown",
   "metadata": {
    "slideshow": {
     "slide_type": "slide"
    }
   },
   "source": [
    "<a name=\"conclusion\"></a>\n",
    "## Conclusion\n",
    "\n",
    "---\n",
    "\n",
    "In this lesson we obtained an overview of Natural Language Processing (NLP) and learned about two very powerful toolkits:\n",
    "- Scikit Learn Feature Extraction Text\n",
    "- Natural Language Tool Kit"
   ]
  },
  {
   "cell_type": "markdown",
   "metadata": {
    "slideshow": {
     "slide_type": "slide"
    }
   },
   "source": [
    "#### Some real world applications of these techniques:"
   ]
  },
  {
   "cell_type": "markdown",
   "metadata": {
    "slideshow": {
     "slide_type": "fragment"
    }
   },
   "source": [
    "- Spam Detection\n",
    "- Preprocessing for larger NLP problems\n",
    "- Job market analysis\n",
    "- Crude topic analyis\n",
    "- Building a keyword extractation heuristic and piping it into a marketing analysis "
   ]
  },
  {
   "cell_type": "markdown",
   "metadata": {
    "slideshow": {
     "slide_type": "slide"
    }
   },
   "source": [
    "<a id='resources'></a>\n",
    "## Additional resources\n",
    "\n",
    "---\n",
    "\n",
    "- Check out this [Yelp blog post](http://engineeringblog.yelp.com/2015/09/automatically-categorizing-yelp-businesses.html) how they completed a classification task (with over 1000 response variables!) using restaurant review text\n",
    "- A list of all stop-words is available [here](https://github.com/ga-students/DSI-DC-2/blob/master/curriculum/Week-05/5.04-nlp/stop-words.txt) h/t sleevillanueva\n",
    "- Wikpedia's [feature hashing](https://github.com/generalassembly-studio/DSI-course-materials/tree/master/curriculum/04-lessons/week-06/4.1-lesson) and [hash functions](https://en.wikipedia.org/wiki/Hash_function) is a great place to turn for more info on hashing\n",
    "- This lesson made use of Charlie Greenbacher's [Intro to NLP](http://spark-public.s3.amazonaws.com/nlp/slides/intro.pdf), which he delivered at the [DC-NLP Meetup](http://www.meetup.com/DC-NLP/) \n",
    "- Wikipedia includes a [walkthrough](https://en.wikipedia.org/wiki/Tf%E2%80%93idf) of TF-IDF\n",
    "- Play with Google's [ngram tool](https://books.google.com/ngrams/graph?content=data+science&year_start=1800&year_end=2000&corpus=15&smoothing=3&share=&direct_url=t1%3B%2Cdata%20science%3B%2Cc0)\n",
    "- A hilarious data scientist gone rogue used NLP and Eigenfaces (Eigenvalues for face recognition) [for Tinder](http://dataconomy.com/hacking-tinder-with-facial-recognition-nlp/)\n",
    "- Check out KPCB's 2016 internet trends [this massive, insightful deck](http://www.kpcb.com/internet-trends)\n",
    "- [Choosing a Stemmer](https://www.elastic.co/guide/en/elasticsearch/guide/current/choosing-a-stemmer.html)\n",
    "- Check documentation: [CountVectorizer](http://scikit-learn.org/stable/modules/generated/sklearn.feature_extraction.text.CountVectorizer.html), [HashingVectorizer](http://scikit-learn.org/stable/modules/generated/sklearn.feature_extraction.text.HashingVectorizer.html), [TF-IDF](http://scikit-learn.org/stable/modules/generated/sklearn.feature_extraction.text.TfidfVectorizer.html)\n",
    "- [Feature Hashing](https://en.wikipedia.org/wiki/Feature_hashing)\n",
    "- [Term Frequency Inverse Document Frequency](https://en.wikipedia.org/wiki/Tf%E2%80%93idf)"
   ]
  }
 ],
 "metadata": {
  "anaconda-cloud": {},
  "kernelspec": {
   "display_name": "Python 3",
   "language": "python",
   "name": "python3"
  },
  "language_info": {
   "codemirror_mode": {
    "name": "ipython",
    "version": 3
   },
   "file_extension": ".py",
   "mimetype": "text/x-python",
   "name": "python",
   "nbconvert_exporter": "python",
   "pygments_lexer": "ipython3",
   "version": "3.7.0"
  },
  "toc": {
   "nav_menu": {},
   "number_sections": false,
   "sideBar": true,
   "skip_h1_title": true,
   "title_cell": "Table of Contents",
   "title_sidebar": "Contents",
   "toc_cell": false,
   "toc_position": {
    "height": "270px",
    "left": "0px",
    "right": "570.286px",
    "top": "145px",
    "width": "153px"
   },
   "toc_section_display": "block",
   "toc_window_display": false
  }
 },
 "nbformat": 4,
 "nbformat_minor": 1
}
