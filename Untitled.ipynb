{
 "cells": [
  {
   "cell_type": "code",
   "execution_count": 5,
   "metadata": {},
   "outputs": [
    {
     "name": "stdout",
     "output_type": "stream",
     "text": [
      "4\n",
      "insert 0 5\n",
      "insert 0 6\n",
      "append 9\n",
      "remove 6\n"
     ]
    }
   ],
   "source": [
    "N = int(input())\n",
    "lst = []\n",
    "#get as many command inputs as N specifies \n",
    "for i in range(N):\n",
    "    # read in command from user\n",
    "    cmd = input() # example: 'insert' '0' '5'\n",
    "    # split to cmd and values\n",
    "    cmd = cmd.split(' ')\n",
    "    # if insert\n",
    "    if cmd[0] == 'insert':\n",
    "        # add to placeholder list\n",
    "        lst.insert(int(cmd[1]),int(cmd[2]))\n",
    "    elif cmd[0] == 'print':\n",
    "        print(lst)\n",
    "    elif cmd[0] =='pop':\n",
    "        lst.pop()\n",
    "    elif cmd[0] =='append':\n",
    "        lst.append(int(cmd[1]))\n",
    "    elif cmd[0] =='remove':\n",
    "        lst.remove(int(cmd[1]))\n",
    "    elif cmd[0] =='sort':\n",
    "        lst.sort()\n",
    "    elif cmd[0] == 'reverse':\n",
    "        lst.reverse()"
   ]
  },
  {
   "cell_type": "code",
   "execution_count": 6,
   "metadata": {},
   "outputs": [
    {
     "data": {
      "text/plain": [
       "[5, 9]"
      ]
     },
     "execution_count": 6,
     "metadata": {},
     "output_type": "execute_result"
    }
   ],
   "source": [
    "lst"
   ]
  },
  {
   "cell_type": "code",
   "execution_count": null,
   "metadata": {},
   "outputs": [],
   "source": [
    "# 12\n",
    "# insert 0 5\n",
    "# insert 1 10\n",
    "# insert 0 6\n",
    "# print\n",
    "# remove 6\n",
    "# append 9\n",
    "# append 1\n",
    "# sort\n",
    "# print\n",
    "# pop\n",
    "# reverse\n",
    "# print"
   ]
  }
 ],
 "metadata": {
  "kernelspec": {
   "display_name": "Python 3",
   "language": "python",
   "name": "python3"
  },
  "language_info": {
   "codemirror_mode": {
    "name": "ipython",
    "version": 3
   },
   "file_extension": ".py",
   "mimetype": "text/x-python",
   "name": "python",
   "nbconvert_exporter": "python",
   "pygments_lexer": "ipython3",
   "version": "3.6.5"
  }
 },
 "nbformat": 4,
 "nbformat_minor": 2
}
